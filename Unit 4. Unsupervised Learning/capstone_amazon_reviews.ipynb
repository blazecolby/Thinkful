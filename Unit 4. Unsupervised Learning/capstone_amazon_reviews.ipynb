{
 "cells": [
  {
   "cell_type": "code",
   "execution_count": 1,
   "metadata": {
    "colab": {
     "base_uri": "https://localhost:8080/",
     "height": 50
    },
    "colab_type": "code",
    "id": "TYaYUef17foi",
    "outputId": "d0e9a341-8ea2-4d8e-bc7a-eec184e75650"
   },
   "outputs": [],
   "source": [
    "import pandas as pd, numpy as np, xgboost as xgb, seaborn as sns, matplotlib.pyplot as plt, warnings as wn\n",
    "import re, nltk, spacy, scipy, sklearn\n",
    "from nltk.corpus import stopwords\n",
    "from scipy.spatial.distance import cdist\n",
    "from xgboost.sklearn import XGBClassifier\n",
    "from sklearn import ensemble, preprocessing\n",
    "from sklearn.linear_model import LogisticRegression\n",
    "from sklearn.ensemble import RandomForestClassifier\n",
    "from sklearn.decomposition import TruncatedSVD, PCA\n",
    "from sklearn.pipeline import make_pipeline, Pipeline\n",
    "from sklearn.preprocessing import Normalizer, MinMaxScaler\n",
    "from sklearn.feature_extraction.text import TfidfVectorizer\n",
    "from sklearn.model_selection import train_test_split, cross_val_score, RandomizedSearchCV\n",
    "from sklearn.metrics import adjusted_rand_score, silhouette_score, confusion_matrix, classification_report\n",
    "from sklearn.cluster import KMeans, MiniBatchKMeans, MeanShift, estimate_bandwidth, SpectralClustering, AffinityPropagation\n",
    "wn.filterwarnings('ignore')\n",
    "nlp = spacy.load('en')"
   ]
  },
  {
   "cell_type": "code",
   "execution_count": 2,
   "metadata": {
    "colab": {},
    "colab_type": "code",
    "id": "2HaUp9cz7geq"
   },
   "outputs": [],
   "source": [
    "df = pd.read_csv('Reviews.csv')\n",
    "df.drop( ['Id','ProductId','UserId','Score',\n",
    "         'HelpfulnessNumerator','HelpfulnessDenominator',\n",
    "         'Time', 'Summary'],axis=1,inplace=True )\n",
    "\n",
    "df.drop_duplicates( subset=['Text'], keep='first', inplace=True )  \n",
    "\n",
    "def text_clean(text):    \n",
    "    text = re.sub(r'--',' ',text)\n",
    "    text = re.sub(r'<a\\s+href=(?:\"([^\"]+)\"|\\'([^\\']+)\\').*?>(.*?)</a>',' ', text)\n",
    "    text = ' '.join(text.split())\n",
    "    text = text.lower()\n",
    "    return text\n",
    "  \n",
    "df['Clean'] = df['Text'].apply( lambda x: text_clean(x) )\n",
    "lemma = spacy.lang.en.English()\n",
    "\n",
    "def lemma_text(text):\n",
    "    tokens = lemma(text) \n",
    "    return( [token.lemma_ for token in tokens if not token.is_punct and not token.is_stop] )\n",
    "\n",
    "df['lemma_text'] = df.Clean.apply(lemma_text)\n",
    "X = df['Clean']\n",
    "y = df['ProfileName']\n",
    "\n",
    "X_train, X_test, y_train, y_test = train_test_split(X, y, test_size=0.25, random_state=0)\n",
    "\n",
    "feature_df = pd.DataFrame()\n",
    "feature_df['word_cnt'] = [ len(x.split()) for x in X_train.tolist() ]\n",
    "feature_df['exclamation'] = X_train.str.findall(r'[!]').str.len()\n",
    "feature_df['period'] = X_train.str.findall(r'[.]').str.len()\n",
    "feature_df['question'] = X_train.str.findall(r'[?]').str.len()\n",
    "feature_df['text'] = X_train\n",
    "feature_df['ProfileName'] = y_train"
   ]
  },
  {
   "cell_type": "code",
   "execution_count": 3,
   "metadata": {
    "colab": {
     "base_uri": "https://localhost:8080/",
     "height": 34
    },
    "colab_type": "code",
    "id": "0M8sJASp8GRT",
    "outputId": "bfedc1f4-267a-495a-f724-22d1bc4e785b"
   },
   "outputs": [
    {
     "name": "stdout",
     "output_type": "stream",
     "text": [
      "Number of features: 69625\n",
      "Percent variance of all components: [ 0.31311661  1.17869984  1.98779718  2.55377621  3.04930584  3.47560897\n",
      "  3.86132683  4.23280303  4.58171207  4.91743958  5.24016254  5.55404242\n",
      "  5.86587332  6.16836473  6.46482164  6.74886479  7.02424044  7.29193944\n",
      "  7.5570978   7.81829406  8.06780368  8.30952367  8.54606296  8.78070512\n",
      "  9.01083679  9.23471531  9.4566299   9.6746956   9.89194493 10.10043845\n",
      " 10.30769155 10.51133878 10.7118246  10.9096795  11.10277952 11.2938812\n",
      " 11.48298735 11.66830749 11.85054658 12.03018995 12.20692233 12.38099035\n",
      " 12.55376066 12.72547972 12.89604663 13.0626451  13.22835862 13.39218454\n",
      " 13.55449378 13.71339217 13.87200284 14.02987695 14.18697649 14.34286393\n",
      " 14.49735625 14.65110637 14.80287849 14.95275608 15.10190287 15.25061224\n",
      " 15.39752174 15.54357905 15.68804241 15.83238057 15.97569363 16.11610574\n",
      " 16.25569688 16.39437193 16.53180859 16.66836392 16.80437828 16.93992058\n",
      " 17.07527674 17.20905032 17.34196367 17.47361322 17.60464839 17.73506871\n",
      " 17.86440408 17.99340599 18.12173913 18.24809749 18.37377265 18.49903207\n",
      " 18.62363857 18.74757365 18.8705083  18.99286293 19.11463584 19.2359196\n",
      " 19.35654228 19.47582588 19.5948483  19.71298546 19.83100989 19.94821465\n",
      " 20.06475216 20.18036144 20.29547231 20.40993454 20.52406064 20.63760682\n",
      " 20.75080975 20.86371315 20.97619886 21.08794477 21.1993373  21.31028117\n",
      " 21.4209654  21.53111225 21.64096278 21.7499819  21.85838353 21.96662334\n",
      " 22.07456165 22.1816922  22.28846767 22.39494296 22.5010145  22.60682603\n",
      " 22.71252882 22.81734192 22.92169177 23.02552107 23.12913541 23.23197756\n",
      " 23.33378001 23.43540142 23.53671222 23.63688139 23.73692008 23.83637178\n",
      " 23.93560736 24.03437377 24.13246964 24.23024309 24.32761073 24.4244947\n",
      " 24.52062839 24.61634249 24.71115848 24.80566074 24.89960662 24.99328255\n",
      " 25.08654084 25.17936509 25.27189262 25.36413459 25.45570418 25.54639388\n",
      " 25.63693989 25.72653267 25.81580796 25.90450312 25.99249775 26.08016516\n",
      " 26.16733734 26.25430481 26.34100855 26.42694696 26.51275765 26.5982507\n",
      " 26.68357195 26.76854165 26.85334637 26.93759937 27.02180765 27.10563228\n",
      " 27.18911853 27.27238236 27.3553668  27.43808561 27.52021128 27.60223934\n",
      " 27.68391689 27.76549899 27.8465617  27.92731216 28.00788315 28.08820227\n",
      " 28.16809728 28.24783512 28.32741166 28.4066698  28.4858421  28.56490214\n",
      " 28.64367522 28.72235413 28.80019204 28.87789835 28.95542666 29.03274616\n",
      " 29.10990849 29.1868507  29.26358655 29.34008142 29.41629467 29.49230888\n",
      " 29.56820644 29.64386667 29.71932784 29.79432111 29.8692069  29.94394898\n",
      " 30.01856513 30.09293822 30.16702986 30.24102864 30.3147655  30.38839358\n",
      " 30.46179441 30.53508151 30.60808642 30.68103645 30.75373353 30.82606773\n",
      " 30.89820735 30.9701479  31.04188976 31.11349412 31.18491853 31.25618057\n",
      " 31.32743043 31.39853176 31.46935274 31.54010746 31.61074201 31.68118644\n",
      " 31.75152571 31.821792   31.89169414 31.96150737 32.03075874 32.09997724\n",
      " 32.16898868 32.23791041 32.3067331  32.37531675 32.44374264 32.51197525\n",
      " 32.58019009 32.64806903 32.71579674 32.78316859 32.85024646 32.91722022\n",
      " 32.9840428  33.05066549 33.11711764 33.18335387 33.24925533 33.3150472\n",
      " 33.38056366 33.44599299 33.51126218 33.57632952 33.64125096 33.70578708\n",
      " 33.7702387  33.83449697 33.8986825  33.96271761 34.02654424 34.0901488\n",
      " 34.15360436 34.21701181 34.28025561 34.34333526 34.40637901 34.46928561\n",
      " 34.53197294 34.59444716 34.6568027  34.71897333 34.78104637 34.84299814\n",
      " 34.90464737 34.96607317 35.02734861 35.08844685 35.14941468 35.21019039\n",
      " 35.2708069  35.33129127 35.39172328 35.45205075 35.51208474 35.57204827\n",
      " 35.63186903 35.69165764 35.75127403 35.81063729 35.8699398  35.92912453\n",
      " 35.9881253  36.04696612 36.10559429 36.16407906 36.22237702 36.28062824\n",
      " 36.33871667 36.3964585  36.45413456 36.51154836 36.56879347 36.62598548\n",
      " 36.68294803 36.73972728 36.79627773 36.85257422 36.90882954 36.96495663\n",
      " 37.02099354 37.07691021 37.13256564 37.18803041 37.24338226 37.29865535\n",
      " 37.35376672 37.40883764 37.46376959 37.5184947  37.57301775 37.62746101\n",
      " 37.68188007 37.73615712 37.79027851 37.84437313 37.89828939 37.9521115\n",
      " 38.00587748 38.05944618 38.11286832 38.16617595 38.21914946 38.27211046\n",
      " 38.32495507 38.37764501 38.43022575 38.4826135  38.53498267 38.58718755\n",
      " 38.63929574 38.69138531 38.74337937 38.79511908 38.84675029 38.89831484\n",
      " 38.94968526 39.00091984 39.05205022 39.10309876 39.15390683 39.20450336\n",
      " 39.2550502  39.30552321 39.3558737  39.40615397 39.45638822 39.50650903\n",
      " 39.55647959 39.60631856 39.65612081 39.70576234 39.7553032  39.80480339\n",
      " 39.85416755 39.90349528 39.95279033 40.0019585  40.05100993 40.0999719\n",
      " 40.1488827  40.1977185  40.24641469 40.29497895 40.3434154  40.39179649\n",
      " 40.44014289 40.48834108 40.53640162 40.5843131  40.63215891 40.67996216\n",
      " 40.72761236 40.77520058 40.8226843  40.87010275 40.91740586 40.96461621\n",
      " 41.01177187 41.05890271 41.1058914  41.15278127 41.19963572 41.24633296\n",
      " 41.29298005 41.33954255 41.38596617 41.43224976 41.47836558 41.52436703\n",
      " 41.57030071 41.61611315 41.66189662 41.70759045 41.75304179 41.79835197\n",
      " 41.8436087  41.88878878 41.93386836 41.97891025 42.02364515 42.06828848\n",
      " 42.11282721 42.15733579 42.20176793 42.24607862 42.29031481 42.33448215\n",
      " 42.37855809 42.42245069 42.46628845 42.50999426 42.55365796 42.59714322\n",
      " 42.64060266 42.68403007 42.72735405 42.77056693 42.81367576 42.85666091\n",
      " 42.89963376 42.94245666 42.98520307 43.02781454 43.07030522 43.11276589\n",
      " 43.15512257 43.19742157 43.23966633 43.28181784 43.32387767 43.36579606\n",
      " 43.40756848 43.44930974 43.49091577 43.53244027 43.57383012 43.61506699\n",
      " 43.65625581 43.69736977 43.73837568 43.77920825 43.81997121 43.86067826\n",
      " 43.90132417 43.94192644 43.98248231 44.02292928 44.06326951 44.10349371\n",
      " 44.14368919 44.18379114 44.22386132 44.26384404 44.30377232 44.34361301\n",
      " 44.38339146 44.42313336 44.46275916 44.50227949 44.54177321 44.58122845\n",
      " 44.62053974 44.65984473 44.69907364 44.73818694 44.7771852  44.81615806\n",
      " 44.85506782 44.89395736 44.93278352 44.9715242  45.01018463 45.04878322\n",
      " 45.08732343 45.12572496 45.16410765 45.20243153 45.24067707 45.27885148\n",
      " 45.31697947 45.3550936  45.3931666  45.43117354 45.46905214 45.50684202\n",
      " 45.5445749  45.58224722 45.6198819  45.65748871 45.69499283 45.73240848\n",
      " 45.76980147 45.80717424 45.84448786 45.88176803 45.91897025 45.95612814\n",
      " 45.99323676 46.03025622 46.06726185 46.10416979 46.14096863 46.17770196\n",
      " 46.21438515 46.25103003 46.28761357 46.32412719 46.36061381 46.39706496\n",
      " 46.43347212 46.46979959 46.5060515  46.54222389 46.57837555 46.61445967\n",
      " 46.65051025 46.68653155 46.72244948 46.75828257 46.79408619 46.82977948\n",
      " 46.86545008 46.90104511 46.93660421 46.97210784 47.00755465 47.04294889\n",
      " 47.07833417 47.113646   47.14886064 47.18400897 47.21908009 47.25412509\n",
      " 47.28912714 47.32404041 47.35891368 47.39364872 47.42836252 47.46303991\n",
      " 47.49766669 47.53226475 47.56680309 47.60125555 47.63562721 47.6699662\n",
      " 47.70425309 47.73844879 47.77262127 47.80673033 47.84079743 47.87482774\n",
      " 47.90880388 47.94274471 47.97656515 48.01037289 48.04413761 48.07788166\n",
      " 48.11154569 48.14514147 48.17870623 48.21218332 48.24563255 48.27904025\n",
      " 48.31241352 48.3457073  48.37892435 48.41209588 48.44523889 48.47834732\n",
      " 48.51140033 48.54438302 48.57733761 48.61022611 48.64307387 48.67589366\n",
      " 48.7086654  48.74142678 48.77414623 48.80681991 48.83941413 48.87198434\n",
      " 48.90451216 48.93693978 48.96934987 49.00172762 49.03405688 49.06637753\n",
      " 49.09860661 49.13080671 49.16297763 49.19512129 49.22717584 49.25921286\n",
      " 49.29115429 49.32305228 49.35490865 49.38674535 49.41849757 49.45020311\n",
      " 49.48187546 49.51350545 49.54509228 49.57663055 49.60815558 49.63959748\n",
      " 49.67100941 49.70229857 49.73353532 49.76476037 49.79593876 49.82709011\n",
      " 49.85818871 49.8892759  49.92030322 49.95124172 49.98213744 50.01300577\n",
      " 50.04382503 50.07460945 50.10531099 50.13598032 50.16663142 50.19722811\n",
      " 50.22779723 50.25834456 50.28884862 50.31929897 50.34968673 50.38004008\n",
      " 50.41034581 50.44061532 50.47083576 50.50100222 50.5311058  50.56115688\n",
      " 50.59118788 50.621156   50.65109259 50.68100932 50.71086535 50.74064869\n",
      " 50.77038794 50.80007969 50.82974907 50.85934783 50.88888461 50.91839303\n",
      " 50.94787829 50.97729698 51.00666631 51.03595415 51.06521451 51.09441329\n",
      " 51.12355425 51.15267671 51.18177018 51.21085807 51.23988484 51.26889731\n",
      " 51.29785199 51.32677473 51.35565885 51.38450784 51.41333731 51.44212071\n",
      " 51.47084348 51.49954874 51.52821282 51.556848   51.58544059 51.61395033\n",
      " 51.64242496 51.67083945 51.6992193  51.72757701 51.75587816 51.78416105\n",
      " 51.81239826 51.84056123 51.86871851 51.89686243 51.92497055 51.95300921\n",
      " 51.98100184 52.0089644  52.03690177 52.06476693 52.09261304 52.12043239\n",
      " 52.148209   52.17594777 52.20366847 52.2313332  52.25893215 52.28649535\n",
      " 52.314009   52.3414989  52.36896489 52.39634684 52.4237154  52.45103734\n",
      " 52.47833789 52.50560388 52.53283063 52.56001779 52.58717033 52.6143001\n",
      " 52.64139633 52.66843527 52.69546287 52.72244559 52.74941381 52.77634887\n",
      " 52.80322877 52.83010096 52.85693999 52.88370753 52.91043597 52.93714978\n",
      " 52.96378973 52.99038223 53.01695376 53.04347348 53.06995591 53.09639967\n",
      " 53.12282462 53.14918879 53.175537   53.20185099 53.22809546 53.25433227\n",
      " 53.28054289 53.30674545 53.33286793 53.35895485 53.38500709 53.41103553\n",
      " 53.4370087  53.4629672  53.48890242 53.51478438 53.54065469 53.56644981\n",
      " 53.59223119 53.61795498 53.64365912 53.66931776 53.69494123 53.72051826\n",
      " 53.7460755  53.77162697 53.79710089 53.8225342  53.84791995 53.87330043\n",
      " 53.89860864 53.92390825 53.9491601  53.97435631 53.99951104 54.02461006\n",
      " 54.04964592 54.07466118 54.09964321 54.12460645 54.14953729 54.17442958\n",
      " 54.19928183 54.22412404 54.24892193 54.2736763  54.29841549 54.32313528\n",
      " 54.34781275 54.37244696 54.39701666 54.42155456 54.44603635 54.47050215\n",
      " 54.49495649 54.51939138 54.54376169 54.56804336 54.59231103 54.61655496\n",
      " 54.64077376 54.66494763 54.68907743 54.71320098 54.73727027 54.76130023\n",
      " 54.78530686 54.80927493 54.83321756 54.85714374 54.88104703 54.90492144\n",
      " 54.928785   54.95262348 54.97643272 55.00018722 55.02386574 55.04753154\n",
      " 55.07115854 55.09476752 55.11834523 55.14187921 55.16538195 55.18885495\n",
      " 55.21228331 55.23570277 55.25906601 55.28239967 55.30567571 55.32894438\n",
      " 55.35216942 55.37537984 55.39856304 55.42174046 55.44487352 55.46799373\n",
      " 55.491041   55.51406474 55.53706071 55.56000264 55.58289979 55.60578559\n",
      " 55.62864279 55.65146412 55.67423785 55.69696909 55.71968549 55.74236773\n",
      " 55.76496921 55.78757072 55.81013701 55.83264781 55.85512419 55.87757617\n",
      " 55.90001236 55.92238894 55.94472688 55.96702361 55.98930126 56.01156366\n",
      " 56.03377944 56.05597664 56.07811704 56.10024068 56.12234901 56.14443899\n",
      " 56.16650912 56.18854345 56.21054268 56.23252626 56.2544715  56.27638163\n",
      " 56.29826636 56.3201231  56.34196599 56.36378099 56.38555651 56.40730669\n",
      " 56.42902733 56.45069627 56.47232876 56.49395084 56.51556011 56.5371392\n",
      " 56.5586631  56.58016653 56.60165934 56.62310132 56.64450905 56.66588112\n",
      " 56.68721732 56.70854331 56.72986093 56.75115242 56.77240194 56.79361838\n",
      " 56.81478743 56.83593229 56.85704147 56.87812944 56.89917802 56.92021623\n",
      " 56.94120936 56.9621625  56.9830817  57.00397767 57.02485857 57.04571104\n",
      " 57.06654996 57.08736378 57.10814272 57.12889737 57.14959678 57.17027818\n",
      " 57.19094992 57.21160156 57.23221004 57.25276839 57.27330535 57.29380252\n",
      " 57.31426755 57.33471955 57.35511268 57.37548189 57.39580101 57.41610155\n",
      " 57.43638237 57.45660623 57.47681285 57.49700421 57.51718716 57.53732771\n",
      " 57.55740865 57.57747775 57.59751488 57.61750662 57.63747577 57.65740197\n",
      " 57.67732581 57.69720987 57.71704696 57.73687574 57.75669818 57.77646919\n",
      " 57.79620396 57.81592903 57.83561332 57.85527315 57.87492268 57.89451112\n",
      " 57.91408608 57.93358769 57.9530767  57.97252356 57.99194978 58.01132365\n",
      " 58.03064228 58.04994363 58.06921506 58.08848046 58.10773267 58.12694696\n",
      " 58.14613486 58.16527253 58.18440333 58.20348172 58.22253859 58.24155404\n",
      " 58.26046722 58.27937028 58.29825706 58.31710448 58.3359214  58.35469048\n",
      " 58.37338934 58.39207584 58.41073114 58.42928965 58.44782849 58.46632963\n",
      " 58.48478717 58.50322467 58.52163889 58.53999674 58.5583313  58.57664583\n",
      " 58.59492898 58.61319319 58.63143619 58.64961623 58.66777597 58.68587858\n",
      " 58.7039069  58.72191475 58.7398937  58.75784208 58.77574463 58.7936252\n",
      " 58.81146645 58.82923456 58.84694496 58.86461935]\n"
     ]
    }
   ],
   "source": [
    "vectorizer = TfidfVectorizer(max_df=0.5, \n",
    "                             min_df=2, \n",
    "                             use_idf=True,\n",
    "                             norm=u'l2', \n",
    "                             smooth_idf=True,\n",
    "                             tokenizer=lemma_text)\n",
    "\n",
    "X_tfidf = vectorizer.fit_transform(X)\n",
    "print('Number of features:', X_tfidf.get_shape()[1])\n",
    "X_train_tfidf, X_test_tfidf, y_train, y_test = train_test_split(X_tfidf, y, test_size=0.40, random_state=0)\n",
    "\n",
    "svd= TruncatedSVD(1000)\n",
    "lsa = make_pipeline(svd, Normalizer(copy=False))\n",
    "X_train_lsa = lsa.fit_transform(X_train_tfidf)\n",
    "variance_explained=svd.explained_variance_ratio_\n",
    "total_variance = variance_explained.sum()\n",
    "print('Percent variance of all components:', total_variance*100)"
   ]
  },
  {
   "cell_type": "code",
   "execution_count": 5,
   "metadata": {
    "colab": {
     "base_uri": "https://localhost:8080/",
     "height": 244
    },
    "colab_type": "code",
    "id": "PzGvvRWB8N8R",
    "outputId": "5ff12ebb-f9bf-43da-c358-5c9a94222041"
   },
   "outputs": [],
   "source": [
    "tfidf_df = pd.DataFrame(data=X_train_lsa)\n",
    "new_df = pd.concat( [tfidf_df, feature_df], ignore_index=False, axis=1 )\n",
    "new_df = new_df.replace( [np.inf, -np.inf], np.nan ).dropna()\n",
    "\n",
    "features = new_df.drop( ['ProfileName','text'], axis=1 )\n",
    "predict = new_df['ProfileName']\n",
    "\n",
    "scalar = MinMaxScaler()\n",
    "scaled = scalar.fit_transform(features)\n",
    "scaled_df = pd.DataFrame(scaled)"
   ]
  },
  {
   "cell_type": "code",
   "execution_count": 7,
   "metadata": {
    "colab": {
     "base_uri": "https://localhost:8080/",
     "height": 294
    },
    "colab_type": "code",
    "id": "BNH0foCg9lYP",
    "outputId": "03f34864-31e1-4641-fbea-e1388cbf9e03"
   },
   "outputs": [
    {
     "data": {
      "image/png": "[encoded data removed]",
      "text/plain": [
       "<Figure size 432x288 with 1 Axes>"
      ]
     },
     "metadata": {
      "needs_background": "light"
     },
     "output_type": "display_data"
    },
    {
     "name": "stdout",
     "output_type": "stream",
     "text": [
      "Adjusted Rand Score: 5.104844136249878e-07\n",
      "Silhouette Score: -0.01912832527529389\n"
     ]
    }
   ],
   "source": [
    "distortions = []\n",
    "K = range(1,10)\n",
    "for k in K:\n",
    "    kmeanModel = KMeans(n_clusters=k).fit(scaled)\n",
    "    kmeanModel.fit(scaled)\n",
    "    distortions.append(sum(np.min(cdist(scaled, kmeanModel.cluster_centers_, 'euclidean'), axis=1)) / scaled.shape[0])\n",
    "plt.plot(K, distortions, 'bx-')\n",
    "plt.xlabel('k')\n",
    "plt.ylabel('Distortion')\n",
    "plt.title('Elbow Method')\n",
    "plt.show()\n",
    "\n",
    "kmeans = KMeans(n_clusters=5, random_state=0)\n",
    "y_pred = kmeans.fit_predict(scaled)\n",
    "pd.crosstab(predict, y_pred)\n",
    "print( 'Adjusted Rand Score:', adjusted_rand_score(predict, y_pred) )\n",
    "print( 'Silhouette Score:', silhouette_score(scaled, y_pred, metric='euclidean') )"
   ]
  },
  {
   "cell_type": "code",
   "execution_count": null,
   "metadata": {},
   "outputs": [],
   "source": [
    "lr = LogisticRegression(class_weight = 'balanced')\n",
    "train = lr.fit(scaled, predict)\n",
    "lr_scores = cross_val_score(lr, scaled, predict, cv=5)\n",
    "print('CV Train Scores:', lr_scores.mean() )\n",
    "\n",
    "lr_report = confusion_matrix( y_true=predict, y_pred=lr.predict(scaled) )\n",
    "print('Confusion Matrix:\\n', lr_report)\n"
   ]
  },
  {
   "cell_type": "code",
   "execution_count": null,
   "metadata": {},
   "outputs": [],
   "source": [
    "rfc = RandomForestClassifier(class_weight = 'balanced_subsample')\n",
    "train = rfc.fit(scaled, predict)\n",
    "rfc_scores = cross_val_score(rfc, scaled, predict, cv=5)\n",
    "print(' CV Train Scores:', rfc_scores.mean() )\n",
    "\n",
    "rfc_report = confusion_matrix(y_true=predict, y_pred=rfc.predict(scaled))\n",
    "print('Confusion Matrix:\\n',rfc_report)"
   ]
  },
  {
   "cell_type": "code",
   "execution_count": null,
   "metadata": {},
   "outputs": [],
   "source": [
    "feature_df_test = pd.DataFrame()\n",
    "feature_df_test['word_cnt'] = [len(x.split()) for x in X_test.tolist()]\n",
    "feature_df_test['exclamation'] = X_test.str.findall(r'[!]').str.len()\n",
    "feature_df_test['period'] = X_test.str.findall(r'[.]').str.len()\n",
    "feature_df_test['question'] = X_test.str.findall(r'[?]').str.len()\n",
    "feature_df_test['Text'] = X_test\n",
    "feature_df_test['ProfileName'] = y_test"
   ]
  },
  {
   "cell_type": "code",
   "execution_count": null,
   "metadata": {
    "colab": {
     "base_uri": "https://localhost:8080/",
     "height": 34
    },
    "colab_type": "code",
    "id": "008wf3up_y8M",
    "outputId": "aaca876c-02ce-4928-bf89-1e54a08b4172"
   },
   "outputs": [],
   "source": [
    "svd= TruncatedSVD(1000)\n",
    "lsa = make_pipeline(svd, Normalizer(copy=False))\n",
    "X_test_lsa = lsa.fit_transform(X_test_tfidf)\n",
    "variance_explained=svd.explained_variance_ratio_\n",
    "total_variance = variance_explained.sum()\n",
    "print(\"Percent variance of all components:\", total_variance*100)\n",
    "\n",
    "tfidf_df_test = pd.DataFrame(data=X_test_lsa)\n",
    "new_df = pd.concat( [tfidf_df_test, feature_df_test], ignore_index=False, axis=1 )\n",
    "new_df = new_df.replace( [np.inf, -np.inf], np.nan ).dropna()\n",
    "\n",
    "test_features = new_df.drop( ['ProfileName','Text'], axis=1 )\n",
    "test_predict = new_df['ProfileName']\n",
    "scalar = MinMaxScaler()\n",
    "test_scaled = scalar.fit_transform(test_features)\n",
    "test_df = pd.DataFrame(test_scaled)"
   ]
  },
  {
   "cell_type": "code",
   "execution_count": null,
   "metadata": {
    "colab": {
     "base_uri": "https://localhost:8080/",
     "height": 225
    },
    "colab_type": "code",
    "id": "7ntri8cnN-r7",
    "outputId": "401455c3-0581-4cbc-ec3b-d703615ba1c8"
   },
   "outputs": [],
   "source": [
    "kmeans = KMeans(n_clusters=5, random_state=0)\n",
    "y_pred = kmeans.fit_predict(test_scaled)\n",
    "pd.crosstab(test_predict, y_pred)\n",
    "print( 'Adjusted Rand Score:', adjusted_rand_score(test_predict, y_pred) )\n",
    "print( 'Silhouette Score:', silhouette_score(test_scaled, y_pred, metric='euclidean'))\n",
    "print( 'Logistic Regression Test Score:',lr.score(test_scaled, test_predict))\n",
    "\n",
    "lr_report = classification_report(digits=6,\n",
    "                               y_true=test_predict, \n",
    "                               y_pred=lr.predict(test_scaled))\n",
    "\n",
    "print( 'Confusion Matrix:\\n', lr_report )\n",
    "print( 'Random Forest Test Score:', rfc.score(test_scaled, test_predict) )"
   ]
  },
  {
   "cell_type": "code",
   "execution_count": null,
   "metadata": {
    "colab": {
     "base_uri": "https://localhost:8080/",
     "height": 370
    },
    "colab_type": "code",
    "id": "m63k6HGovXKO",
    "outputId": "6e871d53-ff90-416c-83a2-ef53f190daa5"
   },
   "outputs": [],
   "source": [
    "rfc_report = classification_report(\n",
    "    digits=6,\n",
    "    y_true=test_predict, \n",
    "    y_pred=rfc.predict(test_scaled))\n",
    "\n",
    "print('Clasification report:\\n', rfc_report)\n",
    "\n",
    "rfc_report = confusion_matrix(y_true=test_predict, y_pred=rfc.predict(test_scaled))\n",
    "print('Confusion Matrix:\\n', rfc_report)"
   ]
  }
 ],
 "metadata": {
  "colab": {
   "collapsed_sections": [],
   "name": "Unsupervised Learning Capstone",
   "provenance": [],
   "version": "0.3.2"
  },
  "kernelspec": {
   "display_name": "Python 3",
   "language": "python",
   "name": "python3"
  },
  "language_info": {
   "codemirror_mode": {
    "name": "ipython",
    "version": 3
   },
   "file_extension": ".py",
   "mimetype": "text/x-python",
   "name": "python",
   "nbconvert_exporter": "python",
   "pygments_lexer": "ipython3",
   "version": "3.7.3"
  }
 },
 "nbformat": 4,
 "nbformat_minor": 2
}
