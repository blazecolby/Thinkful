{
 "cells": [
  {
   "cell_type": "code",
   "execution_count": 32,
   "metadata": {},
   "outputs": [],
   "source": [
    "import matplotlib\n",
    "import numpy as np\n",
    "import pandas as pd\n",
    "import warnings as wn\n",
    "from sklearn import metrics\n",
    "from itertools import cycle\n",
    "from collections import Counter\n",
    "import matplotlib.pyplot as plt\n",
    "from sklearn.cluster import KMeans\n",
    "from sklearn.decomposition import PCA\n",
    "from mpl_toolkits.mplot3d import Axes3D\n",
    "from sklearn.preprocessing import normalize\n",
    "from sklearn.cluster import SpectralClusterin, AffinityPropagation, MiniBatchKMeans\n",
    "from sklearn.model_selection import train_test_split\n",
    "from sklearn.datasets.samples_generator import make_blobs\n",
    "\n",
    "plt.rcParams['figure.figsize'] = (15, 5)\n",
    "wn.filterwarnings(\"ignore\")"
   ]
  },
  {
   "cell_type": "code",
   "execution_count": 23,
   "metadata": {},
   "outputs": [],
   "source": [
    "run = pd.read_csv('results.csv')"
   ]
  },
  {
   "cell_type": "code",
   "execution_count": 24,
   "metadata": {},
   "outputs": [],
   "source": [
    "run['citizen'] = pd.get_dummies(run.ctz.isna(), drop_first=True)\n",
    "run['american'] = pd.get_dummies(run.state.isna(), drop_first=True)\n",
    "run['gender'] = pd.get_dummies(run.gender, drop_first=True)\n",
    "\n",
    "features = run.drop(columns=['state', 'ctz', 'name', 'city', 'country', 'bib'])"
   ]
  },
  {
   "cell_type": "code",
   "execution_count": 38,
   "metadata": {},
   "outputs": [
    {
     "name": "stdout",
     "output_type": "stream",
     "text": [
      "Comparing k-means clusters against the data:\n",
      "american      0     1\n",
      "row_0                \n",
      "0         12657  1630\n",
      "1          3044   309\n",
      "2         13707   637\n"
     ]
    }
   ],
   "source": [
    "n_clust = 3\n",
    "X = run.select_dtypes(['number']).drop(columns=['american'])\n",
    "y = run.select_dtypes(['number']).american\n",
    "X_train, X_test, y_train, y_test = train_test_split(\n",
    "  X,y,test_size=0.9,random_state=0)\n",
    "\n",
    "X_norm = normalize(X)\n",
    "X_pca = PCA(2).fit_transform(X_norm)\n",
    "y_pred = KMeans(n_clusters=n_clust, random_state=0).fit_predict(X_pca)\n",
    "print('Comparing k-means clusters against the data:')\n",
    "print(pd.crosstab(y_pred, y))"
   ]
  },
  {
   "cell_type": "code",
   "execution_count": 26,
   "metadata": {},
   "outputs": [
    {
     "name": "stdout",
     "output_type": "stream",
     "text": [
      "Comparing k-means and mini batch k-means solutions:\n",
      "col_0      0     1      2\n",
      "row_0                    \n",
      "0      14275     0      0\n",
      "1         12  3353      0\n",
      "2          0     0  14344\n"
     ]
    }
   ],
   "source": [
    "minibatchkmeans = MiniBatchKMeans(init='random',\n",
    "                                  n_clusters=n_clust,\n",
    "                                  batch_size=200)\n",
    "minibatchkmeans.fit(X_pca)\n",
    "predict_mini = minibatchkmeans.predict(X_pca)\n",
    "print('Comparing k-means and mini batch k-means solutions:')\n",
    "print(pd.crosstab(predict_mini, y_pred))"
   ]
  },
  {
   "cell_type": "code",
   "execution_count": 30,
   "metadata": {},
   "outputs": [
    {
     "name": "stdout",
     "output_type": "stream",
     "text": [
      "Comparing the assigned categories to the ones in the data:\n",
      "col_0       0     1    2\n",
      "american                \n",
      "0         699  1647  573\n",
      "1          90   129   60\n"
     ]
    }
   ],
   "source": [
    "print('Comparing the assigned categories to the ones in the data:')\n",
    "print(pd.crosstab(y_train,labels))"
   ]
  },
  {
   "cell_type": "code",
   "execution_count": 36,
   "metadata": {},
   "outputs": [
    {
     "name": "stdout",
     "output_type": "stream",
     "text": [
      "Comparing the assigned categories to the ones in the data:\n",
      "col_0        0\n",
      "american      \n",
      "0         2919\n",
      "1          279\n"
     ]
    }
   ],
   "source": [
    "n_clusters=n_clust\n",
    "sc = SpectralClustering(n_clusters=n_clusters)\n",
    "sc.fit(X_train)\n",
    "predict=sc.fit_predict(X_train)\n",
    "print('Comparing the assigned categories to the ones in the data:')\n",
    "print(pd.crosstab(y_train,predict))"
   ]
  },
  {
   "cell_type": "markdown",
   "metadata": {},
   "source": [
    "It looks like the Spectral Clustering is going to be the best."
   ]
  }
 ],
 "metadata": {
  "kernelspec": {
   "display_name": "Python 3",
   "language": "python",
   "name": "python3"
  },
  "language_info": {
   "codemirror_mode": {
    "name": "ipython",
    "version": 3
   },
   "file_extension": ".py",
   "mimetype": "text/x-python",
   "name": "python",
   "nbconvert_exporter": "python",
   "pygments_lexer": "ipython3",
   "version": "3.7.3"
  }
 },
 "nbformat": 4,
 "nbformat_minor": 2
}
