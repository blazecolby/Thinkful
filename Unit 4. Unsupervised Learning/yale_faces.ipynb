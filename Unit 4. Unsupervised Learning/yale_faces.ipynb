{
 "cells": [
  {
   "cell_type": "code",
   "execution_count": 105,
   "metadata": {
    "colab": {},
    "colab_type": "code",
    "id": "1nfk4eT8zYPg"
   },
   "outputs": [],
   "source": [
    "import os\n",
    "import numpy as np\n",
    "from PIL import Image\n",
    "from sklearn import metrics\n",
    "import matplotlib.pyplot as plt\n",
    "from scipy.ndimage import convolve\n",
    "from skimage.transform import resize\n",
    "from sklearn.pipeline import Pipeline\n",
    "from sklearn.neural_network import BernoulliRBM\n",
    "from skimage.io import imread_collection, imshow\n",
    "from sklearn.linear_model import LogisticRegression"
   ]
  },
  {
   "cell_type": "code",
   "execution_count": 106,
   "metadata": {
    "colab": {},
    "colab_type": "code",
    "id": "-eTNHj_qzYPj",
    "outputId": "928010ae-6e97-495e-e4c4-d546659bbba7"
   },
   "outputs": [],
   "source": [
    "imgs = imread_collection('centered/*.gif')\n",
    "imgs = [resize(x,(77,65),mode='constant', anti_aliasing=False) for x in imgs]\n",
    "imgsarr = [x.flatten('C') for x in imgs]\n",
    "y = [[_ for i in range(1,12)] for _ in range(1,16)]\n",
    "y = [num for sub in Y for num in sub]"
   ]
  },
  {
   "cell_type": "code",
   "execution_count": 107,
   "metadata": {
    "colab": {},
    "colab_type": "code",
    "id": "nOrcHfWvzYQF"
   },
   "outputs": [
    {
     "name": "stdout",
     "output_type": "stream",
     "text": [
      "[BernoulliRBM] Iteration 1, pseudo-likelihood = -2859.07, time = 0.23s\n",
      "[BernoulliRBM] Iteration 2, pseudo-likelihood = -3044.42, time = 0.26s\n",
      "[BernoulliRBM] Iteration 3, pseudo-likelihood = -2666.64, time = 0.24s\n",
      "[BernoulliRBM] Iteration 4, pseudo-likelihood = -2527.39, time = 0.24s\n",
      "[BernoulliRBM] Iteration 5, pseudo-likelihood = -2475.21, time = 0.24s\n",
      "[BernoulliRBM] Iteration 6, pseudo-likelihood = -2468.15, time = 0.24s\n",
      "[BernoulliRBM] Iteration 7, pseudo-likelihood = -2482.79, time = 0.25s\n",
      "[BernoulliRBM] Iteration 8, pseudo-likelihood = -2466.78, time = 0.25s\n",
      "[BernoulliRBM] Iteration 9, pseudo-likelihood = -2459.73, time = 0.24s\n",
      "[BernoulliRBM] Iteration 10, pseudo-likelihood = -2439.38, time = 0.24s\n",
      "[BernoulliRBM] Iteration 11, pseudo-likelihood = -2472.61, time = 0.24s\n",
      "[BernoulliRBM] Iteration 12, pseudo-likelihood = -2447.53, time = 0.24s\n",
      "[BernoulliRBM] Iteration 13, pseudo-likelihood = -2410.22, time = 0.25s\n",
      "[BernoulliRBM] Iteration 14, pseudo-likelihood = -2439.37, time = 0.24s\n",
      "[BernoulliRBM] Iteration 15, pseudo-likelihood = -2452.99, time = 0.24s\n",
      "[BernoulliRBM] Iteration 16, pseudo-likelihood = -2421.83, time = 0.24s\n",
      "[BernoulliRBM] Iteration 17, pseudo-likelihood = -2416.55, time = 0.25s\n",
      "[BernoulliRBM] Iteration 18, pseudo-likelihood = -2429.17, time = 0.24s\n",
      "[BernoulliRBM] Iteration 19, pseudo-likelihood = -2434.10, time = 0.24s\n",
      "[BernoulliRBM] Iteration 20, pseudo-likelihood = -2407.95, time = 0.24s\n"
     ]
    },
    {
     "name": "stderr",
     "output_type": "stream",
     "text": [
      "/anaconda3/lib/python3.7/site-packages/sklearn/linear_model/logistic.py:758: ConvergenceWarning: lbfgs failed to converge. Increase the number of iterations.\n",
      "  \"of iterations.\", ConvergenceWarning)\n"
     ]
    },
    {
     "data": {
      "text/plain": [
       "Pipeline(memory=None,\n",
       "     steps=[('rbm', BernoulliRBM(batch_size=10, learning_rate=0.01, n_components=150, n_iter=20,\n",
       "       random_state=0, verbose=True)), ('logistic', LogisticRegression(C=1.0, class_weight=None, dual=False, fit_intercept=True,\n",
       "          intercept_scaling=1, max_iter=100, multi_class='multinomial',\n",
       "          n_jobs=None, penalty='l2', random_state=None, solver='lbfgs',\n",
       "          tol=0.0001, verbose=0, warm_start=False))])"
      ]
     },
     "execution_count": 107,
     "metadata": {},
     "output_type": "execute_result"
    }
   ],
   "source": [
    "rbm = BernoulliRBM(random_state=0,verbose=True,learning_rate=.01,n_iter=20,n_components=150)\n",
    "logistic = LogisticRegression(solver='lbfgs', multi_class='multinomial')\n",
    "rbm_features_classifier = Pipeline(steps=[('rbm', rbm), ('logistic', logistic)])\n",
    "rbm_features_classifier.fit(imgsarr, Y)"
   ]
  },
  {
   "cell_type": "code",
   "execution_count": 112,
   "metadata": {
    "colab": {},
    "colab_type": "code",
    "id": "d5VQNKYnzYQJ",
    "outputId": "039b7025-5463-4c1b-fee5-488fa82537fe"
   },
   "outputs": [
    {
     "name": "stdout",
     "output_type": "stream",
     "text": [
      "[[ 8  0  0  0  0  0  0  1  0  0  0  2  0  0  0]\n",
      " [ 0  8  2  0  0  0  0  0  0  0  0  0  0  1  0]\n",
      " [ 0  3  3  0  0  0  1  0  1  0  0  0  1  0  2]\n",
      " [ 0  0  0 10  0  0  0  0  0  0  1  0  0  0  0]\n",
      " [ 0  0  0  0 10  0  0  0  0  0  0  1  0  0  0]\n",
      " [ 0  1  1  0  0  9  0  0  0  0  0  0  0  0  0]\n",
      " [ 0  0  0  0  0  0  9  0  0  1  0  0  0  0  1]\n",
      " [ 3  2  0  0  1  1  0  0  2  0  0  0  1  0  1]\n",
      " [ 5  0  0  1  1  0  0  0  3  0  0  1  0  0  0]\n",
      " [ 0  0  0  0  0  1  1  0  0  6  1  0  0  2  0]\n",
      " [ 0  0  0  0  0  0  0  0  0  0 11  0  0  0  0]\n",
      " [ 1  0  0  0  4  0  0  0  1  0  0  5  0  0  0]\n",
      " [ 0  0  1  0  0  0  0  0  0  0  1  0  9  0  0]\n",
      " [ 0  0  0  0  1  0  0  0  2  0  1  1  0  6  0]\n",
      " [ 0  0  0  0  0  0  1  0  0  0  0  0  0  0 10]]\n",
      "Logistic regression w/ RBM:\n",
      "               precision    recall  f1-score   support\n",
      "\n",
      "           1       0.47      0.73      0.57        11\n",
      "           2       0.57      0.73      0.64        11\n",
      "           3       0.43      0.27      0.33        11\n",
      "           4       0.91      0.91      0.91        11\n",
      "           5       0.59      0.91      0.71        11\n",
      "           6       0.82      0.82      0.82        11\n",
      "           7       0.75      0.82      0.78        11\n",
      "           8       0.00      0.00      0.00        11\n",
      "           9       0.33      0.27      0.30        11\n",
      "          10       0.86      0.55      0.67        11\n",
      "          11       0.73      1.00      0.85        11\n",
      "          12       0.50      0.45      0.48        11\n",
      "          13       0.82      0.82      0.82        11\n",
      "          14       0.67      0.55      0.60        11\n",
      "          15       0.71      0.91      0.80        11\n",
      "\n",
      "   micro avg       0.65      0.65      0.65       165\n",
      "   macro avg       0.61      0.65      0.62       165\n",
      "weighted avg       0.61      0.65      0.62       165\n",
      "\n"
     ]
    }
   ],
   "source": [
    "Y_pred = rbm_features_classifier.predict(imgsarr)\n",
    "print(metrics.confusion_matrix(y,Y_pred))\n",
    "print(\"Logistic regression w/ RBM:\\n\",metrics.classification_report(Y, Y_pred))"
   ]
  },
  {
   "cell_type": "code",
   "execution_count": null,
   "metadata": {},
   "outputs": [],
   "source": []
  }
 ],
 "metadata": {
  "colab": {
   "name": "YaleFaces.ipynb",
   "provenance": [],
   "version": "0.3.2"
  },
  "kernelspec": {
   "display_name": "Python 3",
   "language": "python",
   "name": "python3"
  },
  "language_info": {
   "codemirror_mode": {
    "name": "ipython",
    "version": 3
   },
   "file_extension": ".py",
   "mimetype": "text/x-python",
   "name": "python",
   "nbconvert_exporter": "python",
   "pygments_lexer": "ipython3",
   "version": "3.7.3"
  }
 },
 "nbformat": 4,
 "nbformat_minor": 2
}
