{
 "cells": [
  {
   "cell_type": "code",
   "execution_count": 1,
   "metadata": {
    "colab": {
     "base_uri": "https://localhost:8080/",
     "height": 50
    },
    "colab_type": "code",
    "id": "TYaYUef17foi",
    "outputId": "d0e9a341-8ea2-4d8e-bc7a-eec184e75650"
   },
   "outputs": [],
   "source": [
    "import pandas as pd, numpy as np, xgboost as xgb, seaborn as sns, matplotlib.pyplot as plt, warnings as wn\n",
    "import re, nltk, spacy, scipy, sklearn\n",
    "from nltk.corpus import stopwords\n",
    "from scipy.spatial.distance import cdist\n",
    "from xgboost.sklearn import XGBClassifier\n",
    "from sklearn import ensemble, preprocessing\n",
    "from sklearn.linear_model import LogisticRegression\n",
    "from sklearn.ensemble import RandomForestClassifier\n",
    "from sklearn.decomposition import TruncatedSVD, PCA\n",
    "from sklearn.pipeline import make_pipeline, Pipeline\n",
    "from sklearn.preprocessing import Normalizer, MinMaxScaler\n",
    "from sklearn.feature_extraction.text import TfidfVectorizer\n",
    "from sklearn.model_selection import train_test_split, cross_val_score, RandomizedSearchCV\n",
    "from sklearn.metrics import adjusted_rand_score, silhouette_score, confusion_matrix, classification_report\n",
    "from sklearn.cluster import KMeans, MiniBatchKMeans, MeanShift, estimate_bandwidth, SpectralClustering, AffinityPropagation\n",
    "wn.filterwarnings('ignore')\n",
    "nlp = spacy.load('en')"
   ]
  },
  {
   "cell_type": "code",
   "execution_count": 2,
   "metadata": {
    "colab": {},
    "colab_type": "code",
    "id": "2HaUp9cz7geq"
   },
   "outputs": [],
   "source": [
    "df = pd.read_csv('Reviews.csv')\n",
    "df.drop( ['Id','ProductId','UserId','ProfileName',\n",
    "         'HelpfulnessNumerator','HelpfulnessDenominator',\n",
    "         'Time', 'Summary'],axis=1,inplace=True )\n",
    "\n",
    "df.drop_duplicates( subset=['Score','Text'],keep='first',inplace=True )  \n",
    "\n",
    "def text_clean(text):    \n",
    "    text = re.sub(r'--',' ',text)\n",
    "    text = re.sub(r'<a\\s+href=(?:\"([^\"]+)\"|\\'([^\\']+)\\').*?>(.*?)</a>',' ', text)\n",
    "    text = ' '.join(text.split())\n",
    "    text = text.lower()\n",
    "    return text\n",
    "  \n",
    "df['Clean'] = df['Text'].apply( lambda x: text_clean(x) )\n",
    "lemma = spacy.lang.en.English()\n",
    "\n",
    "def lemma_text(text):\n",
    "    tokens = lemma(text) \n",
    "    return( [token.lemma_ for token in tokens if not token.is_punct and not token.is_stop] )\n",
    "\n",
    "df['lemma_text'] = df.Clean.apply(lemma_text)\n",
    "X = df['Clean']\n",
    "y = df['Score']\n",
    "\n",
    "X_train, X_test, y_train, y_test = train_test_split(X, y, test_size=0.25, random_state=0)\n",
    "\n",
    "feature_df = pd.DataFrame()\n",
    "feature_df['word_cnt'] = [ len(x.split()) for x in X_train.tolist() ]\n",
    "feature_df['exclamation'] = X_train.str.findall(r'[!]').str.len()\n",
    "feature_df['period'] = X_train.str.findall(r'[.]').str.len()\n",
    "feature_df['question'] = X_train.str.findall(r'[?]').str.len()\n",
    "feature_df['text'] = X_train\n",
    "feature_df['score'] = y_train"
   ]
  },
  {
   "cell_type": "code",
   "execution_count": 7,
   "metadata": {
    "colab": {
     "base_uri": "https://localhost:8080/",
     "height": 34
    },
    "colab_type": "code",
    "id": "0M8sJASp8GRT",
    "outputId": "bfedc1f4-267a-495a-f724-22d1bc4e785b"
   },
   "outputs": [
    {
     "name": "stdout",
     "output_type": "stream",
     "text": [
      "Number of features: 69650\n"
     ]
    }
   ],
   "source": [
    "vectorizer = TfidfVectorizer(max_df=0.5, \n",
    "                             min_df=2, \n",
    "                             use_idf=True,\n",
    "                             norm=u'l2', \n",
    "                             smooth_idf=True,\n",
    "                             tokenizer=lemma_text)\n",
    "\n",
    "X_tfidf = vectorizer.fit_transform(X)\n",
    "print('Number of features:', X_tfidf.get_shape()[1])\n",
    "X_train_tfidf, X_test_tfidf, y_train, y_test = train_test_split(X_tfidf, y, test_size=0.40, random_state=0)\n",
    "\n",
    "svd= TruncatedSVD(1000)\n",
    "lsa = make_pipeline(svd, Normalizer(copy=False))\n",
    "X_train_lsa = lsa.fit_transform(X_train_tfidf)\n",
    "variance_explained=svd.explained_variance_ratio_\n",
    "total_variance = variance_explained.cumsum()\n",
    "print('Percent variance of all components:', total_variance*100)"
   ]
  },
  {
   "cell_type": "code",
   "execution_count": 9,
   "metadata": {
    "colab": {
     "base_uri": "https://localhost:8080/",
     "height": 244
    },
    "colab_type": "code",
    "id": "PzGvvRWB8N8R",
    "outputId": "5ff12ebb-f9bf-43da-c358-5c9a94222041"
   },
   "outputs": [],
   "source": [
    "tfidf_df = pd.DataFrame(data=X_train_lsa)\n",
    "new_df = pd.concat( [tfidf_df, feature_df], ignore_index=False, axis=1 )\n",
    "new_df = new_df.replace( [np.inf, -np.inf], np.nan ).dropna()\n",
    "\n",
    "features = new_df.drop( ['Score','Text'], axis=1 )\n",
    "predict = new_df['Score']\n",
    "\n",
    "scalar = MinMaxScaler()\n",
    "scaled = scalar.fit_transform(features)\n",
    "scaled_df = pd.DataFrame(scaled)"
   ]
  },
  {
   "cell_type": "code",
   "execution_count": 14,
   "metadata": {
    "colab": {
     "base_uri": "https://localhost:8080/",
     "height": 294
    },
    "colab_type": "code",
    "id": "BNH0foCg9lYP",
    "outputId": "03f34864-31e1-4641-fbea-e1388cbf9e03"
   },
   "outputs": [
    {
     "data": {
      "image/png": "[encoded data removed]",
      "text/plain": [
       "<Figure size 432x288 with 1 Axes>"
      ]
     },
     "metadata": {
      "needs_background": "light"
     },
     "output_type": "display_data"
    }
   ],
   "source": [
    "distortions = []\n",
    "K = range(1,10)\n",
    "for k in K:\n",
    "    kmeanModel = KMeans(n_clusters=k).fit(scaled)\n",
    "    kmeanModel.fit(scaled)\n",
    "    distortions.append(sum(np.min(cdist(scaled, kmeanModel.cluster_centers_, 'euclidean'), axis=1)) / scaled.shape[0])\n",
    "plt.plot(K, distortions, 'bx-')\n",
    "plt.xlabel('k')\n",
    "plt.ylabel('Distortion')\n",
    "plt.title('Elbow Method')\n",
    "plt.show()\n",
    "\n",
    "kmeans = KMeans(n_clusters=5, random_state=0)\n",
    "y_pred = kmeans.fit_predict(scaled)\n",
    "pd.crosstab(predict, y_pred)\n",
    "print( 'Adjusted Rand Score:', adjusted_rand_score(predict, y_pred) )\n",
    "print( 'Silhouette Score:' silhouette_score(scaled, y_pred, metric='euclidean') )"
   ]
  },
  {
   "cell_type": "code",
   "execution_count": 20,
   "metadata": {
    "colab": {
     "base_uri": "https://localhost:8080/",
     "height": 370
    },
    "colab_type": "code",
    "id": "WX3E-tOR_EUl",
    "outputId": "e97c3c78-262f-4b86-c752-0a800f402100"
   },
   "outputs": [
    {
     "name": "stdout",
     "output_type": "stream",
     "text": [
      "\n",
      "Clasification report:\n",
      "               precision    recall  f1-score   support\n",
      "\n",
      "         1.0   0.238526  0.052932  0.086638     12960\n",
      "         2.0   0.125858  0.058402  0.079782      7534\n",
      "         3.0   0.179714  0.069388  0.100120     10852\n",
      "         4.0   0.260252  0.031420  0.056071     20401\n",
      "         5.0   0.650235  0.935214  0.767113     88352\n",
      "\n",
      "   micro avg   0.607770  0.607770  0.607770    140099\n",
      "   macro avg   0.290917  0.229471  0.217945    140099\n",
      "weighted avg   0.490715  0.607770  0.511997    140099\n",
      "\n",
      "\n",
      "Confusion Matrix:\n",
      " [[  686   434   540   264 11036]\n",
      " [  239   440   339   174  6342]\n",
      " [  303   407   753   288  9101]\n",
      " [  431   617   745   641 17967]\n",
      " [ 1217  1598  1813  1096 82628]]\n"
     ]
    }
   ],
   "source": [
    "lr = LogisticRegression(class_weight = 'balanced')\n",
    "train = lr.fit(scaled, predict)\n",
    "lr_scores = cross_val_score(lr, scaled, predict, cv=5)\n",
    "print('CV Train Scores:', lr_scores.mean() )\n",
    "\n",
    "lr_report = classification_report(digits=6,\n",
    "                                  y_true=predict, \n",
    "                                  y_pred=lr.predict(scaled))\n",
    "print('Clasification report:\\n', lr_report)\n",
    "lr_report = confusion_matrix( y_true=predict, y_pred=lr.predict(scaled) )\n",
    "print('Confusion Matrix:\\n', lr_report)\n"
   ]
  },
  {
   "cell_type": "code",
   "execution_count": 21,
   "metadata": {
    "colab": {
     "base_uri": "https://localhost:8080/",
     "height": 84
    },
    "colab_type": "code",
    "id": "7DkGxIV6_GXY",
    "outputId": "ee7dc26a-2a31-459b-d0ac-795ce267a734"
   },
   "outputs": [
    {
     "name": "stdout",
     "output_type": "stream",
     "text": [
      "\n",
      "Cross Validation Training Scores:0.60314(+/- 0.001)\n"
     ]
    }
   ],
   "source": [
    "rfc = RandomForestClassifier(class_weight = 'balanced_subsample')\n",
    "train = rfc.fit(scaled, predict)\n",
    "rfc_scores = cross_val_score(rfc, scaled, predict, cv=5)\n",
    "print(' CV Train Scores:', rfc_scores.mean() )\n",
    "\n",
    "rfc_report = classification_report(digits=6,\n",
    "                                   y_true=predict, \n",
    "                                   y_pred=rfc.predict(scaled))\n",
    "\n",
    "print('Clasification report:\\n', rfc_report)\n",
    "rfc_report = confusion_matrix(y_true=predict, y_pred=rfc.predict(scaled))\n",
    "print('Confusion Matrix:\\n',rfc_report)"
   ]
  },
  {
   "cell_type": "code",
   "execution_count": 24,
   "metadata": {
    "colab": {
     "base_uri": "https://localhost:8080/",
     "height": 34
    },
    "colab_type": "code",
    "id": "008wf3up_y8M",
    "outputId": "aaca876c-02ce-4928-bf89-1e54a08b4172"
   },
   "outputs": [
    {
     "name": "stdout",
     "output_type": "stream",
     "text": [
      "Percent variance captured by all components: 54.64677440789001\n"
     ]
    }
   ],
   "source": [
    "feature_df_test = pd.DataFrame()\n",
    "feature_df_test['word_cnt'] = [len(x.split()) for x in X_test.tolist()]\n",
    "feature_df_test['exclamation'] = X_test.str.findall(r'[!]').str.len()\n",
    "feature_df_test['period'] = X_test.str.findall(r'[.]').str.len()\n",
    "feature_df_test['question'] = X_test.str.findall(r'[?]').str.len()\n",
    "feature_df_test['text'] = X_test\n",
    "feature_df_test['score'] = y_test\n",
    "\n",
    "svd= TruncatedSVD(1000)\n",
    "lsa = make_pipeline(svd, Normalizer(copy=False))\n",
    "X_test_lsa = lsa.fit_transform(X_test_tfidf)\n",
    "variance_explained=svd.explained_variance_ratio_\n",
    "total_variance = variance_explained.cumsum()\n",
    "print(\"Percent variance of all components:\",total_variance*100)\n",
    "\n",
    "tfidf_df_test = pd.DataFrame(data=X_test_lsa)\n",
    "new_df = pd.concat( [tfidf_df_test, feature_df_test], ignore_index=False, axis=1 )\n",
    "new_df = new_df.replace( [np.inf, -np.inf], np.nan ).dropna()\n",
    "\n",
    "test_features = new_df.drop( ['Score','Text'], axis=1 )\n",
    "test_predict = new_df['Score']\n",
    "scalar = MinMaxScaler()\n",
    "test_scaled = scalar.fit_transform(test_features)\n",
    "test_df = pd.DataFrame(test_scaled)"
   ]
  },
  {
   "cell_type": "code",
   "execution_count": 27,
   "metadata": {
    "colab": {
     "base_uri": "https://localhost:8080/",
     "height": 225
    },
    "colab_type": "code",
    "id": "7ntri8cnN-r7",
    "outputId": "401455c3-0581-4cbc-ec3b-d703615ba1c8"
   },
   "outputs": [
    {
     "name": "stdout",
     "output_type": "stream",
     "text": [
      "Adjusted Rand Score: 0.00089873\n",
      "Silhouette Score: -0.022522\n"
     ]
    }
   ],
   "source": [
    "kmeans = KMeans(n_clusters=5, random_state=0)\n",
    "y_pred = kmeans.fit_predict(test_scaled)\n",
    "pd.crosstab(test_predict, y_pred)\n",
    "print( 'Adjusted Rand Score:', adjusted_rand_score(test_predict, y_pred) )\n",
    "print( 'Silhouette Score:', silhouette_score(test_scaled, y_pred, metric='euclidean'))\n",
    "print( 'Logistic Regression Test Score:',lr.score(test_scaled, test_predict))\n",
    "\n",
    "lr_report = classification_report(digits=6,\n",
    "                               y_true=test_predict, \n",
    "                               y_pred=lr.predict(test_scaled))\n",
    "\n",
    "print( 'Confusion Matrix:\\n', lr_report )\n",
    "print( 'Random Forest Test Score:', rfc.score(test_scaled, test_predict) )"
   ]
  },
  {
   "cell_type": "code",
   "execution_count": 30,
   "metadata": {
    "colab": {
     "base_uri": "https://localhost:8080/",
     "height": 370
    },
    "colab_type": "code",
    "id": "m63k6HGovXKO",
    "outputId": "6e871d53-ff90-416c-83a2-ef53f190daa5"
   },
   "outputs": [
    {
     "name": "stdout",
     "output_type": "stream",
     "text": [
      "\n",
      "Clasification report:\n",
      "               precision    recall  f1-score   support\n",
      "\n",
      "         1.0   0.083916  0.035591  0.049983      2023\n",
      "         2.0   0.026954  0.008130  0.012492      1230\n",
      "         3.0   0.054237  0.008748  0.015066      1829\n",
      "         4.0   0.147271  0.044272  0.068079      3230\n",
      "         5.0   0.621889  0.887356  0.731275     13627\n",
      "\n",
      "   micro avg   0.562150  0.562150  0.562150     21939\n",
      "   macro avg   0.186853  0.196819  0.175379     21939\n",
      "weighted avg   0.421727  0.562150  0.470806     21939\n",
      "\n",
      "\n",
      "Confusion Matrix:\n",
      " [[   72    26    24   103  1798]\n",
      " [   56    10    20    60  1084]\n",
      " [   64    29    16    92  1628]\n",
      " [  138    64    43   143  2842]\n",
      " [  528   242   192   573 12092]]\n"
     ]
    }
   ],
   "source": [
    "rfc_report = classification_report(\n",
    "    digits=6,\n",
    "    y_true=test_predict, \n",
    "    y_pred=rfc.predict(test_scaled))\n",
    "\n",
    "print('Clasification report:\\n', rfc_report)\n",
    "\n",
    "rfc_report = confusion_matrix(y_true=test_predict, y_pred=rfc.predict(test_scaled))\n",
    "print('Confusion Matrix:\\n', rfc_report)"
   ]
  }
 ],
 "metadata": {
  "colab": {
   "collapsed_sections": [],
   "name": "Unsupervised Learning Capstone",
   "provenance": [],
   "version": "0.3.2"
  },
  "kernelspec": {
   "display_name": "Python 3",
   "language": "python",
   "name": "python3"
  },
  "language_info": {
   "codemirror_mode": {
    "name": "ipython",
    "version": 3
   },
   "file_extension": ".py",
   "mimetype": "text/x-python",
   "name": "python",
   "nbconvert_exporter": "python",
   "pygments_lexer": "ipython3",
   "version": "3.7.3"
  }
 },
 "nbformat": 4,
 "nbformat_minor": 2
}
