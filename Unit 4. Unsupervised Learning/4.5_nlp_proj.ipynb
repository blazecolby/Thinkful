{
 "cells": [
  {
   "cell_type": "code",
   "execution_count": 1,
   "metadata": {
    "colab": {},
    "colab_type": "code",
    "id": "BadRj7R8Dbjm"
   },
   "outputs": [],
   "source": [
    "import re\n",
    "import scipy\n",
    "import spacy\n",
    "import sklearn\n",
    "import numpy as np\n",
    "import pandas as pd\n",
    "import seaborn as sns\n",
    "from sklearn import ensemble\n",
    "from collections import Counter\n",
    "import matplotlib.pyplot as plt\n",
    "from sklearn.pipeline import make_pipeline\n",
    "from sklearn.preprocessing import Normalizer\n",
    "from nltk.corpus import gutenberg, stopwords\n",
    "from sklearn.decomposition import TruncatedSVD\n",
    "from sklearn.linear_model import LogisticRegression\n",
    "from sklearn.model_selection import train_test_split, cross_val_score\n",
    "from sklearn.feature_extraction.text import TfidfVectorizer"
   ]
  },
  {
   "cell_type": "code",
   "execution_count": 2,
   "metadata": {
    "colab": {},
    "colab_type": "code",
    "id": "dGavGdEZDbjy"
   },
   "outputs": [],
   "source": [
    "def text_cleaner(text):\n",
    "    text = re.sub(r'--',' ',text)    \n",
    "    text = re.sub(\"[\\[].*?[\\]]\", \"\", text)\n",
    "    text = re.sub(r'Chapter \\d+','',text)\n",
    "    text = re.sub(r'CHAPTER \\d+', '', text)\n",
    "    text = re.sub(\"\\\\n\\\\n.*?\\\\n\\\\n\", '', text)\n",
    "    text = ' '.join(text.split())\n",
    "    return text\n",
    "\n",
    "emma = gutenberg.raw('austen-emma.txt')\n",
    "persuasion = gutenberg.raw('austen-persuasion.txt')\n",
    "sense = gutenberg.raw('austen-sense.txt')\n",
    "\n",
    "emma = text_cleaner(emma)\n",
    "persuasion = text_cleaner(persuasion)\n",
    "sense = text_cleaner(sense)\n",
    "\n",
    "nlp = spacy.load('en')\n",
    "emma_doc = nlp(emma)\n",
    "persuasion_doc = nlp(persuasion)\n",
    "sense_doc = nlp(sense)"
   ]
  },
  {
   "cell_type": "code",
   "execution_count": 3,
   "metadata": {
    "colab": {},
    "colab_type": "code",
    "id": "1_d9_JCkDbj1"
   },
   "outputs": [],
   "source": [
    "persuasion_sents = []\n",
    "emma_sents = []\n",
    "sense_sents = []\n",
    "for sentence in persuasion_doc.sents:\n",
    "    persuasion_sents.append(sentence)\n",
    "for sentence in emma_doc.sents:\n",
    "    emma_sents.append(sentence)\n",
    "for sentence in sense_doc.sents:\n",
    "    sense_sents.append(sentence)"
   ]
  },
  {
   "cell_type": "code",
   "execution_count": 4,
   "metadata": {
    "colab": {},
    "colab_type": "code",
    "id": "MJyaaO9nDbj5"
   },
   "outputs": [],
   "source": [
    "persuasion_sents = persuasion_sents[:1000]\n",
    "emma_sents = emma_sents[:1000]\n",
    "sense_sents = sense_sents[:1000]"
   ]
  },
  {
   "cell_type": "code",
   "execution_count": 5,
   "metadata": {
    "colab": {},
    "colab_type": "code",
    "id": "35iWkfyqDbj7",
    "outputId": "ee3f7f12-a318-4541-ff9d-20cb7a6c53b1"
   },
   "outputs": [],
   "source": [
    "emma_df = [[sent, \"emma\"] for sent in emma_sents]\n",
    "persuasion_df = [[sent, \"persuasion\"] for sent in persuasion_sents]\n",
    "sense_df = [[sent, \"sense\"] for sent in sense_sents]\n",
    "sentences = pd.DataFrame(emma_df + persuasion_df + sense_df)"
   ]
  },
  {
   "cell_type": "code",
   "execution_count": 7,
   "metadata": {
    "colab": {},
    "colab_type": "code",
    "id": "GLLcMc8dDbkB"
   },
   "outputs": [],
   "source": [
    "def bag_of_words(text):    \n",
    "    allwords = [token.lemma_ for token in text if not token.is_punct and not token.is_stop]\n",
    "    return [item[0] for item in Counter(allwords).most_common(750)]\n",
    "def remove_missing_words(words, sentences):\n",
    "    text = ''\n",
    "    for token in sentences:\n",
    "        text += token.text\n",
    "    for word in words:\n",
    "        if word not in text:\n",
    "            words.remove(word)\n",
    "    return words\n",
    "def bow_features(sentences, common_words):\n",
    "    df = pd.DataFrame(columns=common_words)\n",
    "    df['text_sentence'] = sentences[0]\n",
    "    df['text_source'] = sentences[1]\n",
    "    df.loc[:, common_words] = 0\n",
    "\n",
    "    for i, sentence in enumerate(df['text_sentence']):\n",
    "        if i % 250 == 0:\n",
    "            print(\"Processing row {}\".format(i))\n",
    "        words = [token.lemma_\n",
    "                 for token in sentence\n",
    "                 if (not token.is_punct and not token.is_stop and token.lemma_ in common_words)]\n",
    "        for word in words:\n",
    "            df.loc[i, word] += 1\n",
    "    \n",
    "    return df"
   ]
  },
  {
   "cell_type": "code",
   "execution_count": 8,
   "metadata": {
    "colab": {},
    "colab_type": "code",
    "id": "BYxCyMwjDbkD",
    "outputId": "ca432828-bb24-4f97-bce3-fbcbeb94bcfa"
   },
   "outputs": [],
   "source": [
    "emma_words = bag_of_words(emma_doc)\n",
    "sense_words = bag_of_words(sense_doc)\n",
    "persuasion_words = bag_of_words(persuasion_doc)\n",
    "\n",
    "emma_words = remove_missing_words(emma_words, emma_sents)\n",
    "persuasion_words = remove_missing_words(persuasion_words, persuasion_sents)\n",
    "sense_words = remove_missing_words(sense_words, sense_sents)\n",
    "\n",
    "common_words = set(emma_words + sense_words + persuasion_words)\n"
   ]
  },
  {
   "cell_type": "code",
   "execution_count": 9,
   "metadata": {
    "colab": {},
    "colab_type": "code",
    "id": "496M65TrDbkG",
    "outputId": "71f6e119-07a3-43b8-f267-547a057cafce"
   },
   "outputs": [
    {
     "name": "stdout",
     "output_type": "stream",
     "text": [
      "Processing row 0\n",
      "Processing row 250\n",
      "Processing row 500\n",
      "Processing row 750\n",
      "Processing row 1000\n",
      "Processing row 1250\n",
      "Processing row 1500\n",
      "Processing row 1750\n",
      "Processing row 2000\n",
      "Processing row 2250\n",
      "Processing row 2500\n",
      "Processing row 2750\n"
     ]
    },
    {
     "data": {
      "text/html": [
       "<div>\n",
       "<style scoped>\n",
       "    .dataframe tbody tr th:only-of-type {\n",
       "        vertical-align: middle;\n",
       "    }\n",
       "\n",
       "    .dataframe tbody tr th {\n",
       "        vertical-align: top;\n",
       "    }\n",
       "\n",
       "    .dataframe thead th {\n",
       "        text-align: right;\n",
       "    }\n",
       "</style>\n",
       "<table border=\"1\" class=\"dataframe\">\n",
       "  <thead>\n",
       "    <tr style=\"text-align: right;\">\n",
       "      <th></th>\n",
       "      <th>delight</th>\n",
       "      <th>effect</th>\n",
       "      <th>scarcely</th>\n",
       "      <th>word</th>\n",
       "      <th>bless</th>\n",
       "      <th>arrive</th>\n",
       "      <th>look</th>\n",
       "      <th>fortune</th>\n",
       "      <th>longer</th>\n",
       "      <th>servant</th>\n",
       "      <th>...</th>\n",
       "      <th>help</th>\n",
       "      <th>mean</th>\n",
       "      <th>light</th>\n",
       "      <th>wise</th>\n",
       "      <th>scheme</th>\n",
       "      <th>idea</th>\n",
       "      <th>thought</th>\n",
       "      <th>Dashwood</th>\n",
       "      <th>text_sentence</th>\n",
       "      <th>text_source</th>\n",
       "    </tr>\n",
       "  </thead>\n",
       "  <tbody>\n",
       "    <tr>\n",
       "      <th>0</th>\n",
       "      <td>0</td>\n",
       "      <td>0</td>\n",
       "      <td>0</td>\n",
       "      <td>0</td>\n",
       "      <td>0</td>\n",
       "      <td>0</td>\n",
       "      <td>0</td>\n",
       "      <td>0</td>\n",
       "      <td>0</td>\n",
       "      <td>0</td>\n",
       "      <td>...</td>\n",
       "      <td>0</td>\n",
       "      <td>0</td>\n",
       "      <td>0</td>\n",
       "      <td>0</td>\n",
       "      <td>0</td>\n",
       "      <td>0</td>\n",
       "      <td>0</td>\n",
       "      <td>0</td>\n",
       "      <td>(CHAPTER)</td>\n",
       "      <td>emma</td>\n",
       "    </tr>\n",
       "    <tr>\n",
       "      <th>1</th>\n",
       "      <td>0</td>\n",
       "      <td>0</td>\n",
       "      <td>0</td>\n",
       "      <td>0</td>\n",
       "      <td>0</td>\n",
       "      <td>0</td>\n",
       "      <td>0</td>\n",
       "      <td>0</td>\n",
       "      <td>0</td>\n",
       "      <td>0</td>\n",
       "      <td>...</td>\n",
       "      <td>0</td>\n",
       "      <td>0</td>\n",
       "      <td>0</td>\n",
       "      <td>0</td>\n",
       "      <td>0</td>\n",
       "      <td>0</td>\n",
       "      <td>0</td>\n",
       "      <td>0</td>\n",
       "      <td>(I, Emma, Woodhouse, ,, handsome, ,, clever, ,...</td>\n",
       "      <td>emma</td>\n",
       "    </tr>\n",
       "    <tr>\n",
       "      <th>2</th>\n",
       "      <td>0</td>\n",
       "      <td>0</td>\n",
       "      <td>0</td>\n",
       "      <td>0</td>\n",
       "      <td>0</td>\n",
       "      <td>0</td>\n",
       "      <td>0</td>\n",
       "      <td>0</td>\n",
       "      <td>0</td>\n",
       "      <td>0</td>\n",
       "      <td>...</td>\n",
       "      <td>0</td>\n",
       "      <td>0</td>\n",
       "      <td>0</td>\n",
       "      <td>0</td>\n",
       "      <td>0</td>\n",
       "      <td>0</td>\n",
       "      <td>0</td>\n",
       "      <td>0</td>\n",
       "      <td>(She, was, the, youngest, of, the, two, daught...</td>\n",
       "      <td>emma</td>\n",
       "    </tr>\n",
       "    <tr>\n",
       "      <th>3</th>\n",
       "      <td>0</td>\n",
       "      <td>0</td>\n",
       "      <td>0</td>\n",
       "      <td>0</td>\n",
       "      <td>0</td>\n",
       "      <td>0</td>\n",
       "      <td>0</td>\n",
       "      <td>0</td>\n",
       "      <td>0</td>\n",
       "      <td>0</td>\n",
       "      <td>...</td>\n",
       "      <td>0</td>\n",
       "      <td>0</td>\n",
       "      <td>0</td>\n",
       "      <td>0</td>\n",
       "      <td>0</td>\n",
       "      <td>0</td>\n",
       "      <td>0</td>\n",
       "      <td>0</td>\n",
       "      <td>(Her, mother, had, died, too, long, ago, for, ...</td>\n",
       "      <td>emma</td>\n",
       "    </tr>\n",
       "    <tr>\n",
       "      <th>4</th>\n",
       "      <td>0</td>\n",
       "      <td>0</td>\n",
       "      <td>0</td>\n",
       "      <td>0</td>\n",
       "      <td>0</td>\n",
       "      <td>0</td>\n",
       "      <td>0</td>\n",
       "      <td>0</td>\n",
       "      <td>0</td>\n",
       "      <td>0</td>\n",
       "      <td>...</td>\n",
       "      <td>0</td>\n",
       "      <td>0</td>\n",
       "      <td>0</td>\n",
       "      <td>0</td>\n",
       "      <td>0</td>\n",
       "      <td>0</td>\n",
       "      <td>0</td>\n",
       "      <td>0</td>\n",
       "      <td>(Sixteen, years, had, Miss, Taylor, been, in, ...</td>\n",
       "      <td>emma</td>\n",
       "    </tr>\n",
       "  </tbody>\n",
       "</table>\n",
       "<p>5 rows × 1030 columns</p>\n",
       "</div>"
      ],
      "text/plain": [
       "  delight effect scarcely word bless arrive look fortune longer servant  ...  \\\n",
       "0       0      0        0    0     0      0    0       0      0       0  ...   \n",
       "1       0      0        0    0     0      0    0       0      0       0  ...   \n",
       "2       0      0        0    0     0      0    0       0      0       0  ...   \n",
       "3       0      0        0    0     0      0    0       0      0       0  ...   \n",
       "4       0      0        0    0     0      0    0       0      0       0  ...   \n",
       "\n",
       "  help mean light wise scheme idea thought Dashwood  \\\n",
       "0    0    0     0    0      0    0       0        0   \n",
       "1    0    0     0    0      0    0       0        0   \n",
       "2    0    0     0    0      0    0       0        0   \n",
       "3    0    0     0    0      0    0       0        0   \n",
       "4    0    0     0    0      0    0       0        0   \n",
       "\n",
       "                                       text_sentence text_source  \n",
       "0                                          (CHAPTER)        emma  \n",
       "1  (I, Emma, Woodhouse, ,, handsome, ,, clever, ,...        emma  \n",
       "2  (She, was, the, youngest, of, the, two, daught...        emma  \n",
       "3  (Her, mother, had, died, too, long, ago, for, ...        emma  \n",
       "4  (Sixteen, years, had, Miss, Taylor, been, in, ...        emma  \n",
       "\n",
       "[5 rows x 1030 columns]"
      ]
     },
     "execution_count": 9,
     "metadata": {},
     "output_type": "execute_result"
    }
   ],
   "source": [
    "word_counts = bow_features(sentences, common_words)\n",
    "word_counts.head()"
   ]
  },
  {
   "cell_type": "code",
   "execution_count": 10,
   "metadata": {
    "colab": {},
    "colab_type": "code",
    "id": "xqwAV472DbkI",
    "outputId": "f32e5e75-83f5-4ff1-be9e-428cbe0b9cef"
   },
   "outputs": [
    {
     "name": "stderr",
     "output_type": "stream",
     "text": [
      "/anaconda3/lib/python3.7/site-packages/sklearn/ensemble/forest.py:246: FutureWarning: The default value of n_estimators will change from 10 in version 0.20 to 100 in 0.22.\n",
      "  \"10 in version 0.20 to 100 in 0.22.\", FutureWarning)\n"
     ]
    },
    {
     "name": "stdout",
     "output_type": "stream",
     "text": [
      "Training set score: 0.8738888888888889\n",
      "\n",
      "Test set score: 0.6441666666666667\n"
     ]
    }
   ],
   "source": [
    "rfc = ensemble.RandomForestClassifier()\n",
    "Y = word_counts['text_source']\n",
    "X = np.array(word_counts.drop(['text_sentence','text_source'], 1))\n",
    "X_train, X_test, y_train, y_test = train_test_split(X, Y, test_size=0.4, random_state=0)\n",
    "train = rfc.fit(X_train, y_train)\n",
    "print('Training set score:', rfc.score(X_train, y_train))\n",
    "print('\\nTest set score:', rfc.score(X_test, y_test))"
   ]
  },
  {
   "cell_type": "code",
   "execution_count": 11,
   "metadata": {
    "colab": {},
    "colab_type": "code",
    "id": "5V88sqDqDbkL",
    "outputId": "58868677-4df8-48a2-f966-0333fb1bebae"
   },
   "outputs": [
    {
     "data": {
      "text/plain": [
       "array([0.51833333, 0.555     , 0.60833333, 0.60333333, 0.55333333])"
      ]
     },
     "execution_count": 11,
     "metadata": {},
     "output_type": "execute_result"
    }
   ],
   "source": [
    "cross_val_score(rfc, X, Y, cv=5)"
   ]
  },
  {
   "cell_type": "code",
   "execution_count": 12,
   "metadata": {
    "colab": {},
    "colab_type": "code",
    "id": "2znNwAqiDbkN",
    "outputId": "75883d44-b890-4612-c26c-d99038b95221"
   },
   "outputs": [
    {
     "name": "stdout",
     "output_type": "stream",
     "text": [
      "(1800, 1028) (1800,)\n",
      "Training set score: 0.8327777777777777\n",
      "\n",
      "Test set score: 0.6441666666666667\n"
     ]
    },
    {
     "name": "stderr",
     "output_type": "stream",
     "text": [
      "/anaconda3/lib/python3.7/site-packages/sklearn/linear_model/logistic.py:433: FutureWarning: Default solver will be changed to 'lbfgs' in 0.22. Specify a solver to silence this warning.\n",
      "  FutureWarning)\n",
      "/anaconda3/lib/python3.7/site-packages/sklearn/linear_model/logistic.py:460: FutureWarning: Default multi_class will be changed to 'auto' in 0.22. Specify the multi_class option to silence this warning.\n",
      "  \"this warning.\", FutureWarning)\n"
     ]
    }
   ],
   "source": [
    "lr = LogisticRegression()\n",
    "train = lr.fit(X_train, y_train)\n",
    "print(X_train.shape, y_train.shape)\n",
    "print('Training set score:', lr.score(X_train, y_train))\n",
    "print('\\nTest set score:', lr.score(X_test, y_test))"
   ]
  },
  {
   "cell_type": "code",
   "execution_count": 13,
   "metadata": {
    "colab": {},
    "colab_type": "code",
    "id": "g5Go1CM-DbkR",
    "outputId": "77801cf7-2b84-4316-a071-b13b71892a98"
   },
   "outputs": [
    {
     "name": "stderr",
     "output_type": "stream",
     "text": [
      "/anaconda3/lib/python3.7/site-packages/sklearn/linear_model/logistic.py:433: FutureWarning: Default solver will be changed to 'lbfgs' in 0.22. Specify a solver to silence this warning.\n",
      "  FutureWarning)\n",
      "/anaconda3/lib/python3.7/site-packages/sklearn/linear_model/logistic.py:460: FutureWarning: Default multi_class will be changed to 'auto' in 0.22. Specify the multi_class option to silence this warning.\n",
      "  \"this warning.\", FutureWarning)\n",
      "/anaconda3/lib/python3.7/site-packages/sklearn/linear_model/logistic.py:433: FutureWarning: Default solver will be changed to 'lbfgs' in 0.22. Specify a solver to silence this warning.\n",
      "  FutureWarning)\n",
      "/anaconda3/lib/python3.7/site-packages/sklearn/linear_model/logistic.py:460: FutureWarning: Default multi_class will be changed to 'auto' in 0.22. Specify the multi_class option to silence this warning.\n",
      "  \"this warning.\", FutureWarning)\n",
      "/anaconda3/lib/python3.7/site-packages/sklearn/linear_model/logistic.py:433: FutureWarning: Default solver will be changed to 'lbfgs' in 0.22. Specify a solver to silence this warning.\n",
      "  FutureWarning)\n",
      "/anaconda3/lib/python3.7/site-packages/sklearn/linear_model/logistic.py:460: FutureWarning: Default multi_class will be changed to 'auto' in 0.22. Specify the multi_class option to silence this warning.\n",
      "  \"this warning.\", FutureWarning)\n",
      "/anaconda3/lib/python3.7/site-packages/sklearn/linear_model/logistic.py:433: FutureWarning: Default solver will be changed to 'lbfgs' in 0.22. Specify a solver to silence this warning.\n",
      "  FutureWarning)\n",
      "/anaconda3/lib/python3.7/site-packages/sklearn/linear_model/logistic.py:460: FutureWarning: Default multi_class will be changed to 'auto' in 0.22. Specify the multi_class option to silence this warning.\n",
      "  \"this warning.\", FutureWarning)\n",
      "/anaconda3/lib/python3.7/site-packages/sklearn/linear_model/logistic.py:433: FutureWarning: Default solver will be changed to 'lbfgs' in 0.22. Specify a solver to silence this warning.\n",
      "  FutureWarning)\n",
      "/anaconda3/lib/python3.7/site-packages/sklearn/linear_model/logistic.py:460: FutureWarning: Default multi_class will be changed to 'auto' in 0.22. Specify the multi_class option to silence this warning.\n",
      "  \"this warning.\", FutureWarning)\n"
     ]
    },
    {
     "data": {
      "text/plain": [
       "array([0.56333333, 0.61333333, 0.62333333, 0.6       , 0.575     ])"
      ]
     },
     "execution_count": 13,
     "metadata": {},
     "output_type": "execute_result"
    }
   ],
   "source": [
    "cross_val_score(lr, X, Y, cv=5)"
   ]
  },
  {
   "cell_type": "code",
   "execution_count": 14,
   "metadata": {
    "colab": {},
    "colab_type": "code",
    "id": "v1ba_A5YDbkT",
    "outputId": "4dde7e94-b4f8-471a-dbd0-8efa2b28390b"
   },
   "outputs": [
    {
     "name": "stdout",
     "output_type": "stream",
     "text": [
      "Training set score: 0.6994444444444444\n",
      "\n",
      "Test set score: 0.6175\n"
     ]
    }
   ],
   "source": [
    "clf = ensemble.GradientBoostingClassifier()\n",
    "train = clf.fit(X_train, y_train)\n",
    "\n",
    "print('Training set score:', clf.score(X_train, y_train))\n",
    "print('\\nTest set score:', clf.score(X_test, y_test))"
   ]
  },
  {
   "cell_type": "code",
   "execution_count": 15,
   "metadata": {
    "colab": {},
    "colab_type": "code",
    "id": "1hmWVnNBDbkX",
    "outputId": "ac97d24c-7cd0-44bd-cb00-0c7b7417051b"
   },
   "outputs": [
    {
     "data": {
      "text/plain": [
       "array([0.545     , 0.59      , 0.61166667, 0.59666667, 0.565     ])"
      ]
     },
     "execution_count": 15,
     "metadata": {},
     "output_type": "execute_result"
    }
   ],
   "source": [
    "cross_val_score(clf, X, Y, cv=5)"
   ]
  },
  {
   "cell_type": "code",
   "execution_count": 16,
   "metadata": {
    "colab": {},
    "colab_type": "code",
    "id": "oeCiUOXADbkb"
   },
   "outputs": [],
   "source": [
    "def document_freq(data, sentences, common_words, doc_names, doc_words):    \n",
    "    df = pd.DataFrame(columns = common_words)\n",
    "    df.iloc[:, 0] = [0, 0, 0, 0, 0, 0]\n",
    "    df.loc[:, common_words] = 0\n",
    "    df.rename(index={0:'df', 1:'cf', 2:'idf', 3:'emma', 4:'persuasion', 5:'sense'}, inplace=True)\n",
    "    \n",
    "    for word in common_words:\n",
    "        df.loc['df', word] = data[data[word] > 0][word].count()\n",
    "        df.loc['cf', word] = data.loc[:, word].sum()\n",
    "        df.loc['idf', word] = np.log2(len(sentences)/df.loc['df', word])\n",
    "    for word in df.columns:\n",
    "        for i in range(len(doc_names)):\n",
    "            if word in doc_words[i]:\n",
    "                df.loc[doc_names[i], word] = df.loc['idf', word]\n",
    "    return df"
   ]
  },
  {
   "cell_type": "code",
   "execution_count": 17,
   "metadata": {
    "colab": {},
    "colab_type": "code",
    "id": "hIrHygeJDbkf",
    "outputId": "9bf0a07e-a6ba-4900-8a42-0f0c24f382dc"
   },
   "outputs": [
    {
     "name": "stderr",
     "output_type": "stream",
     "text": [
      "/anaconda3/lib/python3.7/site-packages/ipykernel_launcher.py:10: RuntimeWarning: divide by zero encountered in long_scalars\n",
      "  # Remove the CWD from sys.path while we load stuff.\n"
     ]
    },
    {
     "data": {
      "text/html": [
       "<div>\n",
       "<style scoped>\n",
       "    .dataframe tbody tr th:only-of-type {\n",
       "        vertical-align: middle;\n",
       "    }\n",
       "\n",
       "    .dataframe tbody tr th {\n",
       "        vertical-align: top;\n",
       "    }\n",
       "\n",
       "    .dataframe thead th {\n",
       "        text-align: right;\n",
       "    }\n",
       "</style>\n",
       "<table border=\"1\" class=\"dataframe\">\n",
       "  <thead>\n",
       "    <tr style=\"text-align: right;\">\n",
       "      <th></th>\n",
       "      <th>delight</th>\n",
       "      <th>effect</th>\n",
       "      <th>scarcely</th>\n",
       "      <th>word</th>\n",
       "      <th>bless</th>\n",
       "      <th>arrive</th>\n",
       "      <th>look</th>\n",
       "      <th>fortune</th>\n",
       "      <th>longer</th>\n",
       "      <th>servant</th>\n",
       "      <th>...</th>\n",
       "      <th>Kellynch</th>\n",
       "      <th>single</th>\n",
       "      <th>help</th>\n",
       "      <th>mean</th>\n",
       "      <th>light</th>\n",
       "      <th>wise</th>\n",
       "      <th>scheme</th>\n",
       "      <th>idea</th>\n",
       "      <th>thought</th>\n",
       "      <th>Dashwood</th>\n",
       "    </tr>\n",
       "  </thead>\n",
       "  <tbody>\n",
       "    <tr>\n",
       "      <th>df</th>\n",
       "      <td>20.000000</td>\n",
       "      <td>8.000000</td>\n",
       "      <td>12.000000</td>\n",
       "      <td>28.000000</td>\n",
       "      <td>7.000000</td>\n",
       "      <td>6.000000</td>\n",
       "      <td>61.000000</td>\n",
       "      <td>33.000000</td>\n",
       "      <td>24.000000</td>\n",
       "      <td>13.000000</td>\n",
       "      <td>...</td>\n",
       "      <td>40.000000</td>\n",
       "      <td>11.000000</td>\n",
       "      <td>18.000000</td>\n",
       "      <td>53.000000</td>\n",
       "      <td>4.000000</td>\n",
       "      <td>5.000000</td>\n",
       "      <td>6.000000</td>\n",
       "      <td>37.000000</td>\n",
       "      <td>24.000000</td>\n",
       "      <td>64.000000</td>\n",
       "    </tr>\n",
       "    <tr>\n",
       "      <th>cf</th>\n",
       "      <td>20.000000</td>\n",
       "      <td>8.000000</td>\n",
       "      <td>12.000000</td>\n",
       "      <td>28.000000</td>\n",
       "      <td>7.000000</td>\n",
       "      <td>6.000000</td>\n",
       "      <td>62.000000</td>\n",
       "      <td>35.000000</td>\n",
       "      <td>24.000000</td>\n",
       "      <td>14.000000</td>\n",
       "      <td>...</td>\n",
       "      <td>42.000000</td>\n",
       "      <td>11.000000</td>\n",
       "      <td>18.000000</td>\n",
       "      <td>54.000000</td>\n",
       "      <td>4.000000</td>\n",
       "      <td>5.000000</td>\n",
       "      <td>6.000000</td>\n",
       "      <td>37.000000</td>\n",
       "      <td>24.000000</td>\n",
       "      <td>65.000000</td>\n",
       "    </tr>\n",
       "    <tr>\n",
       "      <th>idf</th>\n",
       "      <td>7.228819</td>\n",
       "      <td>8.550747</td>\n",
       "      <td>7.965784</td>\n",
       "      <td>6.743392</td>\n",
       "      <td>8.743392</td>\n",
       "      <td>8.965784</td>\n",
       "      <td>5.620009</td>\n",
       "      <td>6.506353</td>\n",
       "      <td>6.965784</td>\n",
       "      <td>7.850307</td>\n",
       "      <td>...</td>\n",
       "      <td>6.228819</td>\n",
       "      <td>8.091315</td>\n",
       "      <td>7.380822</td>\n",
       "      <td>5.822826</td>\n",
       "      <td>9.550747</td>\n",
       "      <td>9.228819</td>\n",
       "      <td>8.965784</td>\n",
       "      <td>6.341293</td>\n",
       "      <td>6.965784</td>\n",
       "      <td>5.550747</td>\n",
       "    </tr>\n",
       "    <tr>\n",
       "      <th>emma</th>\n",
       "      <td>7.228819</td>\n",
       "      <td>8.550747</td>\n",
       "      <td>7.965784</td>\n",
       "      <td>6.743392</td>\n",
       "      <td>0.000000</td>\n",
       "      <td>0.000000</td>\n",
       "      <td>5.620009</td>\n",
       "      <td>6.506353</td>\n",
       "      <td>6.965784</td>\n",
       "      <td>7.850307</td>\n",
       "      <td>...</td>\n",
       "      <td>0.000000</td>\n",
       "      <td>8.091315</td>\n",
       "      <td>7.380822</td>\n",
       "      <td>5.822826</td>\n",
       "      <td>9.550747</td>\n",
       "      <td>0.000000</td>\n",
       "      <td>8.965784</td>\n",
       "      <td>6.341293</td>\n",
       "      <td>6.965784</td>\n",
       "      <td>0.000000</td>\n",
       "    </tr>\n",
       "    <tr>\n",
       "      <th>persuasion</th>\n",
       "      <td>7.228819</td>\n",
       "      <td>8.550747</td>\n",
       "      <td>7.965784</td>\n",
       "      <td>6.743392</td>\n",
       "      <td>8.743392</td>\n",
       "      <td>8.965784</td>\n",
       "      <td>5.620009</td>\n",
       "      <td>6.506353</td>\n",
       "      <td>6.965784</td>\n",
       "      <td>7.850307</td>\n",
       "      <td>...</td>\n",
       "      <td>6.228819</td>\n",
       "      <td>0.000000</td>\n",
       "      <td>7.380822</td>\n",
       "      <td>5.822826</td>\n",
       "      <td>0.000000</td>\n",
       "      <td>9.228819</td>\n",
       "      <td>8.965784</td>\n",
       "      <td>6.341293</td>\n",
       "      <td>6.965784</td>\n",
       "      <td>0.000000</td>\n",
       "    </tr>\n",
       "    <tr>\n",
       "      <th>sense</th>\n",
       "      <td>7.228819</td>\n",
       "      <td>8.550747</td>\n",
       "      <td>7.965784</td>\n",
       "      <td>6.743392</td>\n",
       "      <td>0.000000</td>\n",
       "      <td>8.965784</td>\n",
       "      <td>5.620009</td>\n",
       "      <td>6.506353</td>\n",
       "      <td>6.965784</td>\n",
       "      <td>7.850307</td>\n",
       "      <td>...</td>\n",
       "      <td>0.000000</td>\n",
       "      <td>0.000000</td>\n",
       "      <td>7.380822</td>\n",
       "      <td>5.822826</td>\n",
       "      <td>9.550747</td>\n",
       "      <td>0.000000</td>\n",
       "      <td>0.000000</td>\n",
       "      <td>6.341293</td>\n",
       "      <td>6.965784</td>\n",
       "      <td>5.550747</td>\n",
       "    </tr>\n",
       "  </tbody>\n",
       "</table>\n",
       "<p>6 rows × 1028 columns</p>\n",
       "</div>"
      ],
      "text/plain": [
       "              delight    effect   scarcely       word     bless    arrive  \\\n",
       "df          20.000000  8.000000  12.000000  28.000000  7.000000  6.000000   \n",
       "cf          20.000000  8.000000  12.000000  28.000000  7.000000  6.000000   \n",
       "idf          7.228819  8.550747   7.965784   6.743392  8.743392  8.965784   \n",
       "emma         7.228819  8.550747   7.965784   6.743392  0.000000  0.000000   \n",
       "persuasion   7.228819  8.550747   7.965784   6.743392  8.743392  8.965784   \n",
       "sense        7.228819  8.550747   7.965784   6.743392  0.000000  8.965784   \n",
       "\n",
       "                 look    fortune     longer    servant  ...   Kellynch  \\\n",
       "df          61.000000  33.000000  24.000000  13.000000  ...  40.000000   \n",
       "cf          62.000000  35.000000  24.000000  14.000000  ...  42.000000   \n",
       "idf          5.620009   6.506353   6.965784   7.850307  ...   6.228819   \n",
       "emma         5.620009   6.506353   6.965784   7.850307  ...   0.000000   \n",
       "persuasion   5.620009   6.506353   6.965784   7.850307  ...   6.228819   \n",
       "sense        5.620009   6.506353   6.965784   7.850307  ...   0.000000   \n",
       "\n",
       "               single       help       mean     light      wise    scheme  \\\n",
       "df          11.000000  18.000000  53.000000  4.000000  5.000000  6.000000   \n",
       "cf          11.000000  18.000000  54.000000  4.000000  5.000000  6.000000   \n",
       "idf          8.091315   7.380822   5.822826  9.550747  9.228819  8.965784   \n",
       "emma         8.091315   7.380822   5.822826  9.550747  0.000000  8.965784   \n",
       "persuasion   0.000000   7.380822   5.822826  0.000000  9.228819  8.965784   \n",
       "sense        0.000000   7.380822   5.822826  9.550747  0.000000  0.000000   \n",
       "\n",
       "                 idea    thought   Dashwood  \n",
       "df          37.000000  24.000000  64.000000  \n",
       "cf          37.000000  24.000000  65.000000  \n",
       "idf          6.341293   6.965784   5.550747  \n",
       "emma         6.341293   6.965784   0.000000  \n",
       "persuasion   6.341293   6.965784   0.000000  \n",
       "sense        6.341293   6.965784   5.550747  \n",
       "\n",
       "[6 rows x 1028 columns]"
      ]
     },
     "execution_count": 17,
     "metadata": {},
     "output_type": "execute_result"
    }
   ],
   "source": [
    "doc_names = ['emma', 'persuasion', 'sense']\n",
    "doc_words = [emma_words, persuasion_words, sense_words]\n",
    "tf_idf = document_freq(word_counts, sentences, common_words, doc_names, doc_words)\n",
    "tf_idf"
   ]
  },
  {
   "cell_type": "code",
   "execution_count": 18,
   "metadata": {
    "colab": {},
    "colab_type": "code",
    "id": "Z8VFkDfFDbki",
    "outputId": "daa288b1-d9f2-41ea-9c6e-1dd6f22d24fa"
   },
   "outputs": [
    {
     "data": {
      "text/html": [
       "<div>\n",
       "<style scoped>\n",
       "    .dataframe tbody tr th:only-of-type {\n",
       "        vertical-align: middle;\n",
       "    }\n",
       "\n",
       "    .dataframe tbody tr th {\n",
       "        vertical-align: top;\n",
       "    }\n",
       "\n",
       "    .dataframe thead th {\n",
       "        text-align: right;\n",
       "    }\n",
       "</style>\n",
       "<table border=\"1\" class=\"dataframe\">\n",
       "  <thead>\n",
       "    <tr style=\"text-align: right;\">\n",
       "      <th></th>\n",
       "      <th>df</th>\n",
       "      <th>cf</th>\n",
       "      <th>idf</th>\n",
       "      <th>emma</th>\n",
       "      <th>persuasion</th>\n",
       "      <th>sense</th>\n",
       "    </tr>\n",
       "  </thead>\n",
       "  <tbody>\n",
       "    <tr>\n",
       "      <th>delight</th>\n",
       "      <td>20.0</td>\n",
       "      <td>20.0</td>\n",
       "      <td>7.228819</td>\n",
       "      <td>7.228819</td>\n",
       "      <td>7.228819</td>\n",
       "      <td>7.228819</td>\n",
       "    </tr>\n",
       "    <tr>\n",
       "      <th>effect</th>\n",
       "      <td>8.0</td>\n",
       "      <td>8.0</td>\n",
       "      <td>8.550747</td>\n",
       "      <td>8.550747</td>\n",
       "      <td>8.550747</td>\n",
       "      <td>8.550747</td>\n",
       "    </tr>\n",
       "    <tr>\n",
       "      <th>scarcely</th>\n",
       "      <td>12.0</td>\n",
       "      <td>12.0</td>\n",
       "      <td>7.965784</td>\n",
       "      <td>7.965784</td>\n",
       "      <td>7.965784</td>\n",
       "      <td>7.965784</td>\n",
       "    </tr>\n",
       "    <tr>\n",
       "      <th>word</th>\n",
       "      <td>28.0</td>\n",
       "      <td>28.0</td>\n",
       "      <td>6.743392</td>\n",
       "      <td>6.743392</td>\n",
       "      <td>6.743392</td>\n",
       "      <td>6.743392</td>\n",
       "    </tr>\n",
       "    <tr>\n",
       "      <th>bless</th>\n",
       "      <td>7.0</td>\n",
       "      <td>7.0</td>\n",
       "      <td>8.743392</td>\n",
       "      <td>0.000000</td>\n",
       "      <td>8.743392</td>\n",
       "      <td>0.000000</td>\n",
       "    </tr>\n",
       "  </tbody>\n",
       "</table>\n",
       "</div>"
      ],
      "text/plain": [
       "            df    cf       idf      emma  persuasion     sense\n",
       "delight   20.0  20.0  7.228819  7.228819    7.228819  7.228819\n",
       "effect     8.0   8.0  8.550747  8.550747    8.550747  8.550747\n",
       "scarcely  12.0  12.0  7.965784  7.965784    7.965784  7.965784\n",
       "word      28.0  28.0  6.743392  6.743392    6.743392  6.743392\n",
       "bless      7.0   7.0  8.743392  0.000000    8.743392  0.000000"
      ]
     },
     "execution_count": 18,
     "metadata": {},
     "output_type": "execute_result"
    }
   ],
   "source": [
    "tf_idf = tf_idf.T\n",
    "tf_idf.head()"
   ]
  },
  {
   "cell_type": "code",
   "execution_count": 19,
   "metadata": {
    "colab": {},
    "colab_type": "code",
    "id": "yNyKkaZsDbkk",
    "outputId": "2e6bd32e-52af-495d-e295-c7e9761718c9"
   },
   "outputs": [
    {
     "data": {
      "text/html": [
       "<div>\n",
       "<style scoped>\n",
       "    .dataframe tbody tr th:only-of-type {\n",
       "        vertical-align: middle;\n",
       "    }\n",
       "\n",
       "    .dataframe tbody tr th {\n",
       "        vertical-align: top;\n",
       "    }\n",
       "\n",
       "    .dataframe thead th {\n",
       "        text-align: right;\n",
       "    }\n",
       "</style>\n",
       "<table border=\"1\" class=\"dataframe\">\n",
       "  <thead>\n",
       "    <tr style=\"text-align: right;\">\n",
       "      <th></th>\n",
       "      <th>df</th>\n",
       "      <th>cf</th>\n",
       "      <th>idf</th>\n",
       "      <th>emma</th>\n",
       "      <th>persuasion</th>\n",
       "      <th>sense</th>\n",
       "      <th>emma_threshold</th>\n",
       "      <th>persuasion_threshold</th>\n",
       "      <th>sense_threshold</th>\n",
       "    </tr>\n",
       "  </thead>\n",
       "  <tbody>\n",
       "    <tr>\n",
       "      <th>delight</th>\n",
       "      <td>20.0</td>\n",
       "      <td>20.0</td>\n",
       "      <td>7.228819</td>\n",
       "      <td>7.228819</td>\n",
       "      <td>7.228819</td>\n",
       "      <td>7.228819</td>\n",
       "      <td>1</td>\n",
       "      <td>1</td>\n",
       "      <td>1</td>\n",
       "    </tr>\n",
       "    <tr>\n",
       "      <th>effect</th>\n",
       "      <td>8.0</td>\n",
       "      <td>8.0</td>\n",
       "      <td>8.550747</td>\n",
       "      <td>8.550747</td>\n",
       "      <td>8.550747</td>\n",
       "      <td>8.550747</td>\n",
       "      <td>1</td>\n",
       "      <td>1</td>\n",
       "      <td>1</td>\n",
       "    </tr>\n",
       "    <tr>\n",
       "      <th>scarcely</th>\n",
       "      <td>12.0</td>\n",
       "      <td>12.0</td>\n",
       "      <td>7.965784</td>\n",
       "      <td>7.965784</td>\n",
       "      <td>7.965784</td>\n",
       "      <td>7.965784</td>\n",
       "      <td>1</td>\n",
       "      <td>1</td>\n",
       "      <td>1</td>\n",
       "    </tr>\n",
       "    <tr>\n",
       "      <th>word</th>\n",
       "      <td>28.0</td>\n",
       "      <td>28.0</td>\n",
       "      <td>6.743392</td>\n",
       "      <td>6.743392</td>\n",
       "      <td>6.743392</td>\n",
       "      <td>6.743392</td>\n",
       "      <td>1</td>\n",
       "      <td>1</td>\n",
       "      <td>1</td>\n",
       "    </tr>\n",
       "    <tr>\n",
       "      <th>bless</th>\n",
       "      <td>7.0</td>\n",
       "      <td>7.0</td>\n",
       "      <td>8.743392</td>\n",
       "      <td>0.000000</td>\n",
       "      <td>8.743392</td>\n",
       "      <td>0.000000</td>\n",
       "      <td>0</td>\n",
       "      <td>1</td>\n",
       "      <td>0</td>\n",
       "    </tr>\n",
       "  </tbody>\n",
       "</table>\n",
       "</div>"
      ],
      "text/plain": [
       "            df    cf       idf      emma  persuasion     sense  \\\n",
       "delight   20.0  20.0  7.228819  7.228819    7.228819  7.228819   \n",
       "effect     8.0   8.0  8.550747  8.550747    8.550747  8.550747   \n",
       "scarcely  12.0  12.0  7.965784  7.965784    7.965784  7.965784   \n",
       "word      28.0  28.0  6.743392  6.743392    6.743392  6.743392   \n",
       "bless      7.0   7.0  8.743392  0.000000    8.743392  0.000000   \n",
       "\n",
       "          emma_threshold  persuasion_threshold  sense_threshold  \n",
       "delight                1                     1                1  \n",
       "effect                 1                     1                1  \n",
       "scarcely               1                     1                1  \n",
       "word                   1                     1                1  \n",
       "bless                  0                     1                0  "
      ]
     },
     "execution_count": 19,
     "metadata": {},
     "output_type": "execute_result"
    }
   ],
   "source": [
    "threshold = 5\n",
    "tf_idf['emma_threshold'] = 0\n",
    "tf_idf['persuasion_threshold'] = 0\n",
    "tf_idf['sense_threshold'] = 0\n",
    "\n",
    "tf_idf['emma_threshold'] = np.where(tf_idf['emma'] > threshold, 1, 0)\n",
    "tf_idf['persuasion_threshold'] = np.where(tf_idf['persuasion'] > threshold, 1, 0)\n",
    "tf_idf['sense_threshold'] = np.where(tf_idf['sense'] > threshold, 1, 0)\n",
    "\n",
    "tf_idf.head()"
   ]
  },
  {
   "cell_type": "code",
   "execution_count": 20,
   "metadata": {
    "colab": {},
    "colab_type": "code",
    "id": "8M9fIVooDbkm",
    "outputId": "97a79dde-eee1-47a2-bdc5-aa6eedd7474c"
   },
   "outputs": [
    {
     "data": {
      "text/html": [
       "<div>\n",
       "<style scoped>\n",
       "    .dataframe tbody tr th:only-of-type {\n",
       "        vertical-align: middle;\n",
       "    }\n",
       "\n",
       "    .dataframe tbody tr th {\n",
       "        vertical-align: top;\n",
       "    }\n",
       "\n",
       "    .dataframe thead th {\n",
       "        text-align: right;\n",
       "    }\n",
       "</style>\n",
       "<table border=\"1\" class=\"dataframe\">\n",
       "  <thead>\n",
       "    <tr style=\"text-align: right;\">\n",
       "      <th></th>\n",
       "      <th>emma_threshold</th>\n",
       "      <th>persuasion_threshold</th>\n",
       "      <th>sense_threshold</th>\n",
       "    </tr>\n",
       "  </thead>\n",
       "  <tbody>\n",
       "    <tr>\n",
       "      <th>delight</th>\n",
       "      <td>1</td>\n",
       "      <td>1</td>\n",
       "      <td>1</td>\n",
       "    </tr>\n",
       "    <tr>\n",
       "      <th>effect</th>\n",
       "      <td>1</td>\n",
       "      <td>1</td>\n",
       "      <td>1</td>\n",
       "    </tr>\n",
       "    <tr>\n",
       "      <th>scarcely</th>\n",
       "      <td>1</td>\n",
       "      <td>1</td>\n",
       "      <td>1</td>\n",
       "    </tr>\n",
       "    <tr>\n",
       "      <th>word</th>\n",
       "      <td>1</td>\n",
       "      <td>1</td>\n",
       "      <td>1</td>\n",
       "    </tr>\n",
       "    <tr>\n",
       "      <th>bless</th>\n",
       "      <td>0</td>\n",
       "      <td>1</td>\n",
       "      <td>0</td>\n",
       "    </tr>\n",
       "  </tbody>\n",
       "</table>\n",
       "</div>"
      ],
      "text/plain": [
       "          emma_threshold  persuasion_threshold  sense_threshold\n",
       "delight                1                     1                1\n",
       "effect                 1                     1                1\n",
       "scarcely               1                     1                1\n",
       "word                   1                     1                1\n",
       "bless                  0                     1                0"
      ]
     },
     "execution_count": 20,
     "metadata": {},
     "output_type": "execute_result"
    }
   ],
   "source": [
    "tf_idf.drop(['df', 'cf', 'idf', 'emma', 'persuasion', 'sense'], axis=1, inplace=True)\n",
    "tf_idf.head()"
   ]
  },
  {
   "cell_type": "code",
   "execution_count": 21,
   "metadata": {
    "colab": {},
    "colab_type": "code",
    "id": "Zjx0M7Y6Dbko",
    "outputId": "eaf068f2-29fd-4df6-aec5-a407cab48fff"
   },
   "outputs": [
    {
     "data": {
      "text/html": [
       "<div>\n",
       "<style scoped>\n",
       "    .dataframe tbody tr th:only-of-type {\n",
       "        vertical-align: middle;\n",
       "    }\n",
       "\n",
       "    .dataframe tbody tr th {\n",
       "        vertical-align: top;\n",
       "    }\n",
       "\n",
       "    .dataframe thead th {\n",
       "        text-align: right;\n",
       "    }\n",
       "</style>\n",
       "<table border=\"1\" class=\"dataframe\">\n",
       "  <thead>\n",
       "    <tr style=\"text-align: right;\">\n",
       "      <th></th>\n",
       "      <th>emma_threshold</th>\n",
       "      <th>persuasion_threshold</th>\n",
       "      <th>sense_threshold</th>\n",
       "      <th>source</th>\n",
       "    </tr>\n",
       "  </thead>\n",
       "  <tbody>\n",
       "    <tr>\n",
       "      <th>delight</th>\n",
       "      <td>1</td>\n",
       "      <td>1</td>\n",
       "      <td>1</td>\n",
       "      <td>multiple</td>\n",
       "    </tr>\n",
       "    <tr>\n",
       "      <th>effect</th>\n",
       "      <td>1</td>\n",
       "      <td>1</td>\n",
       "      <td>1</td>\n",
       "      <td>multiple</td>\n",
       "    </tr>\n",
       "    <tr>\n",
       "      <th>scarcely</th>\n",
       "      <td>1</td>\n",
       "      <td>1</td>\n",
       "      <td>1</td>\n",
       "      <td>multiple</td>\n",
       "    </tr>\n",
       "    <tr>\n",
       "      <th>word</th>\n",
       "      <td>1</td>\n",
       "      <td>1</td>\n",
       "      <td>1</td>\n",
       "      <td>multiple</td>\n",
       "    </tr>\n",
       "    <tr>\n",
       "      <th>bless</th>\n",
       "      <td>0</td>\n",
       "      <td>1</td>\n",
       "      <td>0</td>\n",
       "      <td>multiple</td>\n",
       "    </tr>\n",
       "  </tbody>\n",
       "</table>\n",
       "</div>"
      ],
      "text/plain": [
       "          emma_threshold  persuasion_threshold  sense_threshold    source\n",
       "delight                1                     1                1  multiple\n",
       "effect                 1                     1                1  multiple\n",
       "scarcely               1                     1                1  multiple\n",
       "word                   1                     1                1  multiple\n",
       "bless                  0                     1                0  multiple"
      ]
     },
     "execution_count": 21,
     "metadata": {},
     "output_type": "execute_result"
    }
   ],
   "source": [
    "tf_idf['source'] = 'multiple'\n",
    "tf_idf.head()"
   ]
  },
  {
   "cell_type": "code",
   "execution_count": 22,
   "metadata": {
    "colab": {},
    "colab_type": "code",
    "id": "VhYcnzg-Dbkr"
   },
   "outputs": [],
   "source": [
    "def set_doc(df):\n",
    "    for i in range(len(df)):\n",
    "        flag = 0\n",
    "        set_source = 'multiple'\n",
    "        if (df.iloc[i, 0] == 1):\n",
    "            flag = 1\n",
    "            set_source = 'emma'\n",
    "        if (df.iloc[i, 1] == 1):\n",
    "            if (flag == 1): \n",
    "                continue\n",
    "            flag = 1\n",
    "            set_source = 'persuasion'\n",
    "        if df.iloc[i, 2] == 1:\n",
    "            if flag == 1:\n",
    "                continue\n",
    "            flag = 1\n",
    "            set_source = 'sense'\n",
    "        df.iloc[i, 3] = set_source\n",
    "        \n",
    "    return df"
   ]
  },
  {
   "cell_type": "code",
   "execution_count": 23,
   "metadata": {
    "colab": {},
    "colab_type": "code",
    "id": "Oq1hs7WgDbkt",
    "outputId": "6e55e9f7-8eae-49c0-b4cf-82bd00f16e53"
   },
   "outputs": [
    {
     "data": {
      "text/html": [
       "<div>\n",
       "<style scoped>\n",
       "    .dataframe tbody tr th:only-of-type {\n",
       "        vertical-align: middle;\n",
       "    }\n",
       "\n",
       "    .dataframe tbody tr th {\n",
       "        vertical-align: top;\n",
       "    }\n",
       "\n",
       "    .dataframe thead th {\n",
       "        text-align: right;\n",
       "    }\n",
       "</style>\n",
       "<table border=\"1\" class=\"dataframe\">\n",
       "  <thead>\n",
       "    <tr style=\"text-align: right;\">\n",
       "      <th></th>\n",
       "      <th>emma_threshold</th>\n",
       "      <th>persuasion_threshold</th>\n",
       "      <th>sense_threshold</th>\n",
       "      <th>source</th>\n",
       "    </tr>\n",
       "  </thead>\n",
       "  <tbody>\n",
       "    <tr>\n",
       "      <th>delight</th>\n",
       "      <td>1</td>\n",
       "      <td>1</td>\n",
       "      <td>1</td>\n",
       "      <td>multiple</td>\n",
       "    </tr>\n",
       "    <tr>\n",
       "      <th>effect</th>\n",
       "      <td>1</td>\n",
       "      <td>1</td>\n",
       "      <td>1</td>\n",
       "      <td>multiple</td>\n",
       "    </tr>\n",
       "    <tr>\n",
       "      <th>scarcely</th>\n",
       "      <td>1</td>\n",
       "      <td>1</td>\n",
       "      <td>1</td>\n",
       "      <td>multiple</td>\n",
       "    </tr>\n",
       "    <tr>\n",
       "      <th>word</th>\n",
       "      <td>1</td>\n",
       "      <td>1</td>\n",
       "      <td>1</td>\n",
       "      <td>multiple</td>\n",
       "    </tr>\n",
       "    <tr>\n",
       "      <th>bless</th>\n",
       "      <td>0</td>\n",
       "      <td>1</td>\n",
       "      <td>0</td>\n",
       "      <td>persuasion</td>\n",
       "    </tr>\n",
       "    <tr>\n",
       "      <th>arrive</th>\n",
       "      <td>0</td>\n",
       "      <td>1</td>\n",
       "      <td>1</td>\n",
       "      <td>multiple</td>\n",
       "    </tr>\n",
       "    <tr>\n",
       "      <th>look</th>\n",
       "      <td>1</td>\n",
       "      <td>1</td>\n",
       "      <td>1</td>\n",
       "      <td>multiple</td>\n",
       "    </tr>\n",
       "    <tr>\n",
       "      <th>fortune</th>\n",
       "      <td>1</td>\n",
       "      <td>1</td>\n",
       "      <td>1</td>\n",
       "      <td>multiple</td>\n",
       "    </tr>\n",
       "    <tr>\n",
       "      <th>longer</th>\n",
       "      <td>1</td>\n",
       "      <td>1</td>\n",
       "      <td>1</td>\n",
       "      <td>multiple</td>\n",
       "    </tr>\n",
       "    <tr>\n",
       "      <th>servant</th>\n",
       "      <td>1</td>\n",
       "      <td>1</td>\n",
       "      <td>1</td>\n",
       "      <td>multiple</td>\n",
       "    </tr>\n",
       "  </tbody>\n",
       "</table>\n",
       "</div>"
      ],
      "text/plain": [
       "          emma_threshold  persuasion_threshold  sense_threshold      source\n",
       "delight                1                     1                1    multiple\n",
       "effect                 1                     1                1    multiple\n",
       "scarcely               1                     1                1    multiple\n",
       "word                   1                     1                1    multiple\n",
       "bless                  0                     1                0  persuasion\n",
       "arrive                 0                     1                1    multiple\n",
       "look                   1                     1                1    multiple\n",
       "fortune                1                     1                1    multiple\n",
       "longer                 1                     1                1    multiple\n",
       "servant                1                     1                1    multiple"
      ]
     },
     "execution_count": 23,
     "metadata": {},
     "output_type": "execute_result"
    }
   ],
   "source": [
    "tf_idf = set_doc(tf_idf)\n",
    "tf_idf.head(10)"
   ]
  },
  {
   "cell_type": "code",
   "execution_count": 24,
   "metadata": {
    "colab": {},
    "colab_type": "code",
    "id": "ZUIDhDSJDbkv",
    "outputId": "98cbd3ed-7117-4789-b718-48e147c2c673"
   },
   "outputs": [
    {
     "name": "stdout",
     "output_type": "stream",
     "text": [
      "Training set score: 1.0\n",
      "\n",
      "Test set score: 1.0\n"
     ]
    },
    {
     "name": "stderr",
     "output_type": "stream",
     "text": [
      "/anaconda3/lib/python3.7/site-packages/sklearn/ensemble/forest.py:246: FutureWarning: The default value of n_estimators will change from 10 in version 0.20 to 100 in 0.22.\n",
      "  \"10 in version 0.20 to 100 in 0.22.\", FutureWarning)\n"
     ]
    }
   ],
   "source": [
    "rfc = ensemble.RandomForestClassifier()\n",
    "Y = tf_idf['source']\n",
    "X = tf_idf.drop(['source'], axis=1)\n",
    "X_train, X_test, y_train, y_test = train_test_split(X, Y,test_size=0.5)\n",
    "train = rfc.fit(X_train, y_train)\n",
    "print('Training set score:', rfc.score(X_train, y_train))\n",
    "print('\\nTest set score:', rfc.score(X_test, y_test))"
   ]
  },
  {
   "cell_type": "code",
   "execution_count": 25,
   "metadata": {
    "colab": {},
    "colab_type": "code",
    "id": "YMp3zrkZDbkx",
    "outputId": "fab8b7b6-57f4-44bf-f763-54537c3ddd9e"
   },
   "outputs": [
    {
     "data": {
      "text/plain": [
       "array([1., 1., 1., 1., 1.])"
      ]
     },
     "execution_count": 25,
     "metadata": {},
     "output_type": "execute_result"
    }
   ],
   "source": [
    "cross_val_score(rfc, X, Y, cv=5)"
   ]
  },
  {
   "cell_type": "code",
   "execution_count": 26,
   "metadata": {
    "colab": {},
    "colab_type": "code",
    "id": "tG7IlIMiDbkz",
    "outputId": "9f69ccca-6e5b-43a3-bbbd-639fcf334949"
   },
   "outputs": [
    {
     "name": "stdout",
     "output_type": "stream",
     "text": [
      "(514, 3) (514,)\n",
      "Training set score: 0.980544747081712\n",
      "\n",
      "Test set score: 0.9883268482490273\n"
     ]
    },
    {
     "name": "stderr",
     "output_type": "stream",
     "text": [
      "/anaconda3/lib/python3.7/site-packages/sklearn/linear_model/logistic.py:433: FutureWarning: Default solver will be changed to 'lbfgs' in 0.22. Specify a solver to silence this warning.\n",
      "  FutureWarning)\n",
      "/anaconda3/lib/python3.7/site-packages/sklearn/linear_model/logistic.py:460: FutureWarning: Default multi_class will be changed to 'auto' in 0.22. Specify the multi_class option to silence this warning.\n",
      "  \"this warning.\", FutureWarning)\n"
     ]
    }
   ],
   "source": [
    "lr = LogisticRegression()\n",
    "train = lr.fit(X_train, y_train)\n",
    "print(X_train.shape, y_train.shape)\n",
    "print('Training set score:', lr.score(X_train, y_train))\n",
    "print('\\nTest set score:', lr.score(X_test, y_test))"
   ]
  },
  {
   "cell_type": "code",
   "execution_count": 27,
   "metadata": {
    "colab": {},
    "colab_type": "code",
    "id": "i4y8IXvUDbk1",
    "outputId": "efe4e6c8-e360-4c7f-fd60-58fa5a246e1c"
   },
   "outputs": [
    {
     "name": "stderr",
     "output_type": "stream",
     "text": [
      "/anaconda3/lib/python3.7/site-packages/sklearn/linear_model/logistic.py:433: FutureWarning: Default solver will be changed to 'lbfgs' in 0.22. Specify a solver to silence this warning.\n",
      "  FutureWarning)\n",
      "/anaconda3/lib/python3.7/site-packages/sklearn/linear_model/logistic.py:460: FutureWarning: Default multi_class will be changed to 'auto' in 0.22. Specify the multi_class option to silence this warning.\n",
      "  \"this warning.\", FutureWarning)\n",
      "/anaconda3/lib/python3.7/site-packages/sklearn/linear_model/logistic.py:433: FutureWarning: Default solver will be changed to 'lbfgs' in 0.22. Specify a solver to silence this warning.\n",
      "  FutureWarning)\n",
      "/anaconda3/lib/python3.7/site-packages/sklearn/linear_model/logistic.py:460: FutureWarning: Default multi_class will be changed to 'auto' in 0.22. Specify the multi_class option to silence this warning.\n",
      "  \"this warning.\", FutureWarning)\n",
      "/anaconda3/lib/python3.7/site-packages/sklearn/linear_model/logistic.py:433: FutureWarning: Default solver will be changed to 'lbfgs' in 0.22. Specify a solver to silence this warning.\n",
      "  FutureWarning)\n",
      "/anaconda3/lib/python3.7/site-packages/sklearn/linear_model/logistic.py:460: FutureWarning: Default multi_class will be changed to 'auto' in 0.22. Specify the multi_class option to silence this warning.\n",
      "  \"this warning.\", FutureWarning)\n",
      "/anaconda3/lib/python3.7/site-packages/sklearn/linear_model/logistic.py:433: FutureWarning: Default solver will be changed to 'lbfgs' in 0.22. Specify a solver to silence this warning.\n",
      "  FutureWarning)\n",
      "/anaconda3/lib/python3.7/site-packages/sklearn/linear_model/logistic.py:460: FutureWarning: Default multi_class will be changed to 'auto' in 0.22. Specify the multi_class option to silence this warning.\n",
      "  \"this warning.\", FutureWarning)\n",
      "/anaconda3/lib/python3.7/site-packages/sklearn/linear_model/logistic.py:433: FutureWarning: Default solver will be changed to 'lbfgs' in 0.22. Specify a solver to silence this warning.\n",
      "  FutureWarning)\n",
      "/anaconda3/lib/python3.7/site-packages/sklearn/linear_model/logistic.py:460: FutureWarning: Default multi_class will be changed to 'auto' in 0.22. Specify the multi_class option to silence this warning.\n",
      "  \"this warning.\", FutureWarning)\n"
     ]
    },
    {
     "data": {
      "text/plain": [
       "array([0.98076923, 0.98067633, 0.9804878 , 1.        , 0.98039216])"
      ]
     },
     "execution_count": 27,
     "metadata": {},
     "output_type": "execute_result"
    }
   ],
   "source": [
    "cross_val_score(lr, X, Y, cv=5)"
   ]
  },
  {
   "cell_type": "code",
   "execution_count": 28,
   "metadata": {
    "colab": {},
    "colab_type": "code",
    "id": "g2DFJvlIDbk3",
    "outputId": "bcd30003-1c18-468d-ab2b-10460ef41909"
   },
   "outputs": [
    {
     "name": "stdout",
     "output_type": "stream",
     "text": [
      "Training set score: 1.0\n",
      "\n",
      "Test set score: 1.0\n"
     ]
    }
   ],
   "source": [
    "train = clf.fit(X_train, y_train)\n",
    "print('Training set score:', clf.score(X_train, y_train))\n",
    "print('\\nTest set score:', clf.score(X_test, y_test))"
   ]
  },
  {
   "cell_type": "code",
   "execution_count": 29,
   "metadata": {
    "colab": {},
    "colab_type": "code",
    "id": "WpX582MEDbk6",
    "outputId": "30f08fdc-7ecc-4209-809a-582d5ffa0882"
   },
   "outputs": [
    {
     "name": "stderr",
     "output_type": "stream",
     "text": [
      "/anaconda3/lib/python3.7/site-packages/sklearn/linear_model/logistic.py:433: FutureWarning: Default solver will be changed to 'lbfgs' in 0.22. Specify a solver to silence this warning.\n",
      "  FutureWarning)\n",
      "/anaconda3/lib/python3.7/site-packages/sklearn/linear_model/logistic.py:460: FutureWarning: Default multi_class will be changed to 'auto' in 0.22. Specify the multi_class option to silence this warning.\n",
      "  \"this warning.\", FutureWarning)\n",
      "/anaconda3/lib/python3.7/site-packages/sklearn/linear_model/logistic.py:433: FutureWarning: Default solver will be changed to 'lbfgs' in 0.22. Specify a solver to silence this warning.\n",
      "  FutureWarning)\n",
      "/anaconda3/lib/python3.7/site-packages/sklearn/linear_model/logistic.py:460: FutureWarning: Default multi_class will be changed to 'auto' in 0.22. Specify the multi_class option to silence this warning.\n",
      "  \"this warning.\", FutureWarning)\n",
      "/anaconda3/lib/python3.7/site-packages/sklearn/linear_model/logistic.py:433: FutureWarning: Default solver will be changed to 'lbfgs' in 0.22. Specify a solver to silence this warning.\n",
      "  FutureWarning)\n",
      "/anaconda3/lib/python3.7/site-packages/sklearn/linear_model/logistic.py:460: FutureWarning: Default multi_class will be changed to 'auto' in 0.22. Specify the multi_class option to silence this warning.\n",
      "  \"this warning.\", FutureWarning)\n",
      "/anaconda3/lib/python3.7/site-packages/sklearn/linear_model/logistic.py:433: FutureWarning: Default solver will be changed to 'lbfgs' in 0.22. Specify a solver to silence this warning.\n",
      "  FutureWarning)\n",
      "/anaconda3/lib/python3.7/site-packages/sklearn/linear_model/logistic.py:460: FutureWarning: Default multi_class will be changed to 'auto' in 0.22. Specify the multi_class option to silence this warning.\n",
      "  \"this warning.\", FutureWarning)\n",
      "/anaconda3/lib/python3.7/site-packages/sklearn/linear_model/logistic.py:433: FutureWarning: Default solver will be changed to 'lbfgs' in 0.22. Specify a solver to silence this warning.\n",
      "  FutureWarning)\n",
      "/anaconda3/lib/python3.7/site-packages/sklearn/linear_model/logistic.py:460: FutureWarning: Default multi_class will be changed to 'auto' in 0.22. Specify the multi_class option to silence this warning.\n",
      "  \"this warning.\", FutureWarning)\n"
     ]
    },
    {
     "data": {
      "text/plain": [
       "array([0.98076923, 0.98067633, 0.9804878 , 1.        , 0.98039216])"
      ]
     },
     "execution_count": 29,
     "metadata": {},
     "output_type": "execute_result"
    }
   ],
   "source": [
    "cross_val_score(lr, X, Y, cv=5)"
   ]
  },
  {
   "cell_type": "code",
   "execution_count": null,
   "metadata": {},
   "outputs": [],
   "source": []
  }
 ],
 "metadata": {
  "colab": {
   "name": "4.4.5 Build NLP.ipynb",
   "provenance": [],
   "version": "0.3.2"
  },
  "kernelspec": {
   "display_name": "Python 3",
   "language": "python",
   "name": "python3"
  },
  "language_info": {
   "codemirror_mode": {
    "name": "ipython",
    "version": 3
   },
   "file_extension": ".py",
   "mimetype": "text/x-python",
   "name": "python",
   "nbconvert_exporter": "python",
   "pygments_lexer": "ipython3",
   "version": "3.7.3"
  }
 },
 "nbformat": 4,
 "nbformat_minor": 2
}
