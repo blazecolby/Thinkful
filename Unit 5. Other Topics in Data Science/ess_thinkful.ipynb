{
 "cells": [
  {
   "cell_type": "code",
   "execution_count": 104,
   "metadata": {},
   "outputs": [],
   "source": [
    "import pandas as pd\n",
    "import numpy as np\n",
    "import matplotlib.pyplot as plt\n",
    "import math\n",
    "from scipy import stats\n",
    "\n",
    "import warnings as wn\n",
    "wn.filterwarnings('ignore')"
   ]
  },
  {
   "cell_type": "code",
   "execution_count": 108,
   "metadata": {},
   "outputs": [],
   "source": [
    "df_main = pd.read_csv('ESSdata_Thinkful.csv')"
   ]
  },
  {
   "cell_type": "code",
   "execution_count": 110,
   "metadata": {},
   "outputs": [
    {
     "name": "stdout",
     "output_type": "stream",
     "text": [
      "CH Ttest_relResult(statistic=-0.6586851756725737, pvalue=0.5102943511301135)\n",
      "CZ Ttest_relResult(statistic=-0.5001638336887216, pvalue=0.6171292682404208)\n",
      "DE Ttest_relResult(statistic=-0.18399501804849683, pvalue=0.8568563797095805)\n",
      "ES Ttest_relResult(statistic=2.4561906976601646, pvalue=0.014181580725321856)\n",
      "NO Ttest_relResult(statistic=0.5073077081124404, pvalue=0.6120925701518767)\n",
      "SE Ttest_relResult(statistic=-2.0671082026033982, pvalue=0.0390078167095776)\n"
     ]
    }
   ],
   "source": [
    "# trust\n",
    "for country in df_main['cntry'].unique():\n",
    "    print(country, stats.ttest_rel(\n",
    "    df_main[(df_main['cntry'] == country) & (df_main['year'] == 6)].merge(\n",
    "        df_main[(df_main['cntry'] == country) & (df_main['year'] == 7)], \n",
    "                                       how='outer', on='idno',\n",
    "                                        suffixes=('_2012', '_2014'))[[\n",
    "        'idno', 'ppltrst_2012', 'ppltrst_2014']].dropna()['ppltrst_2012'],\n",
    "\n",
    "    df_main[(df_main['cntry'] == country) & (df_main['year'] == 6)].merge(\n",
    "        df_main[(df_main['cntry'] == country) & (df_main['year'] == 7)], \n",
    "                                       how='outer', on='idno',\n",
    "                                        suffixes=('_2012', '_2014'))[[\n",
    "        'idno', 'ppltrst_2012', 'ppltrst_2014']].dropna()['ppltrst_2014']))"
   ]
  },
  {
   "cell_type": "code",
   "execution_count": 112,
   "metadata": {},
   "outputs": [
    {
     "name": "stdout",
     "output_type": "stream",
     "text": [
      "CH Ttest_relResult(statistic=-0.319412957862232, pvalue=0.7495001355428359)\n",
      "CZ Ttest_relResult(statistic=-1.4561384833039597, pvalue=0.14584548433894534)\n",
      "DE Ttest_relResult(statistic=-0.8062257748298549, pvalue=0.4346138707734991)\n",
      "ES Ttest_relResult(statistic=1.613832417735418, pvalue=0.1068245155648069)\n",
      "NO Ttest_relResult(statistic=4.2856826576235925, pvalue=2.0674530134057013e-05)\n",
      "SE Ttest_relResult(statistic=-0.5581637086030012, pvalue=0.5768709591234161)\n"
     ]
    }
   ],
   "source": [
    "# happy\n",
    "for country in df_main['cntry'].unique():\n",
    "    print(country, stats.ttest_rel(\n",
    "    df_main[(df_main['cntry'] == country) & (df_main['year'] == 6)].merge(\n",
    "        df_main[(df_main['cntry'] == country) & (df_main['year'] == 7)], \n",
    "                                       how='outer', on='idno',\n",
    "                                        suffixes=('_2012', '_2014'))[[\n",
    "        'idno', 'happy_2012', 'happy_2014']].dropna()['happy_2012'],\n",
    "\n",
    "    df_main[(df_main['cntry'] == country) & (df_main['year'] == 6)].merge(\n",
    "        df_main[(df_main['cntry'] == country) & (df_main['year'] == 7)], \n",
    "                                       how='outer', on='idno',\n",
    "                                        suffixes=('_2012', '_2014'))[[\n",
    "        'idno', 'happy_2012', 'happy_2014']].dropna()['happy_2014']))"
   ]
  },
  {
   "cell_type": "code",
   "execution_count": 117,
   "metadata": {},
   "outputs": [
    {
     "data": {
      "text/plain": [
       "Ttest_indResult(statistic=-0.6899351288552367, pvalue=0.49027236479485914)"
      ]
     },
     "execution_count": 117,
     "metadata": {},
     "output_type": "execute_result"
    }
   ],
   "source": [
    "# tv\n",
    "stats.ttest_ind(\n",
    "df_main[(df_main['year'] == 6) & (df_main['gndr'] == 1)]['tvtot'].dropna(),\n",
    "                      df_main[(df_main['year'] == 6) & (df_main['gndr'] == 2)]['tvtot'].dropna(),\n",
    "    axis=0, equal_var=False)"
   ]
  },
  {
   "cell_type": "code",
   "execution_count": 118,
   "metadata": {},
   "outputs": [
    {
     "data": {
      "text/plain": [
       "Ttest_indResult(statistic=3.3027889746563357, pvalue=0.0009673897763136988)"
      ]
     },
     "execution_count": 118,
     "metadata": {},
     "output_type": "execute_result"
    }
   ],
   "source": [
    "# fair\n",
    "stats.ttest_ind(\n",
    "df_main[(df_main['year'] == 6) & (df_main['partner'] == 1)]['pplfair'].dropna(),\n",
    "                      df_main[(df_main['year'] == 6) & (df_main['partner'] == 2)]['pplfair'].dropna(),\n",
    "    axis=0, equal_var=False)"
   ]
  },
  {
   "cell_type": "code",
   "execution_count": 119,
   "metadata": {},
   "outputs": [
    {
     "data": {
      "text/plain": [
       "F_onewayResult(statistic=3.726110434690217, pvalue=0.02420388186106648)"
      ]
     },
     "execution_count": 119,
     "metadata": {},
     "output_type": "execute_result"
    }
   ],
   "source": [
    "# socially meet\n",
    "stats.f_oneway(\n",
    "    df_main[(df_main['year'] == 7) & (df_main['cntry'] == 'ES')]['sclmeet'].dropna(),\n",
    "    df_main[(df_main['year'] == 7) & (df_main['cntry'] == 'NO')]['sclmeet'].dropna(),\n",
    "    df_main[(df_main['year'] == 7) & (df_main['cntry'] == 'SE')]['sclmeet'].dropna())"
   ]
  },
  {
   "cell_type": "code",
   "execution_count": null,
   "metadata": {},
   "outputs": [],
   "source": []
  }
 ],
 "metadata": {
  "kernelspec": {
   "display_name": "Python 3",
   "language": "python",
   "name": "python3"
  },
  "language_info": {
   "codemirror_mode": {
    "name": "ipython",
    "version": 3
   },
   "file_extension": ".py",
   "mimetype": "text/x-python",
   "name": "python",
   "nbconvert_exporter": "python",
   "pygments_lexer": "ipython3",
   "version": "3.7.3"
  }
 },
 "nbformat": 4,
 "nbformat_minor": 2
}
