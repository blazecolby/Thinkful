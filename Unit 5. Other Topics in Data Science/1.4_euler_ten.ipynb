{
 "cells": [
  {
   "cell_type": "code",
   "execution_count": 38,
   "metadata": {},
   "outputs": [],
   "source": [
    "import numpy as np\n",
    "import functools"
   ]
  },
  {
   "cell_type": "code",
   "execution_count": 17,
   "metadata": {},
   "outputs": [
    {
     "name": "stdout",
     "output_type": "stream",
     "text": [
      "233168\n"
     ]
    }
   ],
   "source": [
    "def multiples():\n",
    "  '''\n",
    "  Problem 1: Multiples of 3 and 5\n",
    "  Find the sum of all the multiples of 3 or 5 below 1000.\n",
    "  '''\n",
    "  mltpls = 0\n",
    "  for num in range(1, 1000):\n",
    "    if num % 3 == 0 or num % 5 == 0:\n",
    "      mltpls = num + mltpls\n",
    "  print(mltpls)\n",
    "  \n",
    "multiples()"
   ]
  },
  {
   "cell_type": "code",
   "execution_count": 23,
   "metadata": {},
   "outputs": [
    {
     "data": {
      "text/plain": [
       "4613732"
      ]
     },
     "execution_count": 23,
     "metadata": {},
     "output_type": "execute_result"
    }
   ],
   "source": [
    "def fibonacci():\n",
    "  '''\n",
    "  Problem 2: Even Fibonacci numbers\n",
    "  Consider the terms in Fibonacci sequence < four million, \n",
    "  find the sum of the even-valued numbers.\n",
    "  '''\n",
    "  even = 0\n",
    "  a = 0\n",
    "  b = 1\n",
    "  nums = []\n",
    "  while True:\n",
    "    c = a + b \n",
    "    if c > 4000000:\n",
    "      break\n",
    "    nums.append(c)\n",
    "    a = b \n",
    "    b = c\n",
    "  for e in nums:\n",
    "    if e % 2 == 0:\n",
    "      even = e + even\n",
    "  return even\n",
    "fibonacci()"
   ]
  },
  {
   "cell_type": "code",
   "execution_count": 31,
   "metadata": {},
   "outputs": [
    {
     "name": "stdout",
     "output_type": "stream",
     "text": [
      "6857\n"
     ]
    }
   ],
   "source": [
    "'''\n",
    "Problem 3: Largest prime factor\n",
    "What is the largest prime factor of the number 600851475143?\n",
    "'''\n",
    "plist = [2]\n",
    "def primes(min, max):\n",
    "  if 2 >= min: yield 2\n",
    "  for i in range(3, max, 2):\n",
    "    for p in plist:\n",
    "      if i%p == 0 or p*p > i: break\n",
    "    if i%p:\n",
    "      plist.append(i)\n",
    "      if i >= min: yield i\n",
    "def factors(number):\n",
    "  for prime in primes(2, number):\n",
    "    if number % prime == 0:\n",
    "      number /= prime\n",
    "      yield prime\n",
    "    if number == 1:\n",
    "      break\n",
    "print(max(factors(600851475143)))"
   ]
  },
  {
   "cell_type": "code",
   "execution_count": 37,
   "metadata": {},
   "outputs": [
    {
     "data": {
      "text/plain": [
       "906609"
      ]
     },
     "execution_count": 37,
     "metadata": {},
     "output_type": "execute_result"
    }
   ],
   "source": [
    "def palindrome():\n",
    "  '''\n",
    "  Problem 4: Largest palindrome product\n",
    "  The largest palindrome from the product of two \n",
    "  2-digit numbers is 9009 = 91 × 99.\n",
    "  Find the largest palindrome made from the product of \n",
    "  two 3-digit numbers.\n",
    "  '''\n",
    "  all_palindromes = (i * j\n",
    "                     for i in reversed(range(100, 1000))\n",
    "                     for j in reversed(range(100, 1000))\n",
    "                     if str(i * j) == str(i * j)[::-1]\n",
    "                     )\n",
    "  return max(all_palindromes)\n",
    "palindrome()    "
   ]
  },
  {
   "cell_type": "code",
   "execution_count": 41,
   "metadata": {},
   "outputs": [
    {
     "data": {
      "text/plain": [
       "232792560"
      ]
     },
     "execution_count": 41,
     "metadata": {},
     "output_type": "execute_result"
    }
   ],
   "source": [
    "def small_multiples():\n",
    "  '''\n",
    "  Problem 5: Smallest multiple:\n",
    "  2520 is the smallest number that can be divided by each of the numbers \n",
    "  from 1 to 10 without any remainder.\n",
    "\n",
    "  What is the smallest + number thats evenly divisible by numbers from 1 to 20?\n",
    "  '''\n",
    "  def find_lcm(*args):\n",
    "      return functools.reduce(lcm, args)\n",
    "  def lcm(a, b):\n",
    "      return a * b // gcd(a, b)\n",
    "  def gcd(a, b):\n",
    "      if a == 0:\n",
    "          return b\n",
    "      else:\n",
    "          return gcd(b % a, a)\n",
    "  return find_lcm(*range(1, 20))\n",
    "small_multiples()"
   ]
  },
  {
   "cell_type": "code",
   "execution_count": 42,
   "metadata": {},
   "outputs": [
    {
     "name": "stdout",
     "output_type": "stream",
     "text": [
      "25164150\n"
     ]
    }
   ],
   "source": [
    "'''\n",
    "Problem 6: Sum square difference\n",
    "Find the difference between the sum of the squares of the first \n",
    "one hundred natural numbers and the square of the sum.\n",
    "'''\n",
    "def sum_of_squares(range_start, range_end):\n",
    "  return sum(i**2 for i in range(range_start, range_end))\n",
    "\n",
    "def square_of_sum(range_start, range_end):\n",
    "  return sum(range(range_start, range_end)) ** 2\n",
    "\n",
    "def diffs(range_start, range_end):\n",
    "  a = sum_of_squares(range_start, range_end)\n",
    "  b = square_of_sum(range_start, range_end)\n",
    "  return np.abs(a - b)\n",
    "print(diffs(1, 101))"
   ]
  },
  {
   "cell_type": "code",
   "execution_count": 50,
   "metadata": {},
   "outputs": [
    {
     "data": {
      "text/plain": [
       "104743"
      ]
     },
     "execution_count": 50,
     "metadata": {},
     "output_type": "execute_result"
    }
   ],
   "source": [
    "def primes():\n",
    "  '''\n",
    "  Problem 7: 10001st prime\n",
    "  What is the 10001st prime number?\n",
    "  '''\n",
    "  n = 200000\n",
    "  sieve = np.array([True for _ in range(n)])\n",
    "  sieve[0:2] = False\n",
    "  upper_bound = int(np.sqrt(n))\n",
    "  for i in range(2, upper_bound+1):\n",
    "    if sieve[i]:\n",
    "      j = i * i\n",
    "      counter = 0\n",
    "      while j < n:\n",
    "        sieve[j] = False\n",
    "        j = (i * i) + (counter * i)\n",
    "        counter += 1\n",
    "  primes = np.where(sieve == True)[0]\n",
    "  return primes[10000]\n",
    "primes()\n"
   ]
  },
  {
   "cell_type": "code",
   "execution_count": 46,
   "metadata": {},
   "outputs": [
    {
     "name": "stdout",
     "output_type": "stream",
     "text": [
      "23514624000\n"
     ]
    }
   ],
   "source": [
    "'''\n",
    "Problem 8: Largest product in a series\n",
    "Find the thirteen adjacent digits in the 1000-digit number \n",
    "that have the greatest product. What is the value of this product?\n",
    "'''\n",
    "def compute():\n",
    "  ans = max(product(num[i:i + adj]) for i in range(len(num) - adj + 1))\n",
    "  return str(ans)\n",
    "def product(s):\n",
    "  result = 1\n",
    "  for c in s:\n",
    "    result *= int(c)\n",
    "  return result\n",
    "num = \"7316717653133062491922511967442657474235534919493496983520312774506326239578318016984801869478851843858615607891129494954595017379583319528532088055111254069874715852386305071569329096329522744304355766896648950445244523161731856403098711121722383113622298934233803081353362766142828064444866452387493035890729629049156044077239071381051585930796086670172427121883998797908792274921901699720888093776657273330010533678812202354218097512545405947522435258490771167055601360483958644670632441572215539753697817977846174064955149290862569321978468622482839722413756570560574902614079729686524145351004748216637048440319989000889524345065854122758866688116427171479924442928230863465674813919123162824586178664583591245665294765456828489128831426076900422421902267105562632111110937054421750694165896040807198403850962455444362981230987879927244284909188845801561660979191338754992005240636899125607176060588611646710940507754100225698315520005593572972571636269561882670428252483600823257530420752963450\"\n",
    "adj = 13\n",
    "print(compute())"
   ]
  },
  {
   "cell_type": "code",
   "execution_count": 56,
   "metadata": {},
   "outputs": [
    {
     "data": {
      "text/plain": [
       "31875000.0"
      ]
     },
     "execution_count": 56,
     "metadata": {},
     "output_type": "execute_result"
    }
   ],
   "source": [
    "def triplet():\n",
    "  '''\n",
    "  Problem 9: Special Pythagorean triplet\n",
    "  A Pythagorean triplet is a set of three natural numbers, a < b < c, for which,\n",
    "  There exists exactly one Pythagorean triplet for which a + b + c = 1000.\n",
    "  Find the product abc.\n",
    "  '''\n",
    "  for a in range(1, 500):\n",
    "    for b in range(1, 500):\n",
    "      c = np.sqrt(a**2 + b**2)\n",
    "      if a + b + c == 1000:\n",
    "        return a*b*c\n",
    "triplet()"
   ]
  },
  {
   "cell_type": "code",
   "execution_count": 51,
   "metadata": {},
   "outputs": [
    {
     "data": {
      "text/plain": [
       "142913828922"
      ]
     },
     "execution_count": 51,
     "metadata": {},
     "output_type": "execute_result"
    }
   ],
   "source": [
    "def sum_prime():\n",
    "  '''\n",
    "  Problem 10: Summation of primes\n",
    "  The sum of the primes below 10 is 2 + 3 + 5 + 7 = 17.\n",
    "  Find the sum of all the primes below two million.\n",
    "  '''\n",
    "  n = 5000000\n",
    "  sieve = np.array([True for _ in range(n)])\n",
    "  sieve[0:2] = False\n",
    "  upper_bound = int(np.sqrt(n))\n",
    "  for i in range(2, upper_bound+1):\n",
    "      if sieve[i]:\n",
    "          j = i * i\n",
    "          counter = 0\n",
    "          while j < n:\n",
    "              sieve[j] = False\n",
    "              j = (i * i) + (counter * i)\n",
    "              counter += 1\n",
    "\n",
    "  primes = np.where(sieve == True)[0]\n",
    "\n",
    "  idx = np.where(primes < 2000000)[0]\n",
    "  subset = primes[idx]\n",
    "  return sum(subset)\n",
    "sum_prime()"
   ]
  },
  {
   "cell_type": "code",
   "execution_count": null,
   "metadata": {},
   "outputs": [],
   "source": []
  }
 ],
 "metadata": {
  "kernelspec": {
   "display_name": "Python 3",
   "language": "python",
   "name": "python3"
  },
  "language_info": {
   "codemirror_mode": {
    "name": "ipython",
    "version": 3
   },
   "file_extension": ".py",
   "mimetype": "text/x-python",
   "name": "python",
   "nbconvert_exporter": "python",
   "pygments_lexer": "ipython3",
   "version": "3.7.3"
  }
 },
 "nbformat": 4,
 "nbformat_minor": 2
}
