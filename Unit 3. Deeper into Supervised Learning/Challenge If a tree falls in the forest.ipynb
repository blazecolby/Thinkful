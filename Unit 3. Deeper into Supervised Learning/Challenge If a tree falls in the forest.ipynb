{
 "cells": [
  {
   "cell_type": "code",
   "execution_count": 1,
   "metadata": {},
   "outputs": [],
   "source": [
    "import pandas as pd\n",
    "import numpy as np\n",
    "import time\n",
    "\n",
    "from IPython.display import Image\n",
    "from sklearn import ensemble\n",
    "from pprint import pprint\n",
    "import pydotplus\n",
    "\n",
    "from sklearn.datasets import make_regression\n",
    "from sklearn.ensemble import RandomForestRegressor\n",
    "from sklearn.model_selection import train_test_split\n",
    "from sklearn.tree import export_graphviz\n",
    "from sklearn import tree"
   ]
  },
  {
   "cell_type": "code",
   "execution_count": 2,
   "metadata": {},
   "outputs": [],
   "source": [
    "df = pd.read_csv('mort.csv', low_memory=False)"
   ]
  },
  {
   "cell_type": "code",
   "execution_count": 3,
   "metadata": {},
   "outputs": [],
   "source": [
    "df['denial_reason_name_1'] = df['denial_reason_name_1'].replace('Credit history', 'Denied')\n",
    "df['denial_reason_name_1'] = df['denial_reason_name_1'].replace('Credit application incomplete', 'Denied')\n",
    "df['denial_reason_name_1'] = df['denial_reason_name_1'].replace('Insufficient cash (downpayment, closing costs)', 'Denied')\n",
    "df['denial_reason_name_1'] = df['denial_reason_name_1'].replace('Mortgage insurance denied', 'Denied')\n",
    "df['denial_reason_name_1'] = df['denial_reason_name_1'].replace('Employment history', 'Denied')\n",
    "df['denial_reason_name_1'] = df['denial_reason_name_1'].replace('Unverifiable information', 'Denied')\n",
    "df['denial_reason_name_1'] = df['denial_reason_name_1'].replace('Other', 'Denied')\n",
    "df['denial_reason_name_1'] = df['denial_reason_name_1'].replace('Collateral', 'Denied')\n",
    "df['denial_reason_name_1'] = df['denial_reason_name_1'].replace('Debt-to-income ratio', 'Denied')\n",
    "df['denial_reason_name_1'] = df['denial_reason_name_1'].fillna('Accepted')"
   ]
  },
  {
   "cell_type": "code",
   "execution_count": 4,
   "metadata": {},
   "outputs": [],
   "source": [
    "df = df.drop(columns=['denial_reason_name_2','denial_reason_name_3'])"
   ]
  },
  {
   "cell_type": "code",
   "execution_count": 5,
   "metadata": {},
   "outputs": [],
   "source": [
    "labels = df['denial_reason_name_1']\n",
    "features = df.drop('denial_reason_name_1', axis = 1)"
   ]
  },
  {
   "cell_type": "code",
   "execution_count": 6,
   "metadata": {},
   "outputs": [],
   "source": [
    "labels = pd.get_dummies(labels, dtype=int)\n",
    "features = pd.get_dummies(features, dtype=int)\n",
    "features.fillna(features.mean(), inplace=True)\n",
    "labels.fillna(labels.mean(), inplace=True)"
   ]
  },
  {
   "cell_type": "code",
   "execution_count": 7,
   "metadata": {},
   "outputs": [],
   "source": [
    "train_features, test_features, train_labels, test_labels = train_test_split(features, labels, test_size = 0.2)"
   ]
  },
  {
   "cell_type": "code",
   "execution_count": 8,
   "metadata": {},
   "outputs": [],
   "source": [
    "train_features = train_features.fillna(train_features.mean())\n",
    "test_features = test_features.fillna(test_features.mean())\n",
    "train_labels = train_labels.fillna(train_labels.mean())\n",
    "test_labels = test_labels.fillna(test_labels.mean())"
   ]
  },
  {
   "cell_type": "code",
   "execution_count": 9,
   "metadata": {},
   "outputs": [],
   "source": [
    "# features[['tract_to_msamd_income','population','minority_population','number_of_owner_occupied_units',\n",
    "#           'number_of_1_to_4_family_units','hud_median_family_income','applicant_income_000s',\n",
    "#           'census_tract_number','census_tract_number']] = features[['tract_to_msamd_income','population','minority_population','number_of_owner_occupied_units',\n",
    "#                                                                     'number_of_1_to_4_family_units','hud_median_family_income','applicant_income_000s',\n",
    "#                                                                     'census_tract_number','census_tract_number']].astype(int)\n"
   ]
  },
  {
   "cell_type": "code",
   "execution_count": 10,
   "metadata": {},
   "outputs": [],
   "source": [
    "start = time.time()"
   ]
  },
  {
   "cell_type": "code",
   "execution_count": 11,
   "metadata": {},
   "outputs": [
    {
     "name": "stdout",
     "output_type": "stream",
     "text": [
      "0.6787039167031567\n"
     ]
    }
   ],
   "source": [
    "# train_features, train_labels = make_regression(n_features=4, n_informative=2,random_state=0, shuffle=False)\n",
    "regr = RandomForestRegressor(max_depth=2, random_state=0, n_estimators=5)\n",
    "regr.fit(train_features, train_labels)\n",
    "\n",
    "pprint(regr.score(train_features, train_labels))\n"
   ]
  },
  {
   "cell_type": "code",
   "execution_count": 12,
   "metadata": {},
   "outputs": [
    {
     "name": "stdout",
     "output_type": "stream",
     "text": [
      "23.845602989196777\n"
     ]
    }
   ],
   "source": [
    "timestep1 = time.time()\n",
    "print(timestep1 - start)"
   ]
  },
  {
   "cell_type": "code",
   "execution_count": 13,
   "metadata": {},
   "outputs": [
    {
     "name": "stdout",
     "output_type": "stream",
     "text": [
      "Step Time:  0.010113716125488281\n",
      "Total Time:  23.855716705322266\n"
     ]
    }
   ],
   "source": [
    "timestep2 = time.time()\n",
    "print('Step Time: ', timestep2 - timestep1)\n",
    "print('Total Time: ', timestep2 - start)"
   ]
  },
  {
   "cell_type": "code",
   "execution_count": 14,
   "metadata": {},
   "outputs": [
    {
     "name": "stdout",
     "output_type": "stream",
     "text": [
      "0.6787039167031567\n"
     ]
    }
   ],
   "source": [
    "decision_tree = tree.DecisionTreeRegressor()\n",
    "decision_tree.fit(train_features, train_labels)\n",
    "\n",
    "pprint(regr.score(train_features, train_labels))\n",
    "\n",
    "dot_data = tree.export_graphviz(decision_tree, out_file=None,feature_names=features.columns,class_names=labels.columns,filled=True)\n",
    "graph = pydotplus.graph_from_dot_data(dot_data)"
   ]
  },
  {
   "cell_type": "code",
   "execution_count": 15,
   "metadata": {},
   "outputs": [
    {
     "name": "stdout",
     "output_type": "stream",
     "text": [
      "Step Time:  26.898394107818604\n",
      "Total Time:  50.75411081314087\n"
     ]
    }
   ],
   "source": [
    "timestep3 = time.time()\n",
    "print('Step Time: ', timestep3 - timestep2)\n",
    "print('Total Time: ', timestep3 - start)"
   ]
  },
  {
   "cell_type": "code",
   "execution_count": null,
   "metadata": {},
   "outputs": [],
   "source": []
  }
 ],
 "metadata": {
  "kernelspec": {
   "display_name": "Python 3",
   "language": "python",
   "name": "python3"
  },
  "language_info": {
   "codemirror_mode": {
    "name": "ipython",
    "version": 3
   },
   "file_extension": ".py",
   "mimetype": "text/x-python",
   "name": "python",
   "nbconvert_exporter": "python",
   "pygments_lexer": "ipython3",
   "version": "3.7.1"
  }
 },
 "nbformat": 4,
 "nbformat_minor": 2
}
