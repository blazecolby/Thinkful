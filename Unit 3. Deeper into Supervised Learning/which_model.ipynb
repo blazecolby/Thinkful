{
 "cells": [
  {
   "cell_type": "markdown",
   "metadata": {},
   "source": [
    "Predict the running times of prospective Olympic sprinters using data from the last 20 Olympics.\n",
    "    - Tree Regression\n",
    "You have more features (columns) than rows in your dataset.\n",
    "    - Anything with dimensionality reduction; keeps information.\n",
    "    \n",
    "Identify the most important characteristic predicting likelihood of being jailed before age 20.\n",
    "    clustering; k-neighbors\n",
    "\n",
    "Implement a filter to “highlight” emails that might be important to the recipient.\n",
    "    - Logistic to classifier yes or no as the binary option of classifying.\n",
    "\n",
    "You have 1000+ features.\n",
    "    - Anything with dimensionality reduction; keeps information.\n",
    "\n",
    "Predict whether someone who adds items to their cart on a website will purchase the items.\n",
    "    Decision tree classifier\n",
    "\n",
    "Your dataset dimensions are 982400 x 500\n",
    "    - Anything with dimensionality reduction; keeps information.\n",
    "\n",
    "Identify faces in an image.\n",
    "    Neural Net\n",
    "    \n",
    "Predict which of three flavors of ice cream will be most popular with boys vs girls.\n",
    "    Clustering; k-neighbors"
   ]
  }
 ],
 "metadata": {
  "kernelspec": {
   "display_name": "Python 3",
   "language": "python",
   "name": "python3"
  },
  "language_info": {
   "codemirror_mode": {
    "name": "ipython",
    "version": 3
   },
   "file_extension": ".py",
   "mimetype": "text/x-python",
   "name": "python",
   "nbconvert_exporter": "python",
   "pygments_lexer": "ipython3",
   "version": "3.7.1"
  }
 },
 "nbformat": 4,
 "nbformat_minor": 2
}
