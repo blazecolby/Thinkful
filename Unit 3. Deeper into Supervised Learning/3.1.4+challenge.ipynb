{
 "cells": [
  {
   "cell_type": "code",
   "execution_count": 1,
   "metadata": {},
   "outputs": [],
   "source": [
    "import numpy as np\n",
    "import pandas as pd\n",
    "import seaborn as sns\n",
    "import matplotlib.pyplot as plt\n",
    "from sklearn import neighbors\n",
    "from sklearn import linear_model"
   ]
  },
  {
   "cell_type": "markdown",
   "metadata": {},
   "source": [
    "Age (age in years)\n",
    "Sex (1 = male; 0 = female)\n",
    "CP (chest pain type)\n",
    "TRESTBPS (resting blood pressure (in mm Hg on admission to the hospital))\n",
    "CHOL (serum cholestoral in mg/dl)\n",
    "FPS (fasting blood sugar > 120 mg/dl) (1 = true; 0 = false)\n",
    "RESTECH (resting electrocardiographic results)\n",
    "THALACH (maximum heart rate achieved)\n",
    "EXANG (exercise induced angina (1 = yes; 0 = no))\n",
    "OLDPEAK (ST depression induced by exercise relative to rest)\n",
    "SLOPE (the slope of the peak exercise ST segment)\n",
    "CA (number of major vessels (0-3) colored by flourosopy)\n",
    "THAL (3 = normal; 6 = fixed defect; 7 = reversable defect)\n",
    "TARGET (1 or 0)"
   ]
  },
  {
   "cell_type": "code",
   "execution_count": 2,
   "metadata": {},
   "outputs": [],
   "source": [
    "heart=pd.read_csv('heart.csv')"
   ]
  },
  {
   "cell_type": "code",
   "execution_count": 58,
   "metadata": {},
   "outputs": [
    {
     "name": "stdout",
     "output_type": "stream",
     "text": [
      "Unweighted Accuracy: 0.05 (+/- 0.45)\n"
     ]
    }
   ],
   "source": [
    "from sklearn.model_selection import cross_val_score\n",
    "knn = neighbors.KNeighborsRegressor(n_neighbors=25)\n",
    "Y = heart.age\n",
    "knn.fit(X, Y)\n",
    "\n",
    "score = cross_val_score(knn, X, Y, cv=30)\n",
    "print(\"Unweighted Accuracy: %0.2f (+/- %0.2f)\" % (score.mean(), score.std() * 2))"
   ]
  },
  {
   "cell_type": "code",
   "execution_count": 46,
   "metadata": {},
   "outputs": [
    {
     "name": "stdout",
     "output_type": "stream",
     "text": [
      "\n",
      "Coefficients: \n",
      " [[-0.14952844  0.03148056  0.19684559  0.12156453]]\n",
      "\n",
      "Intercept: \n",
      " [52.78484797]\n",
      "\n",
      "R-squared:\n",
      "0.2595386612131858\n"
     ]
    }
   ],
   "source": [
    "regr = linear_model.LinearRegression()\n",
    "Y = heart.age.values.reshape(-1, 1)\n",
    "regr.fit(X, Y)\n",
    "\n",
    "print('\\nCoefficients: \\n', regr.coef_)\n",
    "print('\\nIntercept: \\n', regr.intercept_)\n",
    "print('\\nR-squared:')\n",
    "print(regr.score(X, Y))"
   ]
  },
  {
   "cell_type": "markdown",
   "metadata": {},
   "source": [
    "OLS is a parametric parameter, while KNN is a non-parametric parameter. OLS will outperform if the assumed form is close to the true form. OLS is smoother than KNN. If x and y are linear in OLS then that is the best model to use; if x and y are linear in OLS, KNN will be less accurate. As you increase k, the flexibility will decrease. KNN will always act as more of a step function, while OLS will always act more smoothly. \n",
    "\n",
    "Without doing any feature engineering, linear regression gives better results than KNN. KNN has results are basically useless with a confidence interval of .05. R-squared from OLS gives 25%, which is not good but it's a reasonably better result. If I were to go through and do feature engineering/selection, I would presume that I would get better results with similar differences. \n",
    "\n",
    "From what I understand, linear regression will pretty much always be used in place of KNN. "
   ]
  },
  {
   "cell_type": "code",
   "execution_count": null,
   "metadata": {},
   "outputs": [],
   "source": []
  },
  {
   "cell_type": "code",
   "execution_count": null,
   "metadata": {},
   "outputs": [],
   "source": []
  },
  {
   "cell_type": "code",
   "execution_count": null,
   "metadata": {},
   "outputs": [],
   "source": []
  }
 ],
 "metadata": {
  "kernelspec": {
   "display_name": "Python 3",
   "language": "python",
   "name": "python3"
  },
  "language_info": {
   "codemirror_mode": {
    "name": "ipython",
    "version": 3
   },
   "file_extension": ".py",
   "mimetype": "text/x-python",
   "name": "python",
   "nbconvert_exporter": "python",
   "pygments_lexer": "ipython3",
   "version": "3.6.7"
  }
 },
 "nbformat": 4,
 "nbformat_minor": 2
}
