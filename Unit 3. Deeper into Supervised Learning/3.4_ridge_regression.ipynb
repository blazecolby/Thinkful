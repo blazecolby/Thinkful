{
 "cells": [
  {
   "cell_type": "code",
   "execution_count": 1,
   "metadata": {},
   "outputs": [],
   "source": [
    "import re\n",
    "import numpy as np\n",
    "import pandas as pd\n",
    "import seaborn as sns\n",
    "import warnings as wn\n",
    "import statsmodels.api as sm\n",
    "import matplotlib.pyplot as plt\n",
    "\n",
    "from sklearn import *\n",
    "from sklearn.model_selection import *\n",
    "from sklearn.linear_model import *\n",
    "\n",
    "wn.filterwarnings(\"ignore\")\n",
    "np.random.seed(0)"
   ]
  },
  {
   "cell_type": "code",
   "execution_count": 2,
   "metadata": {},
   "outputs": [],
   "source": [
    "df = pd.read_csv('mort.csv')\n",
    "pd.set_option('display.max_columns', None)"
   ]
  },
  {
   "cell_type": "code",
   "execution_count": 3,
   "metadata": {},
   "outputs": [],
   "source": [
    "# application_date_indicator mostly irrelevant-data is only year period...\n",
    "\n",
    "# print(df.describe())"
   ]
  },
  {
   "cell_type": "code",
   "execution_count": 4,
   "metadata": {},
   "outputs": [],
   "source": [
    "# larger skew on loan_amount_000s\n",
    "# medium skew on applicant_income_000s\n",
    "# may benefit from normalizing data...\n",
    "\n",
    "# print(df.skew())"
   ]
  },
  {
   "cell_type": "code",
   "execution_count": 5,
   "metadata": {},
   "outputs": [],
   "source": [
    "df['denial_reason_name_1'] = df['denial_reason_name_1'].replace('.+', '0', regex=True)\n",
    "df['denial_reason_name_1'] = df['denial_reason_name_1'].fillna('Accepted')\n",
    "df['denial_reason_name_1'] = df['denial_reason_name_1'].replace('Accepted', 1)\n",
    "\n",
    "df = df.dropna(axis='columns', thresh=100000) # This drops categorical data with too many NaNs"
   ]
  },
  {
   "cell_type": "code",
   "execution_count": 6,
   "metadata": {},
   "outputs": [],
   "source": [
    "df.county_name = df.county_name.fillna(method='bfill') # 'bfill' due to categorical\n",
    "df.msamd_name = df.msamd_name.fillna(method='bfill') # 'bfill' due to categorical\n",
    "\n",
    "# fill in the remaining continuous null values with the given columns' mean.\n",
    "df.tract_to_msamd_income = df.tract_to_msamd_income.fillna(df.tract_to_msamd_income.mean())\n",
    "df.population = df.population.fillna(df.population.mean())\n",
    "df.minority_population = df.minority_population.fillna(df.minority_population.mean())\n",
    "df.number_of_owner_occupied_units = df.number_of_owner_occupied_units.fillna(df.number_of_owner_occupied_units.mean())\n",
    "df.number_of_1_to_4_family_units = df.number_of_1_to_4_family_units.fillna(df.number_of_1_to_4_family_units.mean())\n",
    "df.hud_median_family_income = df.hud_median_family_income.fillna(df.hud_median_family_income.mean())\n",
    "df.applicant_income_000s = df.applicant_income_000s.fillna(df.applicant_income_000s.mean())\n",
    "df.census_tract_number = df.census_tract_number.fillna(df.census_tract_number.mean())\n",
    "\n",
    "# NaNs are now taken care of...\n",
    "# df.isnull().sum()"
   ]
  },
  {
   "cell_type": "code",
   "execution_count": 7,
   "metadata": {},
   "outputs": [],
   "source": [
    "df['denial_reason_name_1'] = df['denial_reason_name_1'].astype(dtype='int64')"
   ]
  },
  {
   "cell_type": "code",
   "execution_count": 8,
   "metadata": {},
   "outputs": [],
   "source": [
    "df = df.astype(dtype='int64', errors='ignore', copy=False) # converts float64's to int64's"
   ]
  },
  {
   "cell_type": "code",
   "execution_count": 9,
   "metadata": {},
   "outputs": [],
   "source": [
    "df_encode = df.apply(preprocessing.LabelEncoder().fit_transform) # converts objects to int64's"
   ]
  },
  {
   "cell_type": "code",
   "execution_count": 10,
   "metadata": {},
   "outputs": [],
   "source": [
    "y = df_encode.denial_reason_name_1\n",
    "X = df_encode.drop(columns='denial_reason_name_1')"
   ]
  },
  {
   "cell_type": "code",
   "execution_count": 11,
   "metadata": {},
   "outputs": [],
   "source": [
    "train_X, test_X, train_y, test_y = train_test_split(X, y, test_size=.2) # Get test and train sets"
   ]
  },
  {
   "cell_type": "code",
   "execution_count": 59,
   "metadata": {},
   "outputs": [
    {
     "name": "stdout",
     "output_type": "stream",
     "text": [
      "Ridge\n",
      "[1e-100]\n",
      "R^2: 0.26421682520868406\n",
      "[1e-50]\n",
      "R^2: 0.26421682520868406\n",
      "[1e-10]\n",
      "R^2: 0.26421682520868406\n",
      "[1]\n",
      "R^2: 0.2642166789908752\n",
      "[10]\n",
      "R^2: 0.26421524883069325\n",
      "[10000000000.0]\n",
      "R^2: 0.0072963089604481945\n",
      "[1e+50]\n",
      "R^2: -3.221007070397519e-06\n",
      "[1e+100]\n",
      "R^2: -3.221007070397519e-06\n",
      "\n",
      "Lasso\n",
      "[1e-100]\n",
      "R^2: -3.221007070397519e-06\n",
      "[1e-50]\n",
      "R^2: -3.221007070397519e-06\n",
      "[1e-10]\n",
      "R^2: -3.221007070397519e-06\n",
      "[1]\n",
      "R^2: -3.221007070397519e-06\n",
      "[10]\n",
      "R^2: -3.221007070397519e-06\n",
      "[10000000000.0]\n",
      "R^2: -3.221007070397519e-06\n",
      "[1e+50]\n",
      "R^2: -3.221007070397519e-06\n",
      "[1e+100]\n",
      "R^2: -3.221007070397519e-06\n",
      "\n",
      "Elastic Net\n",
      "[1e-100]\n",
      "R^2: -3.221007070397519e-06\n",
      "[1e-50]\n",
      "R^2: -3.221007070397519e-06\n",
      "[1e-10]\n",
      "R^2: -3.221007070397519e-06\n",
      "[1]\n",
      "R^2: -3.221007070397519e-06\n",
      "[10]\n",
      "R^2: -3.221007070397519e-06\n",
      "[10000000000.0]\n",
      "R^2: -3.221007070397519e-06\n",
      "[1e+50]\n",
      "R^2: -3.221007070397519e-06\n",
      "[1e+100]\n",
      "R^2: -3.221007070397519e-06\n"
     ]
    }
   ],
   "source": [
    "alphas = [1e-100, 1e-50, 1e-10, 1, 10, 1e10, 1e50, 1e100]\n",
    "print('Ridge')\n",
    "for a in alphas:\n",
    "    ridge_cv = RidgeCV(cv=10, alphas=[a]).fit(train_X, train_y)\n",
    "    ridge_cv_prdct = ridge_cv.predict(test_X)\n",
    "    print([a])\n",
    "    print('R^2:', metrics.r2_score(test_y, ridge_cv_prdct))\n",
    "print('\\nLasso')\n",
    "for a in alphas:\n",
    "    lasso_cv = LassoCV(cv=10, alphas=[a]).fit(train_X,train_y)\n",
    "    lasso_cv_prdct = lasso_cv.predict(test_X)\n",
    "    print([a])\n",
    "    print('R^2:', metrics.r2_score(test_y, ridge_cv_prdct))\n",
    "print('\\nElastic Net')\n",
    "for a in alphas:\n",
    "    elastic_cv = ElasticNetCV(cv=10, alphas=[a]).fit(train_X, train_y)\n",
    "    elastic_cv_prdct = elastic_cv.predict(test_X)\n",
    "    print([a])\n",
    "    print('R^2:', metrics.r2_score(test_y, ridge_cv_prdct))\n",
    "    "
   ]
  },
  {
   "cell_type": "code",
   "execution_count": null,
   "metadata": {},
   "outputs": [],
   "source": [
    "\n",
    "        \n"
   ]
  },
  {
   "cell_type": "code",
   "execution_count": 13,
   "metadata": {},
   "outputs": [
    {
     "data": {
      "image/png": "[encoded data removed]",
      "text/plain": [
       "<Figure size 576x432 with 1 Axes>"
      ]
     },
     "metadata": {
      "needs_background": "light"
     },
     "output_type": "display_data"
    },
    {
     "name": "stdout",
     "output_type": "stream",
     "text": [
      "/nAlpha parameters maximising the generalization score on different subsets of the data:\n",
      "fold 0 alpha: 0.00010, score: 0.00000\n",
      "fold 1 alpha: 0.00010, score: 0.00000\n",
      "fold 2 alpha: 0.00281, score: 0.09956\n",
      "fold 3 alpha: 0.31623, score: -0.41694\n",
      "fold 4 alpha: 0.00646, score: -65.06524\n"
     ]
    }
   ],
   "source": [
    "# lasso = Lasso()\n",
    "# alphas = np.logspace(-4, -0.5, 30)\n",
    "\n",
    "# tuned_parameters = [{'alpha': alphas}]\n",
    "# n_folds = 5\n",
    "\n",
    "# grd_cv = GridSearchCV(lasso, tuned_parameters, cv=n_folds, refit=False)\n",
    "# grd_cv.fit(X, y)\n",
    "# scores = grd_cv.cv_results_['mean_test_score']\n",
    "# scores_std = grd_cv.cv_results_['std_test_score']\n",
    "# plt.figure().set_size_inches(8, 6)\n",
    "# plt.semilogx(alphas, scores)\n",
    "\n",
    "# std_error = scores_std / np.sqrt(n_folds)\n",
    "# plt.semilogx(alphas, scores + std_error, 'b--')\n",
    "# plt.semilogx(alphas, scores - std_error, 'b--')\n",
    "# plt.fill_between(alphas, scores + std_error, scores - std_error, alpha=0.2)\n",
    "\n",
    "# plt.ylabel('CV score +/- std error')\n",
    "# plt.xlabel('alpha')\n",
    "# plt.axhline(np.max(scores), linestyle='--', color='.5')\n",
    "# plt.xlim([alphas[0], alphas[-1]])\n",
    "# plt.show()\n",
    "\n",
    "# lasso_cv = LassoCV(alphas=alphas, cv=n_folds)\n",
    "# k_fold = KFold(5)\n",
    "# y = y.to_numpy()\n",
    "# X = X.to_numpy()\n",
    "# print(\"\\nAlpha parameters maximising the generalization score on different subsets of the data:\")\n",
    "# for k, (train, test) in enumerate(k_fold.split(X, y)):\n",
    "#     lasso_cv.fit(X[train], y[train])\n",
    "#     print(\"fold {0} alpha: {1:.5f}, score: {2:.5f}\".format(k, lasso_cv.alpha_, lasso_cv.score(X[test], y[test])))"
   ]
  },
  {
   "cell_type": "markdown",
   "metadata": {},
   "source": [
    "Evaluate all 3 models and decide on your best. \n",
    "\n",
    "Be clear about decisions you made that led to these models:\n",
    "    - feature selection\n",
    "        The only feature selection that I performed was getting rid of variables with a lot of NaN values, or repeat values that would cause collinearity.\n",
    "    - regularization parameter selection\n",
    "        High alpha = high complexity. \n",
    "        Too high leads to underfitting. Too low leads to overfitting. Higher alpha is higher regularization penalty. Goal is to minimize error in both directions.\n",
    "    - model evaluation criteria\n",
    "        \n",
    "List strengths and limitations of regression as a modeling approach. \n",
    "    \n",
    "Were there things you couldn't do but you wish you could have done?"
   ]
  }
 ],
 "metadata": {
  "kernelspec": {
   "display_name": "Python 3",
   "language": "python",
   "name": "python3"
  },
  "language_info": {
   "codemirror_mode": {
    "name": "ipython",
    "version": 3
   },
   "file_extension": ".py",
   "mimetype": "text/x-python",
   "name": "python",
   "nbconvert_exporter": "python",
   "pygments_lexer": "ipython3",
   "version": "3.7.1"
  }
 },
 "nbformat": 4,
 "nbformat_minor": 2
}
