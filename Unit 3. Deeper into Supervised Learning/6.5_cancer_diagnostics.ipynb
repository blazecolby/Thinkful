{
 "cells": [
  {
   "cell_type": "code",
   "execution_count": 52,
   "metadata": {},
   "outputs": [],
   "source": [
    "import scipy\n",
    "import numpy as np\n",
    "import pandas as pd\n",
    "import warnings as wn\n",
    "from sklearn.linear_model import *\n",
    "from sklearn.model_selection import *\n",
    "wn.filterwarnings(\"ignore\")\n",
    "np.random.seed(0)"
   ]
  },
  {
   "cell_type": "code",
   "execution_count": 76,
   "metadata": {},
   "outputs": [],
   "source": [
    "df = pd.read_csv('breast-cancer-wisconsin-data.csv', names=['sample_code_number','clump_thickness','uniformity_cell_size','uniformity_cell_shape',\n",
    "                                                            'marginal_adhesion','single_epithelial_cell_size','bare_nuclei','bland_chromatin',\n",
    "                                                            'normal_nucleoli', 'mitoses', 'class'])\n",
    "# Number of Attributes: 10 plus the class attribute\n",
    "# Attribute Information: (class attribute has been moved to last column)\n",
    "#    #  Attribute                     Domain\n",
    "#    -- -----------------------------------------\n",
    "#    1. Sample code number            id number\n",
    "#    2. Clump Thickness               1 - 10\n",
    "#    3. Uniformity of Cell Size       1 - 10\n",
    "#    4. Uniformity of Cell Shape      1 - 10\n",
    "#    5. Marginal Adhesion             1 - 10\n",
    "#    6. Single Epithelial Cell Size   1 - 10\n",
    "#    7. Bare Nuclei                   1 - 10\n",
    "#    8. Bland Chromatin               1 - 10\n",
    "#    9. Normal Nucleoli               1 - 10\n",
    "#   10. Mitoses                       1 - 10\n",
    "#   11. Class:                        (2 for benign, 4 for malignant)\n",
    "# Missing attribute values: 16\n",
    "# Class distribution:\n",
    "#     Benign: 458 (65.5%)\n",
    "#     Malignant: 241 (34.5%)"
   ]
  },
  {
   "cell_type": "code",
   "execution_count": 77,
   "metadata": {},
   "outputs": [],
   "source": [
    "df.bare_nuclei.unique()\n",
    "df.drop(df[df['bare_nuclei'] == '?'].index, inplace=True)\n",
    "df.drop(columns='sample_code_number', inplace=True)"
   ]
  },
  {
   "cell_type": "code",
   "execution_count": 78,
   "metadata": {},
   "outputs": [],
   "source": [
    "df['class'] = np.where(df['class'] == 4, 1,0)"
   ]
  },
  {
   "cell_type": "code",
   "execution_count": 79,
   "metadata": {},
   "outputs": [],
   "source": [
    "x = df.drop(columns='class')\n",
    "y = df['class']"
   ]
  },
  {
   "cell_type": "code",
   "execution_count": 81,
   "metadata": {},
   "outputs": [],
   "source": [
    "x_train, x_test, y_train, y_test = train_test_split(x, y, test_size=.2)"
   ]
  },
  {
   "cell_type": "code",
   "execution_count": 86,
   "metadata": {},
   "outputs": [
    {
     "data": {
      "text/plain": [
       "(array([[0.19333152, 0.19159661, 0.16328587, 0.13586317, 0.05193022,\n",
       "         0.35815162, 0.17535556, 0.23993936, 0.08014722]]),\n",
       " 0.9706959706959707,\n",
       " array([[0.19333152, 0.19159661, 0.16328587, 0.13586317, 0.05193022,\n",
       "         0.35815162, 0.17535556, 0.23993936, 0.08014722]]),\n",
       " 0.948905109489051)"
      ]
     },
     "execution_count": 86,
     "metadata": {},
     "output_type": "execute_result"
    }
   ],
   "source": [
    "r = LogisticRegression()\n",
    "r.fit(x_train, y_train)\n",
    "\n",
    "r.coef_, r.score(x_train,y_train), r.coef_, r.score(x_test,y_test)"
   ]
  }
 ],
 "metadata": {
  "kernelspec": {
   "display_name": "Python 3",
   "language": "python",
   "name": "python3"
  },
  "language_info": {
   "codemirror_mode": {
    "name": "ipython",
    "version": 3
   },
   "file_extension": ".py",
   "mimetype": "text/x-python",
   "name": "python",
   "nbconvert_exporter": "python",
   "pygments_lexer": "ipython3",
   "version": "3.7.1"
  }
 },
 "nbformat": 4,
 "nbformat_minor": 2
}
