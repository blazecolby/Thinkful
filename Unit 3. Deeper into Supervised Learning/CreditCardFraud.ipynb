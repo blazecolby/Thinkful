{
 "cells": [
  {
   "cell_type": "code",
   "execution_count": 1,
   "metadata": {},
   "outputs": [],
   "source": [
    "import scipy\n",
    "import numpy as np\n",
    "import pandas as pd\n",
    "import warnings as wn\n",
    "import matplotlib.pyplot as plt\n",
    "from sklearn import *\n",
    "from sklearn.svm import *\n",
    "from sklearn.metrics import *\n",
    "from sklearn.ensemble import *\n",
    "from sklearn.linear_model import *\n",
    "from sklearn.preprocessing import *\n",
    "from sklearn.model_selection import *\n",
    "\n",
    "wn.filterwarnings(\"ignore\")\n",
    "np.random.seed(0)"
   ]
  },
  {
   "cell_type": "code",
   "execution_count": 2,
   "metadata": {},
   "outputs": [],
   "source": [
    "df = pd.read_csv(('creditcard.csv'))"
   ]
  },
  {
   "cell_type": "code",
   "execution_count": 3,
   "metadata": {},
   "outputs": [],
   "source": [
    "df = df.sample(frac=1)\n",
    "\n",
    "fraud = df.loc[df['Class'] == 1]\n",
    "no_fraud = df.loc[df['Class'] == 0][:492]\n",
    "\n",
    "df_concat = pd.concat([fraud, no_fraud])\n",
    "df = df_concat.sample(frac=1, random_state=42)"
   ]
  },
  {
   "cell_type": "code",
   "execution_count": 4,
   "metadata": {},
   "outputs": [],
   "source": [
    "y = df.Class\n",
    "x = df.loc[:, 'V1':'V28']"
   ]
  },
  {
   "cell_type": "code",
   "execution_count": 5,
   "metadata": {},
   "outputs": [],
   "source": [
    "X_train, X_test, y_train, y_test = train_test_split(x, y, test_size=0.25)"
   ]
  },
  {
   "cell_type": "code",
   "execution_count": 6,
   "metadata": {},
   "outputs": [],
   "source": [
    "lr = LogisticRegression().fit(X_train, y_train)"
   ]
  },
  {
   "cell_type": "code",
   "execution_count": 7,
   "metadata": {},
   "outputs": [
    {
     "data": {
      "text/plain": [
       "0.9661246612466124"
      ]
     },
     "execution_count": 7,
     "metadata": {},
     "output_type": "execute_result"
    }
   ],
   "source": [
    "lr.score(X_train,y_train)"
   ]
  },
  {
   "cell_type": "code",
   "execution_count": 8,
   "metadata": {},
   "outputs": [
    {
     "data": {
      "text/plain": [
       "0.9146341463414634"
      ]
     },
     "execution_count": 8,
     "metadata": {},
     "output_type": "execute_result"
    }
   ],
   "source": [
    "lr.score(X_test, y_test)"
   ]
  },
  {
   "cell_type": "code",
   "execution_count": 15,
   "metadata": {},
   "outputs": [
    {
     "name": "stdout",
     "output_type": "stream",
     "text": [
      "Training set accuracy:\n",
      "Percent Type I errors: 0.006775067750677507\n",
      "Percent Type II errors: 0.02710027100271003\n",
      "\n",
      "Test set accuracy:\n",
      "Percent Type I errors: 0.016260162601626018\n",
      "Percent Type II errors: 0.06910569105691057\n"
     ]
    }
   ],
   "source": [
    "pred_tr = lr.predict(X_train)\n",
    "pred_ts = lr.predict(X_test)\n",
    "\n",
    "tr = pd.crosstab(y_train, pred_tr, margins=True)\n",
    "ts = pd.crosstab(y_test, pred_ts, margins=True)\n",
    "\n",
    "train_tI_errors = tr.loc[0.0,1.0] / tr.loc['All','All']\n",
    "train_tII_errors = tr.loc[1.0,0.0] / tr.loc['All','All']\n",
    "\n",
    "test_tI_errors = ts.loc[0.0,1.0] / ts.loc['All','All']\n",
    "test_tII_errors = ts.loc[1.0,0.0] / ts.loc['All','All']\n",
    "\n",
    "print(('Training set accuracy:\\n'\n",
    "       'Percent Type I errors: {}\\n'\n",
    "       'Percent Type II errors: {}\\n\\n'\n",
    "       'Test set accuracy:\\n'\n",
    "       'Percent Type I errors: {}\\n'\n",
    "       'Percent Type II errors: {}'\n",
    "      ).format(train_tI_errors, train_tII_errors, test_tI_errors, test_tII_errors))"
   ]
  }
 ],
 "metadata": {
  "kernelspec": {
   "display_name": "Python 3",
   "language": "python",
   "name": "python3"
  },
  "language_info": {
   "codemirror_mode": {
    "name": "ipython",
    "version": 3
   },
   "file_extension": ".py",
   "mimetype": "text/x-python",
   "name": "python",
   "nbconvert_exporter": "python",
   "pygments_lexer": "ipython3",
   "version": "3.7.1"
  }
 },
 "nbformat": 4,
 "nbformat_minor": 2
}
