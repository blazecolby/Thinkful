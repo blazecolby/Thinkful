{
 "cells": [
  {
   "cell_type": "code",
   "execution_count": 2,
   "metadata": {},
   "outputs": [
    {
     "name": "stderr",
     "output_type": "stream",
     "text": [
      "Using TensorFlow backend.\n"
     ]
    }
   ],
   "source": [
    "import keras\n",
    "import tensorflow as tf\n",
    "from keras import backend as K\n",
    "from keras.datasets import cifar10\n",
    "from keras.optimizers import RMSprop\n",
    "from keras.models import Model, Sequential\n",
    "from keras.layers import LSTM, Input, TimeDistributed\n",
    "from keras.layers import Dense, Dropout, Flatten, Conv2D, MaxPooling2D\n"
   ]
  },
  {
   "cell_type": "code",
   "execution_count": 3,
   "metadata": {},
   "outputs": [],
   "source": [
    "(x_train, y_train), (x_test, y_test) = cifar10.load_data()"
   ]
  },
  {
   "cell_type": "code",
   "execution_count": 4,
   "metadata": {},
   "outputs": [
    {
     "data": {
      "text/plain": [
       "(10000, 32, 32, 3)"
      ]
     },
     "execution_count": 4,
     "metadata": {},
     "output_type": "execute_result"
    }
   ],
   "source": [
    "x_test.shape"
   ]
  },
  {
   "cell_type": "code",
   "execution_count": 5,
   "metadata": {},
   "outputs": [
    {
     "name": "stdout",
     "output_type": "stream",
     "text": [
      "50000 train samples\n",
      "10000 test samples\n"
     ]
    }
   ],
   "source": [
    "x_train = x_train.reshape(50000, 3072)\n",
    "x_test = x_test.reshape(10000, 3072)\n",
    "x_train = x_train.astype('float32')\n",
    "x_test = x_test.astype('float32')\n",
    "x_train /= 255\n",
    "x_test /= 255\n",
    "print(x_train.shape[0], 'train samples')\n",
    "print(x_test.shape[0], 'test samples')\n",
    "y_train = keras.utils.to_categorical(y_train, 10)\n",
    "y_test = keras.utils.to_categorical(y_test, 10)"
   ]
  },
  {
   "cell_type": "code",
   "execution_count": 24,
   "metadata": {},
   "outputs": [
    {
     "name": "stdout",
     "output_type": "stream",
     "text": [
      "_________________________________________________________________\n",
      "Layer (type)                 Output Shape              Param #   \n",
      "=================================================================\n",
      "dense_4 (Dense)              (None, 64)                196672    \n",
      "_________________________________________________________________\n",
      "dropout_3 (Dropout)          (None, 64)                0         \n",
      "_________________________________________________________________\n",
      "dense_5 (Dense)              (None, 64)                4160      \n",
      "_________________________________________________________________\n",
      "dropout_4 (Dropout)          (None, 64)                0         \n",
      "_________________________________________________________________\n",
      "dense_6 (Dense)              (None, 10)                650       \n",
      "=================================================================\n",
      "Total params: 201,482\n",
      "Trainable params: 201,482\n",
      "Non-trainable params: 0\n",
      "_________________________________________________________________\n"
     ]
    }
   ],
   "source": [
    "model = Sequential()\n",
    "model.add(Dense(64, activation='relu', input_shape=(3072,)))\n",
    "model.add(Dropout(0.1))\n",
    "model.add(Dense(64, activation='relu'))\n",
    "model.add(Dropout(0.1))\n",
    "model.add(Dense(10, activation='softmax'))\n",
    "model.summary()\n",
    "model.compile(loss='categorical_crossentropy',\n",
    "              optimizer=RMSprop(),\n",
    "              metrics=['accuracy'])"
   ]
  },
  {
   "cell_type": "code",
   "execution_count": 26,
   "metadata": {},
   "outputs": [
    {
     "name": "stdout",
     "output_type": "stream",
     "text": [
      "Train on 50000 samples, validate on 10000 samples\n",
      "Epoch 1/10\n",
      "50000/50000 [==============================] - 2s 32us/step - loss: 1.7749 - acc: 0.3542 - val_loss: 1.7592 - val_acc: 0.3590\n",
      "Epoch 2/10\n",
      "50000/50000 [==============================] - 2s 32us/step - loss: 1.7706 - acc: 0.3571 - val_loss: 1.6831 - val_acc: 0.3852\n",
      "Epoch 3/10\n",
      "50000/50000 [==============================] - 2s 32us/step - loss: 1.7662 - acc: 0.3579 - val_loss: 1.6891 - val_acc: 0.3964\n",
      "Epoch 4/10\n",
      "50000/50000 [==============================] - 2s 32us/step - loss: 1.7613 - acc: 0.3618 - val_loss: 1.6910 - val_acc: 0.3891\n",
      "Epoch 5/10\n",
      "50000/50000 [==============================] - 2s 33us/step - loss: 1.7578 - acc: 0.3613 - val_loss: 1.6886 - val_acc: 0.3874\n",
      "Epoch 6/10\n",
      "50000/50000 [==============================] - 2s 33us/step - loss: 1.7546 - acc: 0.3641 - val_loss: 1.6835 - val_acc: 0.3910\n",
      "Epoch 7/10\n",
      "50000/50000 [==============================] - 2s 33us/step - loss: 1.7464 - acc: 0.3683 - val_loss: 1.6876 - val_acc: 0.3885\n",
      "Epoch 8/10\n",
      "50000/50000 [==============================] - 2s 32us/step - loss: 1.7410 - acc: 0.3699 - val_loss: 1.7386 - val_acc: 0.3691\n",
      "Epoch 9/10\n",
      "50000/50000 [==============================] - 2s 33us/step - loss: 1.7385 - acc: 0.3725 - val_loss: 1.6634 - val_acc: 0.4035\n",
      "Epoch 10/10\n",
      "50000/50000 [==============================] - 2s 33us/step - loss: 1.7342 - acc: 0.3699 - val_loss: 1.7046 - val_acc: 0.3839\n",
      "Test loss: 1.7046380611419678\n",
      "Test accuracy: 0.3839\n"
     ]
    }
   ],
   "source": [
    "history = model.fit(x_train, y_train,\n",
    "                    batch_size=128,\n",
    "                    epochs=10,\n",
    "                    verbose=1,\n",
    "                    validation_data=(x_test, y_test))\n",
    "score = model.evaluate(x_test, y_test, verbose=0)\n",
    "print('Test loss:', score[0])\n",
    "print('Test accuracy:', score[1])"
   ]
  },
  {
   "cell_type": "code",
   "execution_count": 34,
   "metadata": {},
   "outputs": [
    {
     "name": "stdout",
     "output_type": "stream",
     "text": [
      "x_train shape: (50000, 32, 32, 3)\n",
      "50000 train samples\n",
      "10000 test samples\n",
      "Train on 50000 samples, validate on 10000 samples\n",
      "Epoch 1/10\n",
      "50000/50000 [==============================] - 114s 2ms/step - loss: 1.8251 - acc: 0.3427 - val_loss: 1.4688 - val_acc: 0.4845\n",
      "Epoch 2/10\n",
      "50000/50000 [==============================] - 136s 3ms/step - loss: 1.3797 - acc: 0.5098 - val_loss: 1.2956 - val_acc: 0.5482\n",
      "Epoch 3/10\n",
      "50000/50000 [==============================] - 144s 3ms/step - loss: 1.2042 - acc: 0.5786 - val_loss: 1.0960 - val_acc: 0.6214\n",
      "Epoch 4/10\n",
      "50000/50000 [==============================] - 144s 3ms/step - loss: 1.0920 - acc: 0.6176 - val_loss: 1.0268 - val_acc: 0.6470\n",
      "Epoch 5/10\n",
      "50000/50000 [==============================] - 142s 3ms/step - loss: 1.0039 - acc: 0.6513 - val_loss: 0.9672 - val_acc: 0.6627\n",
      "Epoch 6/10\n",
      "50000/50000 [==============================] - 126s 3ms/step - loss: 0.9333 - acc: 0.6728 - val_loss: 0.9175 - val_acc: 0.6826\n",
      "Epoch 7/10\n",
      "50000/50000 [==============================] - 127s 3ms/step - loss: 0.8772 - acc: 0.6916 - val_loss: 0.9344 - val_acc: 0.6734\n",
      "Epoch 8/10\n",
      "50000/50000 [==============================] - 129s 3ms/step - loss: 0.8204 - acc: 0.7131 - val_loss: 0.8740 - val_acc: 0.6985\n",
      "Epoch 9/10\n",
      "50000/50000 [==============================] - 132s 3ms/step - loss: 0.7780 - acc: 0.7281 - val_loss: 0.8603 - val_acc: 0.7074\n",
      "Epoch 10/10\n",
      "50000/50000 [==============================] - 141s 3ms/step - loss: 0.7305 - acc: 0.7438 - val_loss: 0.8550 - val_acc: 0.7057\n",
      "Test loss: 0.854951296710968\n",
      "Test accuracy: 0.7057\n"
     ]
    }
   ],
   "source": [
    "img_rows, img_cols = 32, 32\n",
    "num_classes = 10\n",
    "(x_train, y_train), (x_test, y_test) = cifar10.load_data()\n",
    "\n",
    "if K.image_data_format() == 'channels_first':\n",
    "    x_train = x_train.reshape(x_train.shape[0], 1, img_rows, img_cols)\n",
    "    x_test = x_test.reshape(x_test.shape[0], 1, img_rows, img_cols)\n",
    "    input_shape = (1, img_rows, img_cols)\n",
    "else:\n",
    "    x_train = x_train.reshape(x_train.shape[0], img_rows, img_cols, 3)\n",
    "    x_test = x_test.reshape(x_test.shape[0], img_rows, img_cols, 3)\n",
    "    input_shape = (img_rows, img_cols, 3)\n",
    "\n",
    "x_train = x_train.astype('float32')\n",
    "x_test = x_test.astype('float32')\n",
    "x_train /= 255\n",
    "x_test /= 255\n",
    "print('x_train shape:', x_train.shape)\n",
    "print(x_train.shape[0], 'train samples')\n",
    "print(x_test.shape[0], 'test samples')\n",
    "y_train = keras.utils.to_categorical(y_train, num_classes)\n",
    "y_test = keras.utils.to_categorical(y_test, num_classes)\n",
    "\n",
    "\n",
    "model = Sequential()\n",
    "model.add(Conv2D(32, kernel_size=(3, 3),\n",
    "                 activation='relu',\n",
    "                 input_shape=input_shape))\n",
    "model.add(Conv2D(64, (3, 3), activation='relu'))\n",
    "model.add(MaxPooling2D(pool_size=(2, 2)))\n",
    "model.add(Dropout(0.25))\n",
    "model.add(Flatten())\n",
    "model.add(Dense(128, activation='relu'))\n",
    "model.add(Dropout(0.5))\n",
    "model.add(Dense(num_classes, activation='softmax'))\n",
    "\n",
    "model.compile(loss=keras.losses.categorical_crossentropy,\n",
    "              optimizer=keras.optimizers.Adadelta(),\n",
    "              metrics=['accuracy'])\n",
    "\n",
    "model.fit(x_train, y_train,\n",
    "          batch_size=128,\n",
    "          epochs=10,\n",
    "          verbose=1,\n",
    "          validation_data=(x_test, y_test))\n",
    "score = model.evaluate(x_test, y_test, verbose=0)\n",
    "print('Test loss:', score[0])\n",
    "print('Test accuracy:', score[1])"
   ]
  },
  {
   "cell_type": "code",
   "execution_count": null,
   "metadata": {},
   "outputs": [],
   "source": []
  }
 ],
 "metadata": {
  "kernelspec": {
   "display_name": "Python 3",
   "language": "python",
   "name": "python3"
  },
  "language_info": {
   "codemirror_mode": {
    "name": "ipython",
    "version": 3
   },
   "file_extension": ".py",
   "mimetype": "text/x-python",
   "name": "python",
   "nbconvert_exporter": "python",
   "pygments_lexer": "ipython3",
   "version": "3.7.3"
  }
 },
 "nbformat": 4,
 "nbformat_minor": 2
}
