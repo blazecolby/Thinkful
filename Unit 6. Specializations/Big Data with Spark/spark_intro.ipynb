{
  "nbformat": 4,
  "nbformat_minor": 0,
  "metadata": {
    "colab": {
      "name": "spark_intro.ipynb",
      "version": "0.3.2",
      "provenance": []
    },
    "kernelspec": {
      "name": "python3",
      "display_name": "Python 3"
    },
    "accelerator": "GPU"
  },
  "cells": [
    {
      "cell_type": "code",
      "metadata": {
        "id": "E8TwPYlyMElA",
        "colab_type": "code",
        "colab": {
          "base_uri": "https://localhost:8080/",
          "height": 51
        },
        "outputId": "0b9a1bd7-d937-4271-a6bb-ace04f9e75cb"
      },
      "source": [
        "import os\n",
        "!apt-get install openjdk-8-jdk-headless -qq > /dev/null\n",
        "!wget -q http://apache.osuosl.org/spark/spark-2.4.3/spark-2.4.3-bin-hadoop2.7.tgz\n",
        "!tar xf spark-2.4.3-bin-hadoop2.7.tgz\n",
        "os.environ[\"JAVA_HOME\"] = \"/usr/lib/jvm/java-8-openjdk-amd64\"\n",
        "os.environ[\"SPARK_HOME\"] = \"/content/spark-2.4.3-bin-hadoop2.7\"\n",
        "!pip install -q findspark\n",
        "!pip install pyspark"
      ],
      "execution_count": 71,
      "outputs": [
        {
          "output_type": "stream",
          "text": [
            "Requirement already satisfied: pyspark in /usr/local/lib/python3.6/dist-packages (2.4.3)\n",
            "Requirement already satisfied: py4j==0.10.7 in /usr/local/lib/python3.6/dist-packages (from pyspark) (0.10.7)\n"
          ],
          "name": "stdout"
        }
      ]
    },
    {
      "cell_type": "code",
      "metadata": {
        "id": "wU5P1XIYOWQj",
        "colab_type": "code",
        "colab": {}
      },
      "source": [
        "from pyspark import SparkContext # connection to spark cluster\n",
        "from pyspark.sql import SparkSession # entry point to spark sql\n",
        "from pyspark.sql import SQLContext # entry point to structured data\n",
        "from pyspark.sql.functions import UserDefinedFunction\n",
        "from pyspark.sql.types import IntegerType\n",
        "\n",
        "from pyspark.ml.feature import Tokenizer, Word2Vec\n",
        "\n",
        "# these imports are how we build and manager our data science processes: cleaning data, preparing a model,\n",
        "# executing the model, and evaluating the model.\n",
        "from pyspark.ml import Pipeline\n",
        "from pyspark.ml.classification import RandomForestClassifier\n",
        "from pyspark.ml.feature import IndexToString, StringIndexer, VectorIndexer, VectorAssembler\n",
        "from pyspark.ml.evaluation import MulticlassClassificationEvaluator\n",
        "from pyspark.mllib.evaluation import BinaryClassificationMetrics\n",
        "\n",
        "from matplotlib import pyplot as plt\n",
        "import numpy as np\n",
        "import functools\n",
        "%matplotlib inline"
      ],
      "execution_count": 0,
      "outputs": []
    },
    {
      "cell_type": "code",
      "metadata": {
        "id": "jCNZEMYrQNfu",
        "colab_type": "code",
        "colab": {}
      },
      "source": [
        "# we use a set of constants for clarity and simplicity in managing the notebook.\n",
        "# this allows you to refer back to this cell at any time if you need to either confirm or modify any of these values.\n",
        "\n",
        "DATA_NAME = './gdrive/My Drive/Colab_Notebooks/Colab_Datasets/reviews_Beauty_5.json'\n",
        "APP_NAME = \"Sentiment Analysis with Amazon Reviews Exercise\"\n",
        "SPARK_URL = \"local[*]\"\n",
        "RANDOM_SEED = 141107\n",
        "TRAINING_DATA_RATIO = 0.8\n",
        "RF_NUM_TREES = 10\n",
        "RF_MAX_DEPTH = 4\n",
        "RF_NUM_BINS = 32"
      ],
      "execution_count": 0,
      "outputs": []
    },
    {
      "cell_type": "code",
      "metadata": {
        "id": "K3SLbo9oQcMZ",
        "colab_type": "code",
        "colab": {}
      },
      "source": [
        "sc = SparkSession.builder.appName(APP_NAME).master(SPARK_URL).getOrCreate()\n",
        "sqlContext = SQLContext(sc)"
      ],
      "execution_count": 0,
      "outputs": []
    },
    {
      "cell_type": "code",
      "metadata": {
        "id": "A3J5NcdWQd1v",
        "colab_type": "code",
        "colab": {}
      },
      "source": [
        "amznBeauty = sqlContext.read.json(DATA_NAME)\n"
      ],
      "execution_count": 0,
      "outputs": []
    },
    {
      "cell_type": "code",
      "metadata": {
        "id": "Y0tW11PBSZGb",
        "colab_type": "code",
        "colab": {
          "base_uri": "https://localhost:8080/",
          "height": 34
        },
        "outputId": "2b033cc3-be6b-4c70-feda-00b4454b3e9d"
      },
      "source": [
        "\n",
        "print(f\"Dataset shape is {amznBeauty.count():d} rows by {len(amznBeauty.columns):d} columns.\")"
      ],
      "execution_count": 78,
      "outputs": [
        {
          "output_type": "stream",
          "text": [
            "Dataset shape is 198502 rows by 9 columns.\n"
          ],
          "name": "stdout"
        }
      ]
    },
    {
      "cell_type": "code",
      "metadata": {
        "id": "AUKP37fkTJgV",
        "colab_type": "code",
        "colab": {
          "base_uri": "https://localhost:8080/",
          "height": 221
        },
        "outputId": "aab7117a-9337-4ff8-8a1b-60c7fc98f7c3"
      },
      "source": [
        "amznBeauty.printSchema()\n"
      ],
      "execution_count": 79,
      "outputs": [
        {
          "output_type": "stream",
          "text": [
            "root\n",
            " |-- asin: string (nullable = true)\n",
            " |-- helpful: array (nullable = true)\n",
            " |    |-- element: long (containsNull = true)\n",
            " |-- overall: double (nullable = true)\n",
            " |-- reviewText: string (nullable = true)\n",
            " |-- reviewTime: string (nullable = true)\n",
            " |-- reviewerID: string (nullable = true)\n",
            " |-- reviewerName: string (nullable = true)\n",
            " |-- summary: string (nullable = true)\n",
            " |-- unixReviewTime: long (nullable = true)\n",
            "\n"
          ],
          "name": "stdout"
        }
      ]
    },
    {
      "cell_type": "code",
      "metadata": {
        "id": "tg4qp5GmZwiP",
        "colab_type": "code",
        "colab": {}
      },
      "source": [
        "amznBeauty.registerTempTable('reviews')"
      ],
      "execution_count": 0,
      "outputs": []
    },
    {
      "cell_type": "code",
      "metadata": {
        "id": "DtEWEncDZ2gy",
        "colab_type": "code",
        "colab": {
          "base_uri": "https://localhost:8080/",
          "height": 187
        },
        "outputId": "78ef4a3b-dea3-4eaf-b535-cedde6c31285"
      },
      "source": [
        "sqlContext.sql(\"select overall, count(overall) as reviewCount from reviews group by overall order by overall desc\").show()"
      ],
      "execution_count": 81,
      "outputs": [
        {
          "output_type": "stream",
          "text": [
            "+-------+-----------+\n",
            "|overall|reviewCount|\n",
            "+-------+-----------+\n",
            "|    5.0|     114531|\n",
            "|    4.0|      39741|\n",
            "|    3.0|      22248|\n",
            "|    2.0|      11456|\n",
            "|    1.0|      10526|\n",
            "+-------+-----------+\n",
            "\n"
          ],
          "name": "stdout"
        }
      ]
    },
    {
      "cell_type": "code",
      "metadata": {
        "id": "GOXwPQ2qZ9fG",
        "colab_type": "code",
        "colab": {}
      },
      "source": [
        "udf = UserDefinedFunction(lambda x: 1 if x > 3.0 else -1, IntegerType())\n",
        "\n",
        "amznBeauty = amznBeauty.withColumn(\"overall_recode\",udf(amznBeauty.overall))"
      ],
      "execution_count": 0,
      "outputs": []
    },
    {
      "cell_type": "code",
      "metadata": {
        "id": "I85NJKCaaYgL",
        "colab_type": "code",
        "colab": {
          "base_uri": "https://localhost:8080/",
          "height": 461
        },
        "outputId": "15f76c6e-5869-472a-b958-9f44fb5c9062"
      },
      "source": [
        "plt.rcParams['figure.figsize'] = (15, 6)\n",
        " \n",
        "statuses = amznBeauty.groupBy('overall_recode').count().collect()\n",
        "\n",
        "categories = [i[0] for i in statuses]\n",
        "counts = [i[1] for i in statuses]\n",
        " \n",
        "ind = np.array(range(len(categories)))\n",
        "width = 0.35\n",
        "plt.bar(ind, counts, width=width, color='r')\n",
        " \n",
        "plt.ylabel('counts')\n",
        "plt.title('distribution')\n",
        "plt.xticks(ind + width/2., categories)"
      ],
      "execution_count": 84,
      "outputs": [
        {
          "output_type": "execute_result",
          "data": {
            "text/plain": [
              "([<matplotlib.axis.XTick at 0x7fe6e7e88da0>,\n",
              "  <matplotlib.axis.XTick at 0x7fe6e7e88710>],\n",
              " <a list of 2 Text xticklabel objects>)"
            ]
          },
          "metadata": {
            "tags": []
          },
          "execution_count": 84
        },
        {
          "output_type": "display_data",
          "data": {
            "image/png": "[encoded data removed]",
            "text/plain": [
              "<Figure size 1080x432 with 1 Axes>"
            ]
          },
          "metadata": {
            "tags": []
          }
        }
      ]
    },
    {
      "cell_type": "code",
      "metadata": {
        "id": "3Y7lXMu6akQb",
        "colab_type": "code",
        "colab": {
          "base_uri": "https://localhost:8080/",
          "height": 289
        },
        "outputId": "fba6a06a-4ef2-4b7e-f85f-0ef77c4f4ecc"
      },
      "source": [
        "amznBeauty.select(\"overall\", \"overall_recode\", \"summary\", \"reviewText\").show(10)"
      ],
      "execution_count": 85,
      "outputs": [
        {
          "output_type": "stream",
          "text": [
            "+-------+--------------+--------------------+--------------------+\n",
            "|overall|overall_recode|             summary|          reviewText|\n",
            "+-------+--------------+--------------------+--------------------+\n",
            "|    1.0|            -1|Don't waste your ...|Very oily and cre...|\n",
            "|    3.0|            -1|         OK Palette!|This palette was ...|\n",
            "|    4.0|             1|       great quality|The texture of th...|\n",
            "|    2.0|            -1|Do not work on my...|I really can't te...|\n",
            "|    3.0|            -1|          It's okay.|It was a little s...|\n",
            "|    5.0|             1|  Very nice palette!|I was very happy ...|\n",
            "|    1.0|            -1|              smh!!!|PLEASE DONT DO IT...|\n",
            "|    2.0|            -1|Chalky, Not Pigme...|Chalky,Not Pigmen...|\n",
            "|    2.0|            -1|no Lightening, no...|Did nothing for m...|\n",
            "|    3.0|            -1|         Its alright|I bought this pro...|\n",
            "+-------+--------------+--------------------+--------------------+\n",
            "only showing top 10 rows\n",
            "\n"
          ],
          "name": "stdout"
        }
      ]
    },
    {
      "cell_type": "code",
      "metadata": {
        "id": "GB6AFXNKateN",
        "colab_type": "code",
        "colab": {}
      },
      "source": [
        "tokenizer = Tokenizer(inputCol=\"reviewText\", outputCol=\"tokenized_text\").transform(amznBeauty)\n",
        "\n",
        "word2Vec = Word2Vec(vectorSize=300, seed=42, inputCol=\"tokenized_text\", outputCol=\"w2v_vector\").fit(tokenizer)\n",
        "\n",
        "w2vdf=word2Vec.transform(tokenizer)"
      ],
      "execution_count": 0,
      "outputs": []
    },
    {
      "cell_type": "code",
      "metadata": {
        "id": "8BquBefwa036",
        "colab_type": "code",
        "colab": {}
      },
      "source": [
        "w2vdf.printSchema()\n"
      ],
      "execution_count": 0,
      "outputs": []
    },
    {
      "cell_type": "code",
      "metadata": {
        "id": "ESD58sjtbEMS",
        "colab_type": "code",
        "colab": {}
      },
      "source": [
        "w2vdf.select(\"overall_recode\", \"reviewText\", \"tokenized_text\", \"w2v_vector\").show(10)"
      ],
      "execution_count": 0,
      "outputs": []
    },
    {
      "cell_type": "code",
      "metadata": {
        "id": "JiLtcRDmbKEj",
        "colab_type": "code",
        "colab": {}
      },
      "source": [
        "# Build the training indexers/split data/classifier\n",
        "# first we'll generate a labelIndexer\n",
        "labelIndexer = StringIndexer(inputCol=\"overall_recode\", outputCol=\"indexedLabel\").fit(w2vdf)\n",
        "\n",
        "# now generate the indexed feature vector.\n",
        "featureIndexer = VectorIndexer(inputCol=\"w2v_vector\", outputCol=\"indexedFeatures\", maxCategories=4).fit(w2vdf)\n",
        "    \n",
        "# Split the data into training and validation sets (30% held out for testing)\n",
        "(trainingData, testData) = w2vdf.randomSplit([TRAINING_DATA_RATIO, 1 - TRAINING_DATA_RATIO])\n",
        "\n",
        "# Train a RandomForest model.\n",
        "rf = RandomForestClassifier(labelCol=\"indexedLabel\", featuresCol=\"indexedFeatures\", numTrees=RF_NUM_TREES)\n",
        "\n",
        "# Chain indexers and forest in a Pipeline\n",
        "pipeline = Pipeline(stages=[labelIndexer, featureIndexer, rf])"
      ],
      "execution_count": 0,
      "outputs": []
    },
    {
      "cell_type": "code",
      "metadata": {
        "id": "KxEDBA-GbLt1",
        "colab_type": "code",
        "colab": {}
      },
      "source": [
        "# Train model.  This also runs the indexers.\n",
        "model = pipeline.fit(trainingData)\n",
        "\n",
        "# Make predictions.\n",
        "predictions = model.transform(testData)"
      ],
      "execution_count": 0,
      "outputs": []
    },
    {
      "cell_type": "code",
      "metadata": {
        "id": "R45CvAHhbPEn",
        "colab_type": "code",
        "colab": {}
      },
      "source": [
        "# Select (prediction, true label) and compute test error\n",
        "evaluator = MulticlassClassificationEvaluator(\n",
        "    labelCol=\"indexedLabel\", predictionCol=\"prediction\", metricName=\"accuracy\")\n",
        "accuracy = evaluator.evaluate(predictions)\n",
        "\n",
        "print(f\"Test Error = {(1.0 - accuracy):g}\")\n",
        "print(f\"Accuracy = {accuracy:g}\")"
      ],
      "execution_count": 0,
      "outputs": []
    }
  ]
}