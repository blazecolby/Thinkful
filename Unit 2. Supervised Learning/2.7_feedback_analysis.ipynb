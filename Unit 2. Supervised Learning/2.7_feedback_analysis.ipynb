{
 "cells": [
  {
   "cell_type": "code",
   "execution_count": 1,
   "metadata": {
    "ExecuteTime": {
     "end_time": "2019-01-02T22:58:30.946881Z",
     "start_time": "2019-01-02T22:58:28.635015Z"
    }
   },
   "outputs": [],
   "source": [
    "%matplotlib inline\n",
    "import numpy as np\n",
    "import pandas as pd\n",
    "import scipy\n",
    "import sklearn\n",
    "import matplotlib.pyplot as plt\n",
    "import seaborn as sns"
   ]
  },
  {
   "cell_type": "code",
   "execution_count": 2,
   "metadata": {
    "ExecuteTime": {
     "end_time": "2019-01-02T22:58:31.034769Z",
     "start_time": "2019-01-02T22:58:30.952341Z"
    }
   },
   "outputs": [],
   "source": [
    "df = pd.read_csv('imdb.txt', sep =\"\\t\", header=None)\n",
    "df.columns = ['message','good']\n",
    "df = df.replace(0,'bad').replace(1,'good')"
   ]
  },
  {
   "cell_type": "code",
   "execution_count": 3,
   "metadata": {
    "ExecuteTime": {
     "end_time": "2019-01-02T22:58:31.086221Z",
     "start_time": "2019-01-02T22:58:31.040260Z"
    }
   },
   "outputs": [],
   "source": [
    "keywords = ['slow', 'flat', 'disappointed', 'poor', 'crap', 'bad',\n",
    "            'doomed', 'boring', 'no plot', 'awful', 'sucked', 'horrible', 'terrible']\n",
    "\n",
    "for key in keywords:\n",
    "    df[str(key)] = df.message.str.contains(\n",
    "        ' ' + str(key) + ' ',\n",
    "        case=False\n",
    "    )"
   ]
  },
  {
   "cell_type": "code",
   "execution_count": 4,
   "metadata": {
    "ExecuteTime": {
     "end_time": "2019-01-02T22:58:31.611435Z",
     "start_time": "2019-01-02T22:58:31.089717Z"
    }
   },
   "outputs": [
    {
     "data": {
      "text/plain": [
       "<matplotlib.axes._subplots.AxesSubplot at 0xcde6330>"
      ]
     },
     "execution_count": 4,
     "metadata": {},
     "output_type": "execute_result"
    },
    {
     "data": {
      "image/png": "[encoded data removed]",
      "text/plain": [
       "<Figure size 432x288 with 2 Axes>"
      ]
     },
     "metadata": {
      "needs_background": "light"
     },
     "output_type": "display_data"
    }
   ],
   "source": [
    "sns.heatmap(df.corr())"
   ]
  },
  {
   "cell_type": "code",
   "execution_count": 5,
   "metadata": {
    "ExecuteTime": {
     "end_time": "2019-01-02T22:58:31.624217Z",
     "start_time": "2019-01-02T22:58:31.614228Z"
    }
   },
   "outputs": [],
   "source": [
    "df['good'] = (df['good'] == 'good')"
   ]
  },
  {
   "cell_type": "code",
   "execution_count": 6,
   "metadata": {
    "ExecuteTime": {
     "end_time": "2019-01-02T22:58:31.642702Z",
     "start_time": "2019-01-02T22:58:31.628215Z"
    }
   },
   "outputs": [],
   "source": [
    "data = df[keywords]\n",
    "target = df['good']"
   ]
  },
  {
   "cell_type": "code",
   "execution_count": 9,
   "metadata": {
    "ExecuteTime": {
     "end_time": "2019-01-02T23:12:30.511538Z",
     "start_time": "2019-01-02T23:12:30.495056Z"
    }
   },
   "outputs": [
    {
     "name": "stdout",
     "output_type": "stream",
     "text": [
      "Number of bad reviews out of a total of 748 reviews: 313\n"
     ]
    }
   ],
   "source": [
    "from sklearn.naive_bayes import BernoulliNB\n",
    "bnb = BernoulliNB()\n",
    "bnb.fit(data, target)\n",
    "y_pred = bnb.predict(data)\n",
    "print(\"Number of bad reviews out of a total of {} reviews: {}\".format(\n",
    "    data.shape[0],\n",
    "    (target != y_pred).sum()\n",
    "))"
   ]
  },
  {
   "cell_type": "markdown",
   "metadata": {
    "ExecuteTime": {
     "end_time": "2019-01-02T22:58:31.753098Z",
     "start_time": "2019-01-02T22:58:31.739608Z"
    }
   },
   "source": [
    "feature engineering/selection process was done manually. I skimmed through the reviews and looked at words/phrases that were unique to bad reviews."
   ]
  }
 ],
 "metadata": {
  "kernelspec": {
   "display_name": "Python 3",
   "language": "python",
   "name": "python3"
  },
  "language_info": {
   "codemirror_mode": {
    "name": "ipython",
    "version": 3
   },
   "file_extension": ".py",
   "mimetype": "text/x-python",
   "name": "python",
   "nbconvert_exporter": "python",
   "pygments_lexer": "ipython3",
   "version": "3.7.1"
  }
 },
 "nbformat": 4,
 "nbformat_minor": 2
}
