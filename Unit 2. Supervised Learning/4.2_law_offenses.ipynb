{
 "cells": [
  {
   "cell_type": "code",
   "execution_count": 1,
   "metadata": {
    "ExecuteTime": {
     "end_time": "2019-01-10T00:49:40.778774Z",
     "start_time": "2019-01-10T00:49:30.509805Z"
    }
   },
   "outputs": [],
   "source": [
    "import seaborn as sns\n",
    "import matplotlib.pyplot as plt\n",
    "import sklearn\n",
    "import scipy\n",
    "import pandas as pd\n",
    "import numpy as np\n",
    "%matplotlib inline"
   ]
  },
  {
   "cell_type": "code",
   "execution_count": 31,
   "metadata": {
    "ExecuteTime": {
     "end_time": "2019-01-10T02:08:59.158953Z",
     "start_time": "2019-01-10T02:08:59.124981Z"
    }
   },
   "outputs": [],
   "source": [
    "df = pd.read_csv('offenses.csv')\n",
    "df = df.drop([0, 1, 2])\n",
    "df.columns = df.iloc[0]\n",
    "df = df.drop([3, 352, 353, 354])\n",
    "df = df.drop(\"Rape(revised definition)1\", axis=1)\n",
    "df = df.fillna(0)\n",
    "pop = df['Population']\n",
    "pop_sqrd = df['Population']\n",
    "df = df.rename(columns={'Murder and nonnegligent manslaughter': 'Murder'})"
   ]
  },
  {
   "cell_type": "code",
   "execution_count": 62,
   "metadata": {
    "ExecuteTime": {
     "end_time": "2019-01-10T02:56:08.261777Z",
     "start_time": "2019-01-10T02:56:08.252786Z"
    }
   },
   "outputs": [],
   "source": [
    "mrdr = df['Murder'].astype(int) > 0\n",
    "df.loc[mrdr, 'Murder'] = 1"
   ]
  },
  {
   "cell_type": "code",
   "execution_count": 83,
   "metadata": {
    "ExecuteTime": {
     "end_time": "2019-01-10T03:19:15.958103Z",
     "start_time": "2019-01-10T03:19:15.945116Z"
    }
   },
   "outputs": [],
   "source": [
    "df['Robbery'] = df['Robbery'].str.replace(',', '')\n",
    "rob = df['Robbery'].astype(int) > 0\n",
    "df.loc[rob, 'Robber'] = 1"
   ]
  }
 ],
 "metadata": {
  "gist": {
   "data": {
    "description": "offenses.ipynb",
    "public": false
   },
   "id": ""
  },
  "kernelspec": {
   "display_name": "Python 3",
   "language": "python",
   "name": "python3"
  },
  "language_info": {
   "codemirror_mode": {
    "name": "ipython",
    "version": 3
   },
   "file_extension": ".py",
   "mimetype": "text/x-python",
   "name": "python",
   "nbconvert_exporter": "python",
   "pygments_lexer": "ipython3",
   "version": "3.7.1"
  }
 },
 "nbformat": 4,
 "nbformat_minor": 2
}
