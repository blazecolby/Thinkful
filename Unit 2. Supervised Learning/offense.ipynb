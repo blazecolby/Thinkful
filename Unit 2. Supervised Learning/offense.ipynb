{
 "cells": [
  {
   "cell_type": "code",
   "execution_count": 1,
   "metadata": {
    "ExecuteTime": {
     "end_time": "2019-01-20T03:07:01.207244Z",
     "start_time": "2019-01-20T03:07:01.199245Z"
    }
   },
   "outputs": [],
   "source": [
    "import math\n",
    "import scipy\n",
    "import warnings\n",
    "import sklearn\n",
    "import pandas as pd\n",
    "import numpy as np\n",
    "import seaborn as sns\n",
    "from scipy import stats\n",
    "from sklearn import preprocessing, linear_model\n",
    "import matplotlib.pyplot as plt\n",
    "\n",
    "warnings.filterwarnings('ignore')\n",
    "pd.options.display.float_format = '{:.3f}'.format"
   ]
  },
  {
   "cell_type": "code",
   "execution_count": 2,
   "metadata": {
    "ExecuteTime": {
     "end_time": "2019-01-20T03:07:01.671153Z",
     "start_time": "2019-01-20T03:07:01.619129Z"
    }
   },
   "outputs": [],
   "source": [
    "ny_crime_2013 = pd.read_csv('offenses.csv', header=4, skipfooter=3)\n",
    "ny_crime_2013.columns = ['city', 'population', 'violent crime', 'murder', 'rape(new def)', 'rape(old def)', 'robbery','aggrevated assault', 'property crime', 'burglary', 'larceny', 'motor theft', 'arson']\n",
    "df = ny_crime_2013\n",
    "\n",
    "df = df.drop(columns=['city'])\n",
    "#drop non-null column + non-null cells row\n",
    "df = df.drop(labels='rape(new def)', axis=1).dropna().replace(',','', regex=True).astype(float)\n",
    "crime = df['property crime'].astype(float)\n",
    "df = df.drop(columns=['property crime'])"
   ]
  },
  {
   "cell_type": "code",
   "execution_count": 3,
   "metadata": {
    "ExecuteTime": {
     "end_time": "2019-01-19T21:49:27.988890Z",
     "start_time": "2019-01-19T21:49:27.708968Z"
    },
    "cell_style": "center"
   },
   "outputs": [
    {
     "data": {
      "text/plain": [
       "count   187.000\n",
       "mean      8.751\n",
       "std       1.273\n",
       "min       6.265\n",
       "25%       7.694\n",
       "50%       8.778\n",
       "75%       9.687\n",
       "max      12.258\n",
       "Name: population_lg, dtype: float64"
      ]
     },
     "execution_count": 3,
     "metadata": {},
     "output_type": "execute_result"
    },
    {
     "data": {
      "image/png": "[encoded data removed]",
      "text/plain": [
       "<Figure size 432x288 with 1 Axes>"
      ]
     },
     "metadata": {
      "needs_background": "light"
     },
     "output_type": "display_data"
    }
   ],
   "source": [
    "#feature engineering\n",
    "df['population_lg'] = np.log(df['population'])\n",
    "plt.hist(df['population_lg'])\n",
    "df['population_lg'].describe()"
   ]
  },
  {
   "cell_type": "code",
   "execution_count": 4,
   "metadata": {},
   "outputs": [],
   "source": [
    "#feature engineering\n",
    "df['murder'] = np.where(df['murder'] > 0, 1, 0)\n",
    "df['robbery'] = np.where(df['robbery'] > 0, 1, 0)"
   ]
  },
  {
   "cell_type": "code",
   "execution_count": 5,
   "metadata": {
    "ExecuteTime": {
     "end_time": "2019-01-19T22:35:41.072680Z",
     "start_time": "2019-01-19T22:35:40.824457Z"
    },
    "cell_style": "center"
   },
   "outputs": [
    {
     "data": {
      "text/plain": [
       "(array([10., 32., 20., 24., 28., 21., 23., 21.,  5.,  3.]),\n",
       " array([0.        , 0.45641736, 0.91283472, 1.36925208, 1.82566944,\n",
       "        2.2820868 , 2.73850416, 3.19492152, 3.65133888, 4.10775624,\n",
       "        4.5641736 ]),\n",
       " <a list of 10 Patch objects>)"
      ]
     },
     "execution_count": 5,
     "metadata": {},
     "output_type": "execute_result"
    },
    {
     "data": {
      "image/png": "[encoded data removed]",
      "text/plain": [
       "<Figure size 432x288 with 1 Axes>"
      ]
     },
     "metadata": {
      "needs_background": "light"
     },
     "output_type": "display_data"
    }
   ],
   "source": [
    "#feature engineering testing\n",
    "df[\"burglarybxcx\"] = [x if x > 0 else 2 for x in df[\"burglary\"]]\n",
    "xt, _ = stats.boxcox(df['burglarybxcx'])\n",
    "plt.hist(xt)"
   ]
  },
  {
   "cell_type": "code",
   "execution_count": 6,
   "metadata": {
    "ExecuteTime": {
     "end_time": "2019-01-19T22:35:43.503227Z",
     "start_time": "2019-01-19T22:35:43.236988Z"
    },
    "cell_style": "center"
   },
   "outputs": [
    {
     "data": {
      "text/plain": [
       "(array([13.,  9., 29., 33., 31., 30., 22., 13.,  5.,  2.]),\n",
       " array([ 0.        ,  1.02596083,  2.05192167,  3.0778825 ,  4.10384333,\n",
       "         5.12980416,  6.155765  ,  7.18172583,  8.20768666,  9.23364749,\n",
       "        10.25960833]),\n",
       " <a list of 10 Patch objects>)"
      ]
     },
     "execution_count": 6,
     "metadata": {},
     "output_type": "execute_result"
    },
    {
     "data": {
      "image/png": "[encoded data removed]",
      "text/plain": [
       "<Figure size 432x288 with 1 Axes>"
      ]
     },
     "metadata": {
      "needs_background": "light"
     },
     "output_type": "display_data"
    }
   ],
   "source": [
    "#more testing\n",
    "df[\"larcenytheftbxcx\"] = [x if x > 0 else 1 for x in df[\"larceny\"]]\n",
    "xt, _ = stats.boxcox(df['larcenytheftbxcx'])\n",
    "plt.hist(xt)"
   ]
  },
  {
   "cell_type": "code",
   "execution_count": 7,
   "metadata": {
    "ExecuteTime": {
     "end_time": "2019-01-19T22:35:57.117638Z",
     "start_time": "2019-01-19T22:35:57.105644Z"
    }
   },
   "outputs": [],
   "source": [
    "x = df[['murder', 'population', 'robbery']].values\n",
    "scaler = preprocessing.MinMaxScaler()\n",
    "x_scaled = scaler.fit_transform(x)\n",
    "df = pd.DataFrame(x_scaled)"
   ]
  },
  {
   "cell_type": "code",
   "execution_count": 8,
   "metadata": {
    "ExecuteTime": {
     "end_time": "2019-01-20T03:10:21.892676Z",
     "start_time": "2019-01-20T03:10:21.816696Z"
    }
   },
   "outputs": [
    {
     "name": "stdout",
     "output_type": "stream",
     "text": [
      "\n",
      "Coefficients: \n",
      " [[  99.09697351 6454.46548678  -76.40855334]]\n",
      "\n",
      "Intercept: \n",
      " [-71.14262345]\n",
      "\n",
      "R-squared:\n",
      "0.7576739665411549\n"
     ]
    }
   ],
   "source": [
    "regr = linear_model.LinearRegression()\n",
    "Y = crime.values.reshape(-1, 1)\n",
    "X = df\n",
    "regr.fit(X, Y)\n",
    "\n",
    "print('\\nCoefficients: \\n', regr.coef_)\n",
    "print('\\nIntercept: \\n', regr.intercept_)\n",
    "print('\\nR-squared:')\n",
    "print(regr.score(X, Y))"
   ]
  },
  {
   "cell_type": "code",
   "execution_count": 9,
   "metadata": {
    "ExecuteTime": {
     "end_time": "2019-01-19T22:36:12.980131Z",
     "start_time": "2019-01-19T22:36:12.735927Z"
    }
   },
   "outputs": [
    {
     "data": {
      "image/png": "[encoded data removed]",
      "text/plain": [
       "<Figure size 432x288 with 1 Axes>"
      ]
     },
     "metadata": {
      "needs_background": "light"
     },
     "output_type": "display_data"
    }
   ],
   "source": [
    "predicted = regr.predict(X).ravel()\n",
    "actual = crime\n",
    "residual = actual - predicted\n",
    "predicted = predicted\n",
    "plt.hist(residual)\n",
    "plt.title('Residual counts')\n",
    "plt.xlabel('Residual')\n",
    "plt.ylabel('Count')\n",
    "plt.show()"
   ]
  },
  {
   "cell_type": "code",
   "execution_count": 10,
   "metadata": {
    "ExecuteTime": {
     "end_time": "2019-01-19T22:36:21.101170Z",
     "start_time": "2019-01-19T22:36:20.885956Z"
    }
   },
   "outputs": [
    {
     "data": {
      "image/png": "[encoded data removed]",
      "text/plain": [
       "<Figure size 432x288 with 1 Axes>"
      ]
     },
     "metadata": {
      "needs_background": "light"
     },
     "output_type": "display_data"
    }
   ],
   "source": [
    "plt.scatter(predicted, residual)\n",
    "plt.xlabel('Predicted')\n",
    "plt.ylabel('Residual')\n",
    "plt.axhline(y=0)\n",
    "plt.title('Residual vs. Predicted')\n",
    "plt.show()"
   ]
  },
  {
   "cell_type": "code",
   "execution_count": 11,
   "metadata": {
    "ExecuteTime": {
     "end_time": "2019-01-19T22:36:21.393089Z",
     "start_time": "2019-01-19T22:36:21.369092Z"
    }
   },
   "outputs": [
    {
     "data": {
      "text/html": [
       "<div>\n",
       "<style scoped>\n",
       "    .dataframe tbody tr th:only-of-type {\n",
       "        vertical-align: middle;\n",
       "    }\n",
       "\n",
       "    .dataframe tbody tr th {\n",
       "        vertical-align: top;\n",
       "    }\n",
       "\n",
       "    .dataframe thead th {\n",
       "        text-align: right;\n",
       "    }\n",
       "</style>\n",
       "<table border=\"1\" class=\"dataframe\">\n",
       "  <thead>\n",
       "    <tr style=\"text-align: right;\">\n",
       "      <th></th>\n",
       "      <th>0</th>\n",
       "      <th>1</th>\n",
       "      <th>2</th>\n",
       "    </tr>\n",
       "  </thead>\n",
       "  <tbody>\n",
       "    <tr>\n",
       "      <th>0</th>\n",
       "      <td>1.000</td>\n",
       "      <td>0.559</td>\n",
       "      <td>0.354</td>\n",
       "    </tr>\n",
       "    <tr>\n",
       "      <th>1</th>\n",
       "      <td>0.559</td>\n",
       "      <td>1.000</td>\n",
       "      <td>0.387</td>\n",
       "    </tr>\n",
       "    <tr>\n",
       "      <th>2</th>\n",
       "      <td>0.354</td>\n",
       "      <td>0.387</td>\n",
       "      <td>1.000</td>\n",
       "    </tr>\n",
       "  </tbody>\n",
       "</table>\n",
       "</div>"
      ],
      "text/plain": [
       "      0     1     2\n",
       "0 1.000 0.559 0.354\n",
       "1 0.559 1.000 0.387\n",
       "2 0.354 0.387 1.000"
      ]
     },
     "metadata": {},
     "output_type": "display_data"
    }
   ],
   "source": [
    "correlation_matrix = X.corr()\n",
    "display(correlation_matrix)"
   ]
  }
 ],
 "metadata": {
  "gist": {
   "data": {
    "description": "offenses.ipynb",
    "public": false
   },
   "id": ""
  },
  "kernelspec": {
   "display_name": "Python 3",
   "language": "python",
   "name": "python3"
  },
  "language_info": {
   "codemirror_mode": {
    "name": "ipython",
    "version": 3
   },
   "file_extension": ".py",
   "mimetype": "text/x-python",
   "name": "python",
   "nbconvert_exporter": "python",
   "pygments_lexer": "ipython3",
   "version": "3.7.1"
  }
 },
 "nbformat": 4,
 "nbformat_minor": 2
}
