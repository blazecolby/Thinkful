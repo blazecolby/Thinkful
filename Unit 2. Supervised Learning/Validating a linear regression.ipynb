{
 "cells": [
  {
   "cell_type": "code",
   "execution_count": 1,
   "metadata": {
    "ExecuteTime": {
     "end_time": "2019-01-28T02:09:11.639995Z",
     "start_time": "2019-01-28T02:09:08.874568Z"
    }
   },
   "outputs": [],
   "source": [
    "from statsmodels.sandbox.regression.predstd import wls_prediction_std\n",
    "from sklearn import linear_model, preprocessing\n",
    "import statsmodels.formula.api as smf\n",
    "from sklearn.metrics import mean_squared_error, r2_score\n",
    "from sklearn.model_selection import cross_val_score, train_test_split\n",
    "from sklearn import datasets, linear_model\n",
    "import math\n",
    "import scipy\n",
    "import warnings\n",
    "import sklearn\n",
    "import pandas as pd\n",
    "import numpy as np\n",
    "import seaborn as sns\n",
    "from scipy import stats\n",
    "import random\n",
    "import matplotlib.pyplot as plt\n",
    "%matplotlib inline\n",
    "pd.options.display.float_format = '{:.3f}'.format\n",
    "warnings.filterwarnings('ignore')"
   ]
  },
  {
   "cell_type": "code",
   "execution_count": 2,
   "metadata": {
    "ExecuteTime": {
     "end_time": "2019-01-28T02:09:12.258109Z",
     "start_time": "2019-01-28T02:09:11.644989Z"
    }
   },
   "outputs": [],
   "source": [
    "df13 = pd.read_csv('https://raw.githubusercontent.com/Thinkful-Ed/data-201-resources/master/New_York_offenses/NEW_YORK-Offenses_Known_to_Law_Enforcement_by_City_2013%20-%2013tbl8ny.csv', header=4, skipfooter=3)\n",
    "df14 = pd.read_csv('offenses_14.csv', header=4, skipfooter=3)\n",
    "\n",
    "df13.columns = ['city', 'population', 'violent_crime', 'murder','rape(new def)', 'rape', 'robbery', 'aggrevated_assault', 'propertycrime', 'burglary', 'larceny', 'motor_theft', 'arson']\n",
    "df14.columns = ['city', 'population', 'violent_crime', 'murder','rape(new def)', 'rape', 'robbery', 'aggrevated_assault', 'propertycrime', 'burglary', 'larceny', 'motor_theft', 'arson']\n",
    "\n",
    "df13 = df13.drop(columns=['city','rape(new def)', 'arson']).replace(',', '', regex=True).dropna().astype(float)\n",
    "df14 = df14.drop(columns=['city','rape(new def)', 'arson']).replace(',', '', regex=True).fillna(0).astype(float)\n",
    "\n",
    "df13['population_sq'] = df13['population']**2\n",
    "df14['population_sq'] = df14['population']**2\n",
    "\n",
    "df13 = df13[['population', 'population_sq', 'murder', 'robbery', 'propertycrime']]\n",
    "df14 = df14[['population', 'population_sq', 'murder', 'robbery', 'propertycrime']]\n",
    "\n",
    "df14 = df14.sample(frac=.933)"
   ]
  },
  {
   "cell_type": "code",
   "execution_count": 3,
   "metadata": {
    "ExecuteTime": {
     "end_time": "2019-01-28T02:09:12.277086Z",
     "start_time": "2019-01-28T02:09:12.262087Z"
    },
    "cell_style": "split"
   },
   "outputs": [],
   "source": [
    "p_outlier = df13['population'].median() + 2 * df13['population'].std()\n",
    "m_outlier = df13['murder'].median() + 2 * df13['murder'].std()\n",
    "r_outlier = df13['robbery'].median() + 2 * df13['robbery'].std()\n",
    "pc_outlier = df13['propertycrime'].median() + 2 * df13['propertycrime'].std()"
   ]
  },
  {
   "cell_type": "code",
   "execution_count": 4,
   "metadata": {
    "ExecuteTime": {
     "end_time": "2019-01-28T02:09:12.295056Z",
     "start_time": "2019-01-28T02:09:12.279070Z"
    },
    "cell_style": "split"
   },
   "outputs": [],
   "source": [
    "p_outlier = df14['population'].median() + 2 * df14['population'].std()\n",
    "m_outlier = df14['murder'].median() + 2 * df14['murder'].std()\n",
    "r_outlier = df14['robbery'].median() + 2 * df14['robbery'].std()\n",
    "pc_outlier = df14['propertycrime'].median() + 2 * df14['propertycrime'].std()"
   ]
  },
  {
   "cell_type": "code",
   "execution_count": 5,
   "metadata": {
    "ExecuteTime": {
     "end_time": "2019-01-28T02:09:12.357007Z",
     "start_time": "2019-01-28T02:09:12.299055Z"
    },
    "cell_style": "split",
    "scrolled": true
   },
   "outputs": [],
   "source": [
    "df13['population'] = df13['population'].map(lambda x: x if x < p_outlier else 900000)\n",
    "df13['murder'] = df13['murder'].map(lambda x: x if x < m_outlier else 36)\n",
    "df13['robbery'] = df13['robbery'].map(lambda x: x if x < r_outlier else 2000)\n",
    "df13['propertycrime'] = df13['propertycrime'].map(lambda x: x if x < pc_outlier else 15000)\n",
    "df13['murder_bl'] = np.where(df13['murder'] > 0, 1, 0)\n",
    "df13['robbery_bl'] = np.where(df13['robbery'] > 0, 1, 0)\n",
    "df13 = df13[['population', 'population_sq', 'murder','robbery', 'propertycrime', 'murder_bl', 'robbery_bl']]"
   ]
  },
  {
   "cell_type": "code",
   "execution_count": 6,
   "metadata": {
    "ExecuteTime": {
     "end_time": "2019-01-28T02:09:12.377982Z",
     "start_time": "2019-01-28T02:09:12.358997Z"
    },
    "cell_style": "split"
   },
   "outputs": [],
   "source": [
    "df14['population'] = df14['population'].map(lambda x: x if x < p_outlier else 900000)\n",
    "df14['murder'] = df14['murder'].map(lambda x: x if x < m_outlier else 36)\n",
    "df14['robbery'] = df14['robbery'].map(lambda x: x if x < r_outlier else 2000)\n",
    "df14['propertycrime'] = df14['propertycrime'].map(lambda x: x if x < pc_outlier else 15000)\n",
    "df14['murder_bl'] = np.where(df14['murder'] > 0, 1, 0)\n",
    "df14['robbery_bl'] = np.where(df14['robbery'] > 0, 1, 0)\n",
    "df14 = df14[['population', 'population_sq', 'murder','robbery', 'propertycrime', 'murder_bl', 'robbery_bl']]"
   ]
  },
  {
   "cell_type": "code",
   "execution_count": 7,
   "metadata": {
    "ExecuteTime": {
     "end_time": "2019-01-28T02:09:12.394969Z",
     "start_time": "2019-01-28T02:09:12.379976Z"
    },
    "cell_style": "split"
   },
   "outputs": [],
   "source": [
    "regr1 = linear_model.LinearRegression()\n",
    "y1 = df13[['propertycrime']]\n",
    "X1 = df13[['population', 'population_sq', 'murder_bl', 'robbery_bl']]\n",
    "regr1 = regr1.fit(X1, y1)"
   ]
  },
  {
   "cell_type": "code",
   "execution_count": 8,
   "metadata": {
    "ExecuteTime": {
     "end_time": "2019-01-28T02:09:12.413947Z",
     "start_time": "2019-01-28T02:09:12.397961Z"
    },
    "cell_style": "split"
   },
   "outputs": [],
   "source": [
    "regr2 = linear_model.LinearRegression()\n",
    "y2 = df14[['propertycrime']]\n",
    "X2 = df14[['population', 'population_sq', 'murder_bl', 'robbery_bl']]\n",
    "regr2 = regr2.fit(X2, y2)"
   ]
  },
  {
   "cell_type": "code",
   "execution_count": 9,
   "metadata": {
    "ExecuteTime": {
     "end_time": "2019-01-28T02:09:12.444917Z",
     "start_time": "2019-01-28T02:09:12.416947Z"
    },
    "cell_style": "split"
   },
   "outputs": [
    {
     "name": "stdout",
     "output_type": "stream",
     "text": [
      "20% Holdout: 0.8472102359190959\n",
      "Test on Sample: 0.8658812863422006\n"
     ]
    }
   ],
   "source": [
    "X_train1, X_test1, y_train1, y_test1 = train_test_split(X1, y1, test_size=0.2, random_state=20)\n",
    "print('20% Holdout:', str(regr1.fit(X_train1, y_train1).score(X_train1, y_train1)))\n",
    "print('Test on Sample:', str(regr1.fit(X1, y1).score(X1, y1)))"
   ]
  },
  {
   "cell_type": "code",
   "execution_count": 10,
   "metadata": {
    "ExecuteTime": {
     "end_time": "2019-01-28T02:09:12.475888Z",
     "start_time": "2019-01-28T02:09:12.447915Z"
    },
    "cell_style": "split"
   },
   "outputs": [
    {
     "name": "stdout",
     "output_type": "stream",
     "text": [
      "20% Holdout: 0.8712164708676707\n",
      "Test on Sample: 0.8662173350867853\n"
     ]
    }
   ],
   "source": [
    "X_train2, X_test2, y_train2, y_test2 = train_test_split(X2, y2, test_size=0.2, random_state=20)\n",
    "print('20% Holdout:', str(regr2.fit(X_train2, y_train2).score(X_train2, y_train2)))\n",
    "print('Test on Sample:', str(regr2.fit(X2, y2).score(X2, y2)))"
   ]
  },
  {
   "cell_type": "code",
   "execution_count": 11,
   "metadata": {
    "ExecuteTime": {
     "end_time": "2019-01-28T02:09:12.547822Z",
     "start_time": "2019-01-28T02:09:12.478887Z"
    },
    "cell_style": "split"
   },
   "outputs": [
    {
     "name": "stdout",
     "output_type": "stream",
     "text": [
      "Coefficients: [[ 3.44157767e-02 -2.23888124e-10  1.43562879e+01 -9.44786464e+01]]\n",
      "\n",
      "CV: [ 8.25565728e-01  4.77427616e-01 -2.82479184e+05  7.25545201e-01]\n",
      "\n",
      "R Squared: [ 8.25565728e-01  4.77427616e-01 -2.82479184e+05  7.25545201e-01] \n",
      "Mean: -70619.2889146158 \n",
      "Std: 122317.36757184095\n"
     ]
    }
   ],
   "source": [
    "cv_scores1 = cross_val_score(regr1, X1, y1, cv=4)\n",
    "cv_r21 = cross_val_score(regr1, X1, y1, cv=4, scoring='r2')\n",
    "print(\"Coefficients:\", regr1.coef_)\n",
    "print(\"\\nCV:\", cv_scores1)\n",
    "print(\"\\nR Squared:\", cv_r21, \"\\nMean:\", cv_r21.mean(), \"\\nStd:\", cv_r21.std())"
   ]
  },
  {
   "cell_type": "code",
   "execution_count": 12,
   "metadata": {
    "ExecuteTime": {
     "end_time": "2019-01-28T02:09:12.623751Z",
     "start_time": "2019-01-28T02:09:12.556814Z"
    },
    "cell_style": "split"
   },
   "outputs": [
    {
     "name": "stdout",
     "output_type": "stream",
     "text": [
      "Coefficients: [[ 3.24644697e-02 -1.95120694e-10  9.62487082e+00 -1.18016945e+02]]\n",
      "\n",
      "CV: [ 7.97290750e-01 -5.94719293e-01 -3.49427245e+05  6.66908099e-01]\n",
      "\n",
      "R Squared: [ 7.97290750e-01 -5.94719293e-01 -3.49427245e+05  6.66908099e-01] \n",
      "Mean: -87356.59382010742 \n",
      "Std: 151306.5608678155\n"
     ]
    }
   ],
   "source": [
    "cv_scores2 = cross_val_score(regr2, X2, y2, cv=4)\n",
    "cv_r22 = cross_val_score(regr2, X2, y2, cv=4, scoring='r2')\n",
    "print(\"Coefficients:\", regr2.coef_)\n",
    "print(\"\\nCV:\", cv_scores2)\n",
    "print(\"\\nR Squared:\", cv_r22, \"\\nMean:\", cv_r22.mean(), \"\\nStd:\", cv_r22.std())"
   ]
  },
  {
   "cell_type": "code",
   "execution_count": null,
   "metadata": {},
   "outputs": [],
   "source": []
  }
 ],
 "metadata": {
  "kernelspec": {
   "display_name": "Python 3",
   "language": "python",
   "name": "python3"
  },
  "language_info": {
   "codemirror_mode": {
    "name": "ipython",
    "version": 3
   },
   "file_extension": ".py",
   "mimetype": "text/x-python",
   "name": "python",
   "nbconvert_exporter": "python",
   "pygments_lexer": "ipython3",
   "version": "3.7.1"
  }
 },
 "nbformat": 4,
 "nbformat_minor": 2
}
